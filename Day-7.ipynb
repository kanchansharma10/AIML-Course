{
 "cells": [
  {
   "cell_type": "markdown",
   "id": "70b4302a",
   "metadata": {},
   "source": [
    "<div style=\"background-color:rgb(116, 3, 3); padding: 10px; height: 70px; border-radius: 15px;\">\n",
    "    <div style=\"font-family: 'Georgia', serif; font-size: 20px; padding: 10px; text-align: right; position: absolute; right: 20px;\">\n",
    "        Kanchan Sharma <br>\n",
    "        <span style=\"font-family: 'Arial', sans-serif;font-size: 12px; color: #0a0a0a;\">Tech Skills Trainee | AI/ML Bootcamp</span> \n",
    "    </div>\n",
    "</div>"
   ]
  },
  {
   "cell_type": "markdown",
   "id": "a62365bc",
   "metadata": {},
   "source": [
    "<div style=\"background-color: #002147; padding: 10px; text-align: center; color: white; font-size: 32px; font-family: 'Arial', sans-serif;\">\n",
    " While Loop  <br>\n",
    "    <h3 style=\"text-align: center; color: white; font-size: 15px; font-family: 'Arial', sans-serif;\"></h3>\n",
    "</div>"
   ]
  },
  {
   "cell_type": "markdown",
   "id": "ff938826",
   "metadata": {},
   "source": [
    "\n",
    "In Python, a while loop is used to repeatedly execute a block of code as long as a given condition is True"
   ]
  },
  {
   "cell_type": "raw",
   "id": "755a8bba",
   "metadata": {
    "vscode": {
     "languageId": "raw"
    }
   },
   "source": [
    "while condition:\n",
    "    # Code block (indented)\n"
   ]
  },
  {
   "cell_type": "markdown",
   "id": "05d905a1",
   "metadata": {},
   "source": [
    "condition: Any expression that evaluates to True or False.\n",
    "\n",
    "The code block runs only if the condition is True.\n",
    "\n",
    "The moment it becomes False, the loop stops."
   ]
  },
  {
   "cell_type": "code",
   "execution_count": 2,
   "id": "f61bb556",
   "metadata": {},
   "outputs": [
    {
     "name": "stdout",
     "output_type": "stream",
     "text": [
      "Current number: 1\n",
      "Current number: 2\n",
      "Current number: 3\n",
      "Current number: 4\n",
      "Current number: 5\n"
     ]
    }
   ],
   "source": [
    "number = 1\n",
    "while number <= 5:\n",
    "    print(\"Current number:\", number)\n",
    "    number += 1\n"
   ]
  },
  {
   "cell_type": "markdown",
   "id": "fac4dc8d",
   "metadata": {},
   "source": [
    "\n",
    "We start with number = 1\n",
    "\n",
    "As long as number <= 5, we:\n",
    "\n",
    "Print the number\n",
    "\n",
    "Add 1 to it (number += 1)\n",
    "\n",
    "Once number becomes 6, the condition number <= 5 becomes False, so the loop ends"
   ]
  },
  {
   "cell_type": "markdown",
   "id": "21d51d70",
   "metadata": {},
   "source": [
    "# Infinite Loop Warning\n",
    "If the condition never becomes False, the loop keeps running forever, unless interrupted (Ctrl+C or similar). This is called an infinite loop."
   ]
  },
  {
   "cell_type": "code",
   "execution_count": null,
   "id": "837110e6",
   "metadata": {},
   "outputs": [],
   "source": [
    "while True:\n",
    "    print(\"This will go on forever!\")\n"
   ]
  },
  {
   "cell_type": "code",
   "execution_count": null,
   "id": "fb429bd8",
   "metadata": {},
   "outputs": [],
   "source": [
    "number = 1\n",
    "while number <= 5:\n",
    "    print(number)\n",
    "    # Forgot to do: number += 1\n"
   ]
  },
  {
   "cell_type": "markdown",
   "id": "c59c2c5c",
   "metadata": {},
   "source": [
    "\n",
    "# Using break to exit a while loop"
   ]
  },
  {
   "cell_type": "code",
   "execution_count": 1,
   "id": "bf1083ac",
   "metadata": {},
   "outputs": [
    {
     "name": "stdout",
     "output_type": "stream",
     "text": [
      "0\n",
      "1\n",
      "2\n"
     ]
    }
   ],
   "source": [
    "x = 0\n",
    "while True:\n",
    "    if x == 3:\n",
    "        break\n",
    "    print(x)\n",
    "    x += 1\n"
   ]
  },
  {
   "cell_type": "markdown",
   "id": "1568d667",
   "metadata": {},
   "source": [
    "\n",
    "#  Using continue to skip part of the loop\n"
   ]
  },
  {
   "cell_type": "code",
   "execution_count": 3,
   "id": "5e8e90bd",
   "metadata": {},
   "outputs": [
    {
     "name": "stdout",
     "output_type": "stream",
     "text": [
      "1\n",
      "2\n",
      "4\n",
      "5\n"
     ]
    }
   ],
   "source": [
    "x = 0\n",
    "while x < 5:\n",
    "    x += 1\n",
    "    if x == 3:\n",
    "        continue\n",
    "    print(x)\n"
   ]
  },
  {
   "cell_type": "markdown",
   "id": "12925b4a",
   "metadata": {},
   "source": [
    "# Common Use Cases\n",
    "1. User Input Validation:"
   ]
  },
  {
   "cell_type": "code",
   "execution_count": 5,
   "id": "58b2a7b2",
   "metadata": {},
   "outputs": [
    {
     "name": "stdout",
     "output_type": "stream",
     "text": [
      "Access granted!\n"
     ]
    }
   ],
   "source": [
    "password = \"\"\n",
    "while password != \"secret\":\n",
    "    password = input(\"Enter password: \")\n",
    "print(\"Access granted!\")\n"
   ]
  },
  {
   "cell_type": "markdown",
   "id": "5c24a36d",
   "metadata": {},
   "source": [
    "2. data until a condition"
   ]
  },
  {
   "cell_type": "code",
   "execution_count": 7,
   "id": "9637d622",
   "metadata": {},
   "outputs": [
    {
     "name": "stdout",
     "output_type": "stream",
     "text": [
      "1\n",
      "2\n",
      "3\n"
     ]
    }
   ],
   "source": [
    "data = [1, 2, 3, -1, 4]\n",
    "i = 0\n",
    "while i < len(data) and data[i] >= 0:\n",
    "    print(data[i])\n",
    "    i += 1\n"
   ]
  },
  {
   "cell_type": "raw",
   "id": "d2aa00ba",
   "metadata": {},
   "source": [
    "\n",
    "while vs for loop\n",
    "\n",
    "Feature \t              while loop\t                 for loop\n",
    "Use case\t          Unknown # of iterations\t    Known # of iterations\n",
    "Condition-based             \tYes            \t     No (uses iterator)\n",
    "Infinite loops\t          Easy to write\t               Less common"
   ]
  },
  {
   "cell_type": "code",
   "execution_count": 8,
   "id": "97084961",
   "metadata": {},
   "outputs": [
    {
     "name": "stdout",
     "output_type": "stream",
     "text": [
      "1\n",
      "2\n",
      "3\n",
      "4\n",
      "5\n",
      "6\n",
      "7\n",
      "8\n",
      "9\n",
      "10\n"
     ]
    }
   ],
   "source": [
    "#  1. Print numbers from 1 to 10\n",
    "i = 1\n",
    "while i<= 10:\n",
    "    print(i)\n",
    "    i += 1"
   ]
  },
  {
   "cell_type": "code",
   "execution_count": 11,
   "id": "8a56d591",
   "metadata": {},
   "outputs": [
    {
     "name": "stdout",
     "output_type": "stream",
     "text": [
      "Sum = 36\n"
     ]
    }
   ],
   "source": [
    "# 2. Sum of numbers from 1 to N\n",
    "n = int(input(\"Enter a number: \"))\n",
    "total = 0\n",
    "i = 1\n",
    "\n",
    "while i <= n:\n",
    "    total += i\n",
    "    i += 1\n",
    "\n",
    "print(\"Sum =\", total)\n"
   ]
  },
  {
   "cell_type": "code",
   "execution_count": 12,
   "id": "1894b5b4",
   "metadata": {},
   "outputs": [
    {
     "name": "stdout",
     "output_type": "stream",
     "text": [
      "Factorial = 40320\n"
     ]
    }
   ],
   "source": [
    "# 3. factorial of a number\n",
    "n = int(input(\"Enter a number: \"))\n",
    "fact = 1\n",
    "i = 1\n",
    "\n",
    "while i <= n:\n",
    "    fact *= i\n",
    "    i += 1\n",
    "\n",
    "print(\"Factorial =\", fact)\n"
   ]
  },
  {
   "cell_type": "code",
   "execution_count": 15,
   "id": "42efe02f",
   "metadata": {},
   "outputs": [
    {
     "name": "stdout",
     "output_type": "stream",
     "text": [
      "Reversed number: 8\n"
     ]
    }
   ],
   "source": [
    "# 4. Reverse a number\n",
    "num = int(input(\"Enter a number: \"))\n",
    "rev = 0\n",
    "\n",
    "while num > 0:\n",
    "    digit = num % 10\n",
    "    rev = rev * 10 + digit\n",
    "    num //= 10\n",
    "\n",
    "print(\"Reversed number:\", rev)\n"
   ]
  },
  {
   "cell_type": "code",
   "execution_count": 18,
   "id": "8ecded7f",
   "metadata": {},
   "outputs": [
    {
     "name": "stdout",
     "output_type": "stream",
     "text": [
      "Palindrome\n"
     ]
    }
   ],
   "source": [
    "# 5. Check if a number is a palindrome\n",
    "num = int(input(\"Enter a number: \"))\n",
    "original = num\n",
    "rev = 0\n",
    "\n",
    "while num > 0:\n",
    "    digit = num % 10\n",
    "    rev = rev * 10 + digit\n",
    "    num //= 10\n",
    "\n",
    "if original == rev:\n",
    "    print(\"Palindrome\")\n",
    "else:\n",
    "    print(\"Not a palindrome\")\n"
   ]
  },
  {
   "cell_type": "code",
   "execution_count": 16,
   "id": "770c337f",
   "metadata": {},
   "outputs": [
    {
     "name": "stdout",
     "output_type": "stream",
     "text": [
      "Access granted!\n"
     ]
    }
   ],
   "source": [
    "\n",
    "# 6. Password checker with limited attempts\n",
    "correct_password = \"python123\"\n",
    "attempts = 3\n",
    "\n",
    "while attempts > 0:\n",
    "    pwd = input(\"Enter password: \")\n",
    "    if pwd == correct_password:\n",
    "        print(\"Access granted!\")\n",
    "        break\n",
    "    else:\n",
    "        print(\"Wrong password. Attempts left:\", attempts - 1)\n",
    "        attempts -= 1\n",
    "\n",
    "if attempts == 0:\n",
    "    print(\"Access denied.\")\n"
   ]
  },
  {
   "cell_type": "code",
   "execution_count": 17,
   "id": "cdc897c7",
   "metadata": {},
   "outputs": [
    {
     "name": "stdout",
     "output_type": "stream",
     "text": [
      "8 x 1 = 8\n",
      "8 x 2 = 16\n",
      "8 x 3 = 24\n",
      "8 x 4 = 32\n",
      "8 x 5 = 40\n",
      "8 x 6 = 48\n",
      "8 x 7 = 56\n",
      "8 x 8 = 64\n",
      "8 x 9 = 72\n",
      "8 x 10 = 80\n"
     ]
    }
   ],
   "source": [
    "# 7. Multiplication table\n",
    "num = int(input(\"Enter a number: \"))\n",
    "i = 1\n",
    "\n",
    "while i <= 10:\n",
    "    print(f\"{num} x {i} = {num * i}\")\n",
    "    i += 1\n"
   ]
  },
  {
   "cell_type": "markdown",
   "id": "7abd8540",
   "metadata": {},
   "source": [
    "\n",
    "<div style=\"background-color: green; color: #fff; padding: 30px; text-align: center;\">\n",
    "    <h1>END!\n",
    "        <!--- Devashish Kumar | Tech Skills Trainer | CodroidHub Private Limited | AI/ML Consultant --->\n",
    "</h1> </div>"
   ]
  },
  {
   "cell_type": "markdown",
   "id": "bfa2d796",
   "metadata": {},
   "source": [
    "<div style=\"background-color: #002147; color: #fff; padding: 30px; text-align: center;\">\n",
    "    <h1>THANK YOU!\n",
    "        <!--- Devashish Kumar | Tech Skills Trainer | CodroidHub Private Limited | AI/ML Consultant --->\n",
    "</h1> </div>"
   ]
  },
  {
   "cell_type": "markdown",
   "id": "b5d85276",
   "metadata": {},
   "source": []
  }
 ],
 "metadata": {
  "kernelspec": {
   "display_name": "base",
   "language": "python",
   "name": "python3"
  },
  "language_info": {
   "codemirror_mode": {
    "name": "ipython",
    "version": 3
   },
   "file_extension": ".py",
   "mimetype": "text/x-python",
   "name": "python",
   "nbconvert_exporter": "python",
   "pygments_lexer": "ipython3",
   "version": "3.12.4"
  }
 },
 "nbformat": 4,
 "nbformat_minor": 5
}
