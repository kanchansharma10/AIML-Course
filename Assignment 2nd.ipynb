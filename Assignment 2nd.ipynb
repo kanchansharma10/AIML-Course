{
 "cells": [
  {
   "cell_type": "markdown",
   "id": "e33dd783",
   "metadata": {},
   "source": [
    "<div style=\"background-color: #add8e6; padding: 10px; height: 70px; border-radius: 15px;\">\n",
    "    <div style=\"font-family: 'Georgia', serif; font-size: 20px; padding: 10px; text-align: right; position: absolute; right: 20px;\">\n",
    "        Kanchan Sharma <br>\n",
    "        <span style=\"font-family: 'Arial', sans-serif;font-size: 12px; color: #0a0a0a;\">Tech Skills Trainee | AI/ML Bootcamp</span> \n",
    "    </div>\n",
    "</div>"
   ]
  },
  {
   "cell_type": "markdown",
   "id": "89bcc502",
   "metadata": {},
   "source": [
    "<div style=\"background-color: #002147; padding: 10px; text-align: center; color: white; font-size: 32px; font-family: 'Arial', sans-serif;\">\n",
    "  Assignment 2nd  <br>\n",
    "    <h3 style=\"text-align: center; color: white; font-size: 15px; font-family: 'Arial', sans-serif;\"></h3>\n",
    "</div>"
   ]
  },
  {
   "cell_type": "markdown",
   "id": "a3286044",
   "metadata": {},
   "source": [
    "1- Calculate and print the total price of all the products including tax\n",
    "\n",
    "Scenario: You are managing an online store. A customer buys three products with prices $30.99, $45.50, and $60.00. The tax rate is 8%. Write a Python script to calculate and print the total price of all the products including tax.\n"
   ]
  },
  {
   "cell_type": "code",
   "execution_count": 1,
   "id": "d696142d",
   "metadata": {},
   "outputs": [
    {
     "name": "stdout",
     "output_type": "stream",
     "text": [
      "136.49\n",
      "10.919200000000002\n",
      "147.4092\n"
     ]
    }
   ],
   "source": [
    "pp1 = 30.99\n",
    "pp2 = 45.50\n",
    "pp3 = 60.00\n",
    "tax = 0.08\n",
    "sum = pp1+pp2+pp3\n",
    "print(sum)\n",
    "tax_amt = sum*tax\n",
    "print(tax_amt)\n",
    "total_price = sum+tax_amt\n",
    "print(total_price)"
   ]
  },
  {
   "cell_type": "markdown",
   "id": "c40f010d",
   "metadata": {},
   "source": [
    "2-Calculate the Average Score of Students (Arithmetic Operators)\n",
    "\n",
    "Scenario: You have the scores of 5 students in a class. The scores are stored in a list: [85, 90, 78, 92, 88]. Write a Python script to calculate and print the average score.\n"
   ]
  },
  {
   "cell_type": "code",
   "execution_count": 2,
   "id": "27147c08",
   "metadata": {},
   "outputs": [
    {
     "name": "stdout",
     "output_type": "stream",
     "text": [
      "433\n",
      "86.6\n"
     ]
    }
   ],
   "source": [
    "score = [85, 90, 78, 92, 88]\n",
    "total = sum(score)\n",
    "print(total)\n",
    "num = len(score)\n",
    "avg = total/num\n",
    "print(avg)"
   ]
  },
  {
   "cell_type": "markdown",
   "id": "bbb725eb",
   "metadata": {},
   "source": [
    "3- Get the Minimum and Maximum Salary (List Operations)\n",
    "\n",
    "Scenario: You are managing employee salaries in a company. The salaries are stored in a list: [50000, 60000, 75000, 30000, 55000]. Write a Python script to find the minimum and maximum salary.\n"
   ]
  },
  {
   "cell_type": "code",
   "execution_count": 3,
   "id": "13eaba39",
   "metadata": {},
   "outputs": [
    {
     "name": "stdout",
     "output_type": "stream",
     "text": [
      "30000\n",
      "75000\n"
     ]
    }
   ],
   "source": [
    "salary = [50000,60000,75000,30000,55000]\n",
    "print(min(salary))\n",
    "print(max(salary))\n"
   ]
  },
  {
   "cell_type": "markdown",
   "id": "522830bb",
   "metadata": {},
   "source": [
    "4. Find the Length of a Tuple (Tuple Operations)\n",
    "\n",
    "Scenario: You have a tuple containing information about a product: ('Laptop', 1200, 8, 'Dell'). Write a Python script to find the length of this tuple.\n"
   ]
  },
  {
   "cell_type": "code",
   "execution_count": 5,
   "id": "5614e055",
   "metadata": {},
   "outputs": [
    {
     "name": "stdout",
     "output_type": "stream",
     "text": [
      "4\n"
     ]
    }
   ],
   "source": [
    "product = ('Laptop',1200,8,'Dell')\n",
    "print(len(product))"
   ]
  },
  {
   "cell_type": "markdown",
   "id": "d9f72b13",
   "metadata": {},
   "source": [
    "5. Convert a List to a Set and Remove Duplicates (Set Operations)\n",
    "\n",
    "Scenario: You have a list of email addresses with duplicates: ['alice@example.com', 'bob@example.com', 'alice@example.com', 'john@example.com']. Write a Python script to convert this list to a set and remove the duplicates.\n"
   ]
  },
  {
   "cell_type": "code",
   "execution_count": 6,
   "id": "c50fb4ab",
   "metadata": {},
   "outputs": [
    {
     "data": {
      "text/plain": [
       "{'alice@example.com', 'bob@example.com', 'john@example.com'}"
      ]
     },
     "execution_count": 6,
     "metadata": {},
     "output_type": "execute_result"
    }
   ],
   "source": [
    "list = ['alice@example.com', 'bob@example.com', 'alice@example.com', 'john@example.com']\n",
    "set1 = set(list)\n",
    "set1"
   ]
  },
  {
   "cell_type": "code",
   "execution_count": 2,
   "id": "ab6f3abd",
   "metadata": {},
   "outputs": [
    {
     "data": {
      "text/plain": [
       "['alice@example.com', 'bob@example.com', 'john@example.com']"
      ]
     },
     "execution_count": 2,
     "metadata": {},
     "output_type": "execute_result"
    }
   ],
   "source": [
    "set = {'alice@example.com', 'bob@example.com', 'alice@example.com', 'john@example.com'}\n",
    "list1 = list(set)\n",
    "list1"
   ]
  },
  {
   "cell_type": "markdown",
   "id": "b6f5cd9c",
   "metadata": {},
   "source": [
    "6. Create a Sorted List of Numbers (List Operations)\n",
    "\n",
    "Scenario: You have a list of numbers: [34, 12, 55, 23, 89]. Write a Python script to sort the list in ascending order and print the result.\n"
   ]
  },
  {
   "cell_type": "code",
   "execution_count": 3,
   "id": "5e453d87",
   "metadata": {},
   "outputs": [
    {
     "name": "stdout",
     "output_type": "stream",
     "text": [
      "[12, 23, 34, 55, 89]\n"
     ]
    }
   ],
   "source": [
    "numbers = [34,12,55,23,89]\n",
    "asc = sorted(numbers)\n",
    "print(asc)"
   ]
  },
  {
   "cell_type": "code",
   "execution_count": 4,
   "id": "64051c67",
   "metadata": {},
   "outputs": [
    {
     "name": "stdout",
     "output_type": "stream",
     "text": [
      "[89, 55, 34, 23, 12]\n"
     ]
    }
   ],
   "source": [
    "numbers = [34,12,55,23,89]\n",
    "asc = sorted(numbers, reverse=True)\n",
    "print(asc)"
   ]
  },
  {
   "cell_type": "markdown",
   "id": "5d2f2715",
   "metadata": {},
   "source": [
    "7. To get all the keys\n",
    "\n",
    "Scenario: You have a dictionary of products and their prices: {'Apple': 1.2, 'Banana': 0.5, 'Orange': 0.8}. Write a Python script to get all the keys (product names) and values (prices).\n"
   ]
  },
  {
   "cell_type": "code",
   "execution_count": 4,
   "id": "209243e9",
   "metadata": {},
   "outputs": [
    {
     "name": "stdout",
     "output_type": "stream",
     "text": [
      "dict_keys(['Apple', 'Banana', 'orange'])\n",
      "dict_values([1.2, 0.5, 0.8])\n"
     ]
    }
   ],
   "source": [
    "dict = {'Apple': 1.2, 'Banana': 0.5, 'orange': 0.8}\n",
    "print(dict.keys())\n",
    "print(dict.values())"
   ]
  },
  {
   "cell_type": "markdown",
   "id": "2c2be9a1",
   "metadata": {},
   "source": [
    "8: Sales Data Stored as a Dictionary (with Days as Keys)\n",
    "\n",
    "Scenario: You have sales data stored as a dictionary, where each key is a day (e.g., 'Monday', 'Tuesday') and the corresponding value is the sales amount. For example:\n"
   ]
  },
  {
   "cell_type": "code",
   "execution_count": 7,
   "id": "d3bdf59f",
   "metadata": {},
   "outputs": [
    {
     "name": "stdout",
     "output_type": "stream",
     "text": [
      "{'Monday': 150, 'Tuesday': 200, 'Wednesday': 175, 'Thursday': 220, 'Friday': 300}\n"
     ]
    }
   ],
   "source": [
    "sales_data = {\n",
    "    'Monday': 150,\n",
    "    'Tuesday': 200,\n",
    "    'Wednesday': 175,\n",
    "    'Thursday': 220,\n",
    "    'Friday': 300\n",
    "}\n",
    "print(sales_data)\n"
   ]
  },
  {
   "cell_type": "code",
   "execution_count": null,
   "id": "96b5d940",
   "metadata": {},
   "outputs": [],
   "source": []
  }
 ],
 "metadata": {
  "kernelspec": {
   "display_name": "base",
   "language": "python",
   "name": "python3"
  },
  "language_info": {
   "codemirror_mode": {
    "name": "ipython",
    "version": 3
   },
   "file_extension": ".py",
   "mimetype": "text/x-python",
   "name": "python",
   "nbconvert_exporter": "python",
   "pygments_lexer": "ipython3",
   "version": "3.12.4"
  }
 },
 "nbformat": 4,
 "nbformat_minor": 5
}
