{
 "cells": [
  {
   "cell_type": "markdown",
   "id": "9e8b80db",
   "metadata": {},
   "source": [
    "<div style=\"background-color: #add8e6; padding: 10px; height: 70px; border-radius: 15px;\">\n",
    "    <div style=\"font-family: 'Georgia', serif; font-size: 20px; padding: 10px; text-align: right; position: absolute; right: 20px;\">\n",
    "        Kanchan Sharma <br>\n",
    "        <span style=\"font-family: 'Arial', sans-serif;font-size: 12px; color: #0a0a0a;\">Tech Skills Trainee | AI/ML Bootcamp</span> \n",
    "    </div>\n",
    "</div>"
   ]
  },
  {
   "cell_type": "markdown",
   "id": "b9982a45",
   "metadata": {},
   "source": []
  },
  {
   "cell_type": "markdown",
   "id": "bc270178",
   "metadata": {},
   "source": [
    "<div style=\"background-color: #002147; padding: 10px; text-align: center; color: white; font-size: 32px; font-family: 'Arial', sans-serif;\">\n",
    "Python Programming  <br>\n",
    "    <h3 style=\"text-align: center; color: white; font-size: 15px; font-family: 'Arial', sans-serif;\"></h3>\n",
    "</div>"
   ]
  },
  {
   "cell_type": "markdown",
   "id": "92a3290b",
   "metadata": {},
   "source": [
    "# Programming :\n",
    "Programming is the process of giving instructions to a computer so it can perform specific tasks. These instructions are written in programming languages like Python, JavaScript, C++, or Java, which are designed to be understood by both humans and machines."
   ]
  },
  {
   "cell_type": "markdown",
   "id": "d477e0c6",
   "metadata": {},
   "source": [
    "# What is Python?\n",
    "Python is a high-level, interpreted, general-purpose programming language known for its clear, readable syntax and ease of use. It lets you focus more on the logic of your program rather than complex code structure"
   ]
  },
  {
   "cell_type": "markdown",
   "id": "84c1faf8",
   "metadata": {},
   "source": [
    "<h4>History of Python</h4>"
   ]
  },
  {
   "cell_type": "markdown",
   "id": "16d32d18",
   "metadata": {},
   "source": [
    "\n",
    "Python was created by Guido van Rossum, a Dutch programmer, in the late 1980s. He was working at the Centrum Wiskunde & Informatica (CWI) in the Netherlands when he started the project."
   ]
  },
  {
   "cell_type": "markdown",
   "id": "a9b25003",
   "metadata": {},
   "source": [
    "<h3> Why the Name \"Python\"?</h3>\n",
    "No, it’s not named after the snake!\n",
    "Guido was a fan of the British comedy show “Monty Python’s Flying Circus”, so he picked the name Python to reflect his desire for the language to be fun and not too serious."
   ]
  },
  {
   "cell_type": "markdown",
   "id": "6aabb489",
   "metadata": {},
   "source": [
    "##  **Main Properties of Python**\n",
    "\n",
    " <h4>1.Easy to Learn and Use</h4>\n",
    " Simple, readable syntax that looks like English.<br>\n",
    " Great for beginners and professionals alike.<br><br>\n",
    "\n",
    "\n",
    "<h4> 2.Interpreted Language</h4>\n",
    " Python code is **executed line by line** by an interpreter.<br>\n",
    " No need to compile code before running it.<br><br>\n",
    "\n",
    "<h4>3.Dynamically Typed</h4>\n",
    " You don’t have to declare variable types.<br>\n",
    " Python figures out the type when the program runs.<br><br>\n",
    "\n",
    "<h4> 4.Object-Oriented</h4>\n",
    " Everything in Python is an **object**, including numbers, functions, and even modules.<br>\n",
    " Supports **classes, inheritance, and encapsulation*<br><br>\n",
    "\n",
    "<h4> 5. High-Level Language</h4>\n",
    " Python handles **memory management** and other low-level operations.<br>\n",
    " You can focus on solving problems, not managing system-level details.<br><br>\n",
    "\n",
    "<h4>6.Extensive Standard Library</h4>\n",
    "Comes with many built-in modules for things like math, file handling, internet protocols, and more.<br><br>\n",
    " \n",
    "  <h4>7. Extensible and Embeddable</h4>\n",
    " You can **extend Python** using other languages like C or C++.<br>\n",
    " Also embeddable into applications for scripting.<br><br>\n",
    "\n",
    "<h4>8.Portable (Cross-platform)</h4>\n",
    " Write code once and run it on **Windows, macOS, Linux**, etc.<br>\n",
    " As long as Python is installed, your script will run.<br><br>\n",
    "\n",
    " <h4> 9. Open Source and Free</h4>\n",
    "  Python is completely \"free to use\"and \"open-source\".<br>\n",
    "  Maintained by a large community via the **Python Software Foundation (PSF)<br><br>\n",
    "\n",
    "\n",
    "<h4> 10.Massive Community Support</h4>\n",
    "  Huge community of developers means:<br>\n",
    "   Tons of tutorials<br>\n",
    "  Fast bug fixing<br>\n",
    "   Countless open-source libraries and tools<><br><br>\n",
    "\n",
    "\n",
    "<h4>11.Supports Multiple Programming Paradigms</h4>\n",
    "Procedural – writing code in steps.<br>\n",
    " Object-oriented – using classes and objects.<br>\n",
    "Functional – using functions as first-class citizens.\n",
    "\n",
    "\n",
    "## Summary Table\n",
    "\n",
    "| Property                  | What It Means                                           |\n",
    "|--------------------------|----------------------------------------------------------|\n",
    "| Easy to Learn            | Clean, human-readable syntax                            |\n",
    "| Interpreted              | No compiling needed                                     |\n",
    "| Dynamically Typed        | No need to define variable types                        |\n",
    "| Object-Oriented          | Everything is an object                                |\n",
    "| High-Level               | Abstracts complex system-level operations               |\n",
    "| Rich Standard Library    | Built-in support for many tasks                         |\n",
    "| Extensible/Embeddable    | Can be used with C/C++ and inside other apps            |\n",
    "| Portable                 | Works on all major operating systems                    |\n",
    "| Open Source              | Free and community-driven                               |\n",
    "| Large Community          | Strong support and resources                           |\n",
    "| Multi-paradigm           | Supports OOP, functional, and procedural styles         |\n",
    "\n",
    "---\n"
   ]
  },
  {
   "cell_type": "markdown",
   "id": "3d2f2c3f",
   "metadata": {},
   "source": [
    "\n",
    "\n",
    "# Python Today\n",
    "Python is one of the top 3 most popular programming languages in the world (according to TIOBE, Stack Overflow, GitHub stats).\n",
    "\n",
    "1. It's widely used in:\n",
    "\n",
    "2. Web development\n",
    "\n",
    "3. Data science\n",
    "\n",
    "4. Machine learning\n",
    "\n",
    "5. Automation/scripting\n",
    "\n",
    "6. Education\n",
    "\n",
    "7. Game developmen"
   ]
  },
  {
   "cell_type": "markdown",
   "id": "d3d5931a",
   "metadata": {},
   "source": [
    "#  Companies Using Python\n",
    "Google – Internal systems and tools\n",
    "\n",
    "Netflix – Automation and data analysis\n",
    "\n",
    "Instagram – Built on Django (a Python framework)\n",
    "\n",
    "Dropbox – Originally written in Python\n",
    "\n",
    "NASA – Scientific computing"
   ]
  },
  {
   "cell_type": "markdown",
   "id": "7adad4b4",
   "metadata": {},
   "source": [
    "# Core Components of Python Programming\n",
    "1. Variables and Data Types:\n",
    "Store data like integers, strings, booleans, lists, tuples, dictionaries.\n",
    "\n",
    "2. Control Structures\n",
    "Use of conditionals (if, elif, else) and loops (for, while).\n",
    "\n",
    "3. Functions\n",
    "Blocks of reusable code defined using the def keyword.\n",
    "\n",
    "4. Modules and Packages\n",
    "Python encourages modularity by supporting modules (individual files) and packages (directories containing multiple modules).\n",
    "\n",
    "5. Exception Handling\n",
    "Robust error-handling mechanism using try, except, finally.\n",
    "\n",
    "6. File Handling\n",
    "Open, read, write, and manipulate files using Python’s built-in functions.\n",
    "\n"
   ]
  },
  {
   "cell_type": "markdown",
   "id": "f880d955",
   "metadata": {},
   "source": [
    "\n",
    "# Applications of Python\n",
    "Web Development – Django, Flask\n",
    "\n",
    "Data Science and Analytics – pandas, NumPy, matplotlib\n",
    "\n",
    "Machine Learning and AI – TensorFlow, PyTorch, scikit-learn\n",
    "\n",
    "Automation/Scripting – Automating tasks like file management, web scraping\n",
    "\n",
    "Game Development – Pygame\n",
    "\n",
    "IoT and Embedded Systems – MicroPython, Raspberry Pi\n",
    "\n"
   ]
  },
  {
   "cell_type": "markdown",
   "id": "94f5f5d1",
   "metadata": {},
   "source": [
    "# Conclusion\n",
    "Python is a powerful, versatile, and beginner-friendly programming language that is used in nearly every field of software development today. Its simplicity, combined with a rich set of libraries and a vibrant community, has made it one of the most popular programming languages in the world"
   ]
  },
  {
   "cell_type": "markdown",
   "id": "491f06f5",
   "metadata": {},
   "source": [
    "<div style=\"background-color: PINK; color: #fff; padding: 30px; text-align: center;\">\n",
    "    <h1>END!\n",
    "        <!--- Devashish Kumar | Tech Skills Trainer | CodroidHub Private Limited | AI/ML Consultant --->\n",
    "</h1> </div>"
   ]
  },
  {
   "cell_type": "markdown",
   "id": "2fcccdb3",
   "metadata": {},
   "source": [
    "<div style=\"background-color: #002147; color: #fff; padding: 30px; text-align: center;\">\n",
    "    <h1>THANK YOU!\n",
    "        \n",
    "</h1> </div>"
   ]
  }
 ],
 "metadata": {
  "kernelspec": {
   "display_name": "base",
   "language": "python",
   "name": "python3"
  },
  "language_info": {
   "codemirror_mode": {
    "name": "ipython",
    "version": 3
   },
   "file_extension": ".py",
   "mimetype": "text/x-python",
   "name": "python",
   "nbconvert_exporter": "python",
   "pygments_lexer": "ipython3",
   "version": "3.12.4"
  }
 },
 "nbformat": 4,
 "nbformat_minor": 5
}
