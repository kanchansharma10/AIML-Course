{
 "cells": [
  {
   "cell_type": "markdown",
   "id": "72fcf6cc",
   "metadata": {},
   "source": [
    "### Print Statement"
   ]
  },
  {
   "cell_type": "code",
   "execution_count": 2,
   "id": "64920989",
   "metadata": {},
   "outputs": [
    {
     "name": "stdout",
     "output_type": "stream",
     "text": [
      "90\n"
     ]
    }
   ],
   "source": [
    "print(90)"
   ]
  },
  {
   "cell_type": "code",
   "execution_count": 3,
   "id": "1cc8ce8c",
   "metadata": {},
   "outputs": [
    {
     "name": "stdout",
     "output_type": "stream",
     "text": [
      "kanchan sharma\n"
     ]
    }
   ],
   "source": [
    "print('kanchan sharma')"
   ]
  },
  {
   "cell_type": "code",
   "execution_count": 4,
   "id": "d2580d37",
   "metadata": {},
   "outputs": [],
   "source": [
    "# statement\n",
    " # single line  : single or double quotes\n",
    " # multiple line : triple quotes\n",
    "  "
   ]
  },
  {
   "cell_type": "code",
   "execution_count": 5,
   "id": "a2b4c6b6",
   "metadata": {},
   "outputs": [
    {
     "name": "stdout",
     "output_type": "stream",
     "text": [
      "hello world\n"
     ]
    }
   ],
   "source": [
    "print('hello world')"
   ]
  },
  {
   "cell_type": "code",
   "execution_count": 6,
   "id": "bf23e74e",
   "metadata": {},
   "outputs": [
    {
     "name": "stdout",
     "output_type": "stream",
     "text": [
      "hey kanchan\n"
     ]
    }
   ],
   "source": [
    "print(\"hey kanchan\")"
   ]
  },
  {
   "cell_type": "code",
   "execution_count": 8,
   "id": "8002e101",
   "metadata": {},
   "outputs": [
    {
     "name": "stdout",
     "output_type": "stream",
     "text": [
      "3*4\n"
     ]
    }
   ],
   "source": [
    "print(\"3*4\")"
   ]
  },
  {
   "cell_type": "code",
   "execution_count": 9,
   "id": "c65b351a",
   "metadata": {},
   "outputs": [
    {
     "name": "stdout",
     "output_type": "stream",
     "text": [
      "The duties set out in the Annex to this document are effective with\n",
      "respect to products of India that are entered for consum\n",
      "or withdrawn from warehouse for consumption, on\n",
      "or after 12:01 a.m. eastern daylight time\n",
      "on August 27, 2025,” the DHS notification said\n"
     ]
    }
   ],
   "source": [
    "print(\"\"\"The duties set out in the Annex to this document are effective with\n",
    "respect to products of India that are entered for consum\n",
    "or withdrawn from warehouse for consumption, on\n",
    "or after 12:01 a.m. eastern daylight time\n",
    "on August 27, 2025,” the DHS notification said\"\"\")"
   ]
  },
  {
   "cell_type": "code",
   "execution_count": 10,
   "id": "cafc1756",
   "metadata": {},
   "outputs": [
    {
     "name": "stdout",
     "output_type": "stream",
     "text": [
      "The duties set out in the Annex.\n",
      " to this document are \n",
      "effective with\n"
     ]
    }
   ],
   "source": [
    "\n",
    "# Print from next line or new line : \\n\n",
    "print(\"The duties set out in the Annex.\\n to this document are \\neffective with\")"
   ]
  },
  {
   "cell_type": "code",
   "execution_count": 11,
   "id": "039f7f6d",
   "metadata": {},
   "outputs": [
    {
     "name": "stdout",
     "output_type": "stream",
     "text": [
      "I live in chandigarh\n"
     ]
    }
   ],
   "source": [
    "#print by variable with statement\n",
    "city = \"chandigarh\"\n",
    "print(\"I live in\",city)"
   ]
  },
  {
   "cell_type": "code",
   "execution_count": 13,
   "id": "0b2390c5",
   "metadata": {},
   "outputs": [
    {
     "name": "stdout",
     "output_type": "stream",
     "text": [
      "we study in noida i study  DA\n"
     ]
    }
   ],
   "source": [
    "city = \"noida\"\n",
    "study = \"DA\"\n",
    "print(\"we study in\",city,\"i study \",study)"
   ]
  },
  {
   "cell_type": "code",
   "execution_count": 14,
   "id": "0a3ba792",
   "metadata": {},
   "outputs": [
    {
     "name": "stdout",
     "output_type": "stream",
     "text": [
      "NOIDA I study\n"
     ]
    }
   ],
   "source": [
    "city='NOIDA'\n",
    "print(city,'I study')"
   ]
  },
  {
   "cell_type": "code",
   "execution_count": 15,
   "id": "4b7daf97",
   "metadata": {},
   "outputs": [
    {
     "name": "stdout",
     "output_type": "stream",
     "text": [
      "10,20,20\n"
     ]
    }
   ],
   "source": [
    "# print with method\n",
    "a=10\n",
    "b=20\n",
    "c=20\n",
    "print(a,b,c, sep=\",\")"
   ]
  },
  {
   "cell_type": "code",
   "execution_count": 16,
   "id": "093099e0",
   "metadata": {},
   "outputs": [
    {
     "name": "stdout",
     "output_type": "stream",
     "text": [
      "10/20/20\n"
     ]
    }
   ],
   "source": [
    "# print with method\n",
    "a=10\n",
    "b=20\n",
    "c=20\n",
    "print(a,b,c, sep=\"/\")"
   ]
  },
  {
   "cell_type": "code",
   "execution_count": 18,
   "id": "5330b9fe",
   "metadata": {},
   "outputs": [
    {
     "name": "stdout",
     "output_type": "stream",
     "text": [
      "10,20,20!"
     ]
    }
   ],
   "source": [
    "# print with method\n",
    "a=10\n",
    "b=20\n",
    "c=20\n",
    "print(a,b,c, sep=\",\", end=\"!\")"
   ]
  },
  {
   "cell_type": "code",
   "execution_count": 19,
   "id": "9583ad5e",
   "metadata": {},
   "outputs": [
    {
     "name": "stdout",
     "output_type": "stream",
     "text": [
      "10\n",
      "20\n",
      "20\n"
     ]
    }
   ],
   "source": [
    "\n",
    "# print from next line format method\n",
    "print(f\"{a}\\n{b}\\n{c}\")"
   ]
  },
  {
   "cell_type": "code",
   "execution_count": 21,
   "id": "431ae5d7",
   "metadata": {},
   "outputs": [
    {
     "name": "stdout",
     "output_type": "stream",
     "text": [
      "I live in Noida and I study in Delhi\n"
     ]
    }
   ],
   "source": [
    "# format method\n",
    "city1=\"Noida\"\n",
    "city2=\"Delhi\"\n",
    "print(\"I live in {} and I study in {}\".format(city1,city2) )"
   ]
  },
  {
   "cell_type": "code",
   "execution_count": 22,
   "id": "1dacbd19",
   "metadata": {},
   "outputs": [
    {
     "name": "stdout",
     "output_type": "stream",
     "text": [
      "I live in Delhi and study in Noida\n"
     ]
    }
   ],
   "source": [
    "print(\"I live in {1} and study in {0}\".format(city1,city2))"
   ]
  },
  {
   "cell_type": "markdown",
   "id": "d439a11e",
   "metadata": {},
   "source": [
    "### Data Types"
   ]
  },
  {
   "cell_type": "code",
   "execution_count": 24,
   "id": "4c57bced",
   "metadata": {},
   "outputs": [],
   "source": [
    "# Datatype ( main data type)\n",
    "      # Every value in pyhton have their data type\n",
    "      #variable : can hold single value\n",
    "\n",
    "    # Categorical data type \n",
    "               # String : collection of characters\n",
    "                        #: always enclosed within quotes\n",
    "\n",
    "              # 'RAM', 'NOIDA' , \"PRODUCT\"\n",
    "\n",
    "   # Numerical data type\n",
    "              #1    int : whole number  : 10,20,324,45,67\n",
    "              # 2- float : decimal   : 20.34, 45.0\n",
    "             # 3- Complex : real+imgin : 10+20j\n",
    "  # boolen \n",
    "             # True \n",
    "             # False\n",
    "                 "
   ]
  },
  {
   "cell_type": "code",
   "execution_count": 25,
   "id": "97bc565a",
   "metadata": {},
   "outputs": [
    {
     "data": {
      "text/plain": [
       "int"
      ]
     },
     "execution_count": 25,
     "metadata": {},
     "output_type": "execute_result"
    }
   ],
   "source": [
    "# check data type\n",
    "\n",
    "a=10\n",
    "type(a)"
   ]
  },
  {
   "cell_type": "code",
   "execution_count": 26,
   "id": "799f065e",
   "metadata": {},
   "outputs": [
    {
     "data": {
      "text/plain": [
       "float"
      ]
     },
     "execution_count": 26,
     "metadata": {},
     "output_type": "execute_result"
    }
   ],
   "source": [
    "num = 0.13\n",
    "type(num)"
   ]
  },
  {
   "cell_type": "code",
   "execution_count": 27,
   "id": "df23ce21",
   "metadata": {},
   "outputs": [
    {
     "data": {
      "text/plain": [
       "complex"
      ]
     },
     "execution_count": 27,
     "metadata": {},
     "output_type": "execute_result"
    }
   ],
   "source": [
    "num2=10+40j\n",
    "type(num2)"
   ]
  },
  {
   "cell_type": "code",
   "execution_count": 28,
   "id": "07521768",
   "metadata": {},
   "outputs": [
    {
     "data": {
      "text/plain": [
       "str"
      ]
     },
     "execution_count": 28,
     "metadata": {},
     "output_type": "execute_result"
    }
   ],
   "source": [
    "name=\"python\"\n",
    "type(name)"
   ]
  },
  {
   "cell_type": "code",
   "execution_count": 29,
   "id": "29e39186",
   "metadata": {},
   "outputs": [
    {
     "name": "stdout",
     "output_type": "stream",
     "text": [
      "<class 'bool'>\n"
     ]
    }
   ],
   "source": [
    "status= True\n",
    "print(type(status))"
   ]
  },
  {
   "cell_type": "code",
   "execution_count": 30,
   "id": "c98ee10c",
   "metadata": {},
   "outputs": [],
   "source": [
    "# Conversion of data type\n",
    "     # implicit data type - Automitc conversion \n",
    "     # explicit data type - Custom Conversion\n"
   ]
  },
  {
   "cell_type": "code",
   "execution_count": 31,
   "id": "5a4d5334",
   "metadata": {},
   "outputs": [],
   "source": [
    "# implicit data type - Automitc conversion \n",
    "a=10\n",
    "b=30.67\n",
    "c=a+b"
   ]
  },
  {
   "cell_type": "code",
   "execution_count": 32,
   "id": "c5335c55",
   "metadata": {},
   "outputs": [
    {
     "name": "stdout",
     "output_type": "stream",
     "text": [
      "40.67\n"
     ]
    },
    {
     "data": {
      "text/plain": [
       "float"
      ]
     },
     "execution_count": 32,
     "metadata": {},
     "output_type": "execute_result"
    }
   ],
   "source": [
    "print(c)\n",
    "type(c)"
   ]
  },
  {
   "cell_type": "code",
   "execution_count": 37,
   "id": "c9b1659e",
   "metadata": {},
   "outputs": [
    {
     "name": "stdout",
     "output_type": "stream",
     "text": [
      "<class 'float'>\n",
      "10.0\n"
     ]
    }
   ],
   "source": [
    " # explicit data type - Custom Conversion\n",
    "a=10\n",
    "b=float(a)\n",
    "print(type(b))\n",
    "print(b)"
   ]
  },
  {
   "cell_type": "code",
   "execution_count": 36,
   "id": "5cba8394",
   "metadata": {},
   "outputs": [
    {
     "name": "stdout",
     "output_type": "stream",
     "text": [
      "<class 'int'>\n",
      "23\n"
     ]
    }
   ],
   "source": [
    "b = 23.67\n",
    "a = int(b)\n",
    "print(type(a))\n",
    "print(a)"
   ]
  },
  {
   "cell_type": "code",
   "execution_count": 39,
   "id": "47e383dd",
   "metadata": {},
   "outputs": [
    {
     "name": "stdout",
     "output_type": "stream",
     "text": [
      "10.0\n"
     ]
    }
   ],
   "source": [
    "print(float(10))"
   ]
  },
  {
   "cell_type": "code",
   "execution_count": 41,
   "id": "44d79f12",
   "metadata": {},
   "outputs": [
    {
     "name": "stdout",
     "output_type": "stream",
     "text": [
      "190\n"
     ]
    }
   ],
   "source": [
    "print(int(190.8))"
   ]
  },
  {
   "cell_type": "code",
   "execution_count": 43,
   "id": "dc2d7e65",
   "metadata": {},
   "outputs": [
    {
     "data": {
      "text/plain": [
       "78"
      ]
     },
     "execution_count": 43,
     "metadata": {},
     "output_type": "execute_result"
    }
   ],
   "source": [
    "num = \"78.09\"\n",
    "a = float(num)\n",
    "b = int(a)\n",
    "b"
   ]
  },
  {
   "cell_type": "code",
   "execution_count": 44,
   "id": "a2d576f2",
   "metadata": {},
   "outputs": [
    {
     "name": "stdout",
     "output_type": "stream",
     "text": [
      "45\n"
     ]
    }
   ],
   "source": [
    "num=\"45.67\"\n",
    "b=float(num)\n",
    "c=int(b)\n",
    "print(c)"
   ]
  },
  {
   "cell_type": "code",
   "execution_count": 45,
   "id": "209be378",
   "metadata": {},
   "outputs": [
    {
     "data": {
      "text/plain": [
       "str"
      ]
     },
     "execution_count": 45,
     "metadata": {},
     "output_type": "execute_result"
    }
   ],
   "source": [
    "type(num)"
   ]
  },
  {
   "cell_type": "code",
   "execution_count": 46,
   "id": "29e49bb6",
   "metadata": {},
   "outputs": [
    {
     "data": {
      "text/plain": [
       "45"
      ]
     },
     "execution_count": 46,
     "metadata": {},
     "output_type": "execute_result"
    }
   ],
   "source": [
    "int(float(num))"
   ]
  },
  {
   "cell_type": "code",
   "execution_count": 47,
   "id": "d42db202",
   "metadata": {},
   "outputs": [
    {
     "data": {
      "text/plain": [
       "'*1234'"
      ]
     },
     "execution_count": 47,
     "metadata": {},
     "output_type": "execute_result"
    }
   ],
   "source": [
    "\"abc123\"\n",
    "\"*1234\""
   ]
  },
  {
   "cell_type": "code",
   "execution_count": null,
   "id": "5b52c685",
   "metadata": {},
   "outputs": [],
   "source": []
  }
 ],
 "metadata": {
  "kernelspec": {
   "display_name": "base",
   "language": "python",
   "name": "python3"
  },
  "language_info": {
   "codemirror_mode": {
    "name": "ipython",
    "version": 3
   },
   "file_extension": ".py",
   "mimetype": "text/x-python",
   "name": "python",
   "nbconvert_exporter": "python",
   "pygments_lexer": "ipython3",
   "version": "3.12.4"
  }
 },
 "nbformat": 4,
 "nbformat_minor": 5
}
