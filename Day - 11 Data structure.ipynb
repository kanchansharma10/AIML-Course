{
 "cells": [
  {
   "cell_type": "markdown",
   "id": "4562112c",
   "metadata": {},
   "source": [
    "<div style=\"background-color: #add8e6; padding: 10px; height: 70px; border-radius: 15px;\">\n",
    "    <div style=\"font-family: 'Georgia', serif; font-size: 20px; padding: 10px; text-align: right; position: absolute; right: 20px;\">\n",
    "        Kanchan Sharma <br>\n",
    "        <span style=\"font-family: 'Arial', sans-serif;font-size: 12px; color: #0a0a0a;\">Tech Skills Trainee | AI/ML Bootcamp</span> \n",
    "    </div>\n",
    "</div>"
   ]
  },
  {
   "cell_type": "markdown",
   "id": "1deea377",
   "metadata": {},
   "source": [
    "<div style=\"background-color: #002147; padding: 10px; text-align: center; color: white; font-size: 32px; font-family: 'Arial', sans-serif;\">\n",
    "  Python Data Structure  <br>\n",
    "    <h3 style=\"text-align: center; color: white; font-size: 15px; font-family: 'Arial', sans-serif;\"></h3>\n",
    "</div>"
   ]
  },
  {
   "cell_type": "markdown",
   "id": "ee63dcc4",
   "metadata": {},
   "source": [
    "# Dictionaary"
   ]
  },
  {
   "cell_type": "code",
   "execution_count": 1,
   "id": "6b74a89f",
   "metadata": {},
   "outputs": [],
   "source": [
    "# collection of all datatypes\n",
    "# Data enclosed within{}\n",
    "# Data always in pair- key:value\n",
    "# Key cannot be duplicate but value can be\n",
    "# mutable collection for value only\n",
    "# Unorder collection"
   ]
  },
  {
   "cell_type": "code",
   "execution_count": 30,
   "id": "eb90c54b",
   "metadata": {},
   "outputs": [],
   "source": [
    "dt = {\"name\":\"kanchan\", \"roll_no.\": 456, \"city\":\"Ambala\", \"college\": \"grasstech\", \"mobile\":7898788978}"
   ]
  },
  {
   "cell_type": "code",
   "execution_count": 31,
   "id": "ae1481df",
   "metadata": {},
   "outputs": [
    {
     "data": {
      "text/plain": [
       "dict"
      ]
     },
     "execution_count": 31,
     "metadata": {},
     "output_type": "execute_result"
    }
   ],
   "source": [
    "# function\n",
    "# type\n",
    "type(dt)"
   ]
  },
  {
   "cell_type": "code",
   "execution_count": 32,
   "id": "5d8695ea",
   "metadata": {},
   "outputs": [
    {
     "data": {
      "text/plain": [
       "dict_keys(['name', 'roll_no.', 'city', 'college', 'mobile'])"
      ]
     },
     "execution_count": 32,
     "metadata": {},
     "output_type": "execute_result"
    }
   ],
   "source": [
    "#key\n",
    "dt.keys()"
   ]
  },
  {
   "cell_type": "code",
   "execution_count": 33,
   "id": "778986f2",
   "metadata": {},
   "outputs": [
    {
     "data": {
      "text/plain": [
       "dict_values(['kanchan', 456, 'Ambala', 'grasstech', 7898788978])"
      ]
     },
     "execution_count": 33,
     "metadata": {},
     "output_type": "execute_result"
    }
   ],
   "source": [
    "#value\n",
    "dt.values()"
   ]
  },
  {
   "cell_type": "code",
   "execution_count": 34,
   "id": "95ea7e52",
   "metadata": {},
   "outputs": [
    {
     "data": {
      "text/plain": [
       "dict_items([('name', 'kanchan'), ('roll_no.', 456), ('city', 'Ambala'), ('college', 'grasstech'), ('mobile', 7898788978)])"
      ]
     },
     "execution_count": 34,
     "metadata": {},
     "output_type": "execute_result"
    }
   ],
   "source": [
    "#item\n",
    "dt.items()"
   ]
  },
  {
   "cell_type": "code",
   "execution_count": 35,
   "id": "cf1d69f4",
   "metadata": {},
   "outputs": [
    {
     "data": {
      "text/plain": [
       "'kanchan'"
      ]
     },
     "execution_count": 35,
     "metadata": {},
     "output_type": "execute_result"
    }
   ],
   "source": [
    "dt.get(\"name\",0)"
   ]
  },
  {
   "cell_type": "code",
   "execution_count": 36,
   "id": "cf115a88",
   "metadata": {},
   "outputs": [
    {
     "data": {
      "text/plain": [
       "0"
      ]
     },
     "execution_count": 36,
     "metadata": {},
     "output_type": "execute_result"
    }
   ],
   "source": [
    "# access data safely\n",
    "dt.get(\"name1\",0)"
   ]
  },
  {
   "cell_type": "code",
   "execution_count": 37,
   "id": "0e1d00b4",
   "metadata": {},
   "outputs": [
    {
     "ename": "KeyError",
     "evalue": "('city1', 8)",
     "output_type": "error",
     "traceback": [
      "\u001b[1;31m---------------------------------------------------------------------------\u001b[0m",
      "\u001b[1;31mKeyError\u001b[0m                                  Traceback (most recent call last)",
      "Cell \u001b[1;32mIn[37], line 2\u001b[0m\n\u001b[0;32m      1\u001b[0m \u001b[38;5;66;03m# picking of data\u001b[39;00m\n\u001b[1;32m----> 2\u001b[0m \u001b[43mdt\u001b[49m\u001b[43m[\u001b[49m\u001b[38;5;124;43m'\u001b[39;49m\u001b[38;5;124;43mcity1\u001b[39;49m\u001b[38;5;124;43m'\u001b[39;49m\u001b[43m,\u001b[49m\u001b[38;5;241;43m8\u001b[39;49m\u001b[43m]\u001b[49m\n",
      "\u001b[1;31mKeyError\u001b[0m: ('city1', 8)"
     ]
    }
   ],
   "source": [
    "# picking of data\n",
    "dt['city1',8]"
   ]
  },
  {
   "cell_type": "code",
   "execution_count": 38,
   "id": "5371601b",
   "metadata": {},
   "outputs": [
    {
     "data": {
      "text/plain": [
       "'Ambala'"
      ]
     },
     "execution_count": 38,
     "metadata": {},
     "output_type": "execute_result"
    }
   ],
   "source": [
    "# picking of data\n",
    "dt['city']"
   ]
  },
  {
   "cell_type": "code",
   "execution_count": 39,
   "id": "e8421728",
   "metadata": {},
   "outputs": [],
   "source": [
    "# Add item in dictionary\n",
    "dt['pin'] = 1234"
   ]
  },
  {
   "cell_type": "code",
   "execution_count": 40,
   "id": "068d6a2c",
   "metadata": {},
   "outputs": [
    {
     "data": {
      "text/plain": [
       "{'name': 'kanchan',\n",
       " 'roll_no.': 456,\n",
       " 'city': 'Ambala',\n",
       " 'college': 'grasstech',\n",
       " 'mobile': 7898788978,\n",
       " 'pin': 1234}"
      ]
     },
     "execution_count": 40,
     "metadata": {},
     "output_type": "execute_result"
    }
   ],
   "source": [
    "dt"
   ]
  },
  {
   "cell_type": "code",
   "execution_count": 41,
   "id": "35670824",
   "metadata": {},
   "outputs": [],
   "source": [
    "# if we add the new value and key is same then key stay same and update the value not add new key\n",
    "# updated value"
   ]
  },
  {
   "cell_type": "code",
   "execution_count": 42,
   "id": "f8b9f77e",
   "metadata": {},
   "outputs": [],
   "source": [
    "dt['mobile']= 9757577678"
   ]
  },
  {
   "cell_type": "code",
   "execution_count": 43,
   "id": "451a9635",
   "metadata": {},
   "outputs": [
    {
     "data": {
      "text/plain": [
       "{'name': 'kanchan',\n",
       " 'roll_no.': 456,\n",
       " 'city': 'Ambala',\n",
       " 'college': 'grasstech',\n",
       " 'mobile': 9757577678,\n",
       " 'pin': 1234}"
      ]
     },
     "execution_count": 43,
     "metadata": {},
     "output_type": "execute_result"
    }
   ],
   "source": [
    "dt"
   ]
  },
  {
   "cell_type": "code",
   "execution_count": 44,
   "id": "df520bf6",
   "metadata": {},
   "outputs": [],
   "source": [
    "# delete\n",
    "del dt['pin']"
   ]
  },
  {
   "cell_type": "code",
   "execution_count": 45,
   "id": "8b507831",
   "metadata": {},
   "outputs": [
    {
     "data": {
      "text/plain": [
       "{'name': 'kanchan',\n",
       " 'roll_no.': 456,\n",
       " 'city': 'Ambala',\n",
       " 'college': 'grasstech',\n",
       " 'mobile': 9757577678}"
      ]
     },
     "execution_count": 45,
     "metadata": {},
     "output_type": "execute_result"
    }
   ],
   "source": [
    "dt"
   ]
  },
  {
   "cell_type": "code",
   "execution_count": 46,
   "id": "23ed0aff",
   "metadata": {},
   "outputs": [],
   "source": [
    "# new\n",
    "dict = {'course':\"DA\",\"course fee\": 4676767}"
   ]
  },
  {
   "cell_type": "code",
   "execution_count": 47,
   "id": "cd871fe3",
   "metadata": {},
   "outputs": [
    {
     "data": {
      "text/plain": [
       "{'course': 'DA', 'course fee': 4676767}"
      ]
     },
     "execution_count": 47,
     "metadata": {},
     "output_type": "execute_result"
    }
   ],
   "source": [
    "dict"
   ]
  },
  {
   "cell_type": "code",
   "execution_count": 48,
   "id": "b2d6fd0f",
   "metadata": {},
   "outputs": [],
   "source": [
    "#Updated\n",
    "dt.update(dict)"
   ]
  },
  {
   "cell_type": "code",
   "execution_count": 49,
   "id": "049d1ba3",
   "metadata": {},
   "outputs": [
    {
     "data": {
      "text/plain": [
       "{'course': 'DA', 'course fee': 4676767}"
      ]
     },
     "execution_count": 49,
     "metadata": {},
     "output_type": "execute_result"
    }
   ],
   "source": [
    "dict"
   ]
  },
  {
   "cell_type": "code",
   "execution_count": 50,
   "id": "d3110f37",
   "metadata": {},
   "outputs": [
    {
     "data": {
      "text/plain": [
       "{'name': 'kanchan',\n",
       " 'roll_no.': 456,\n",
       " 'city': 'Ambala',\n",
       " 'college': 'grasstech',\n",
       " 'mobile': 9757577678,\n",
       " 'course': 'DA',\n",
       " 'course fee': 4676767}"
      ]
     },
     "execution_count": 50,
     "metadata": {},
     "output_type": "execute_result"
    }
   ],
   "source": [
    "dt"
   ]
  },
  {
   "cell_type": "code",
   "execution_count": 51,
   "id": "8de4c64b",
   "metadata": {},
   "outputs": [],
   "source": [
    "dt.clear()"
   ]
  },
  {
   "cell_type": "code",
   "execution_count": 52,
   "id": "1a302351",
   "metadata": {},
   "outputs": [
    {
     "data": {
      "text/plain": [
       "{}"
      ]
     },
     "execution_count": 52,
     "metadata": {},
     "output_type": "execute_result"
    }
   ],
   "source": [
    "dt"
   ]
  },
  {
   "cell_type": "markdown",
   "id": "c775e5b0",
   "metadata": {},
   "source": [
    "# set"
   ]
  },
  {
   "cell_type": "code",
   "execution_count": 53,
   "id": "94b5624d",
   "metadata": {},
   "outputs": [],
   "source": [
    "# collection of data type data\n",
    "# data are in {}\n",
    "# not in pair\n",
    "# unordered ollection\n",
    "# if you are using older version of python than it is inmutable\n",
    "# otherwise mutable\n",
    "# duplicate not allow\n",
    "# unique records"
   ]
  },
  {
   "cell_type": "code",
   "execution_count": 54,
   "id": "05b7fa20",
   "metadata": {},
   "outputs": [],
   "source": [
    "st = {\"kanchan\",2,8,0,6,5,2}"
   ]
  },
  {
   "cell_type": "code",
   "execution_count": 55,
   "id": "a1f2d000",
   "metadata": {},
   "outputs": [
    {
     "data": {
      "text/plain": [
       "{0, 2, 5, 6, 8, 'kanchan'}"
      ]
     },
     "execution_count": 55,
     "metadata": {},
     "output_type": "execute_result"
    }
   ],
   "source": [
    "st"
   ]
  },
  {
   "cell_type": "code",
   "execution_count": 56,
   "id": "c616c74e",
   "metadata": {},
   "outputs": [
    {
     "data": {
      "text/plain": [
       "6"
      ]
     },
     "execution_count": 56,
     "metadata": {},
     "output_type": "execute_result"
    }
   ],
   "source": [
    "len(st)"
   ]
  },
  {
   "cell_type": "code",
   "execution_count": 57,
   "id": "a081d025",
   "metadata": {},
   "outputs": [
    {
     "ename": "AttributeError",
     "evalue": "'set' object has no attribute 'count'",
     "output_type": "error",
     "traceback": [
      "\u001b[1;31m---------------------------------------------------------------------------\u001b[0m",
      "\u001b[1;31mAttributeError\u001b[0m                            Traceback (most recent call last)",
      "Cell \u001b[1;32mIn[57], line 1\u001b[0m\n\u001b[1;32m----> 1\u001b[0m \u001b[43mst\u001b[49m\u001b[38;5;241;43m.\u001b[39;49m\u001b[43mcount\u001b[49m()\u001b[38;5;66;03m# its not working because it is already unique\u001b[39;00m\n",
      "\u001b[1;31mAttributeError\u001b[0m: 'set' object has no attribute 'count'"
     ]
    }
   ],
   "source": [
    "st.count()# its not working because it is already unique"
   ]
  },
  {
   "cell_type": "code",
   "execution_count": 58,
   "id": "1e8b0c74",
   "metadata": {},
   "outputs": [
    {
     "data": {
      "text/plain": [
       "['__add__',\n",
       " '__class__',\n",
       " '__contains__',\n",
       " '__delattr__',\n",
       " '__dir__',\n",
       " '__doc__',\n",
       " '__eq__',\n",
       " '__format__',\n",
       " '__ge__',\n",
       " '__getattribute__',\n",
       " '__getitem__',\n",
       " '__getnewargs__',\n",
       " '__getstate__',\n",
       " '__gt__',\n",
       " '__hash__',\n",
       " '__init__',\n",
       " '__init_subclass__',\n",
       " '__iter__',\n",
       " '__le__',\n",
       " '__len__',\n",
       " '__lt__',\n",
       " '__mod__',\n",
       " '__mul__',\n",
       " '__ne__',\n",
       " '__new__',\n",
       " '__reduce__',\n",
       " '__reduce_ex__',\n",
       " '__repr__',\n",
       " '__rmod__',\n",
       " '__rmul__',\n",
       " '__setattr__',\n",
       " '__sizeof__',\n",
       " '__str__',\n",
       " '__subclasshook__',\n",
       " 'capitalize',\n",
       " 'casefold',\n",
       " 'center',\n",
       " 'count',\n",
       " 'encode',\n",
       " 'endswith',\n",
       " 'expandtabs',\n",
       " 'find',\n",
       " 'format',\n",
       " 'format_map',\n",
       " 'index',\n",
       " 'isalnum',\n",
       " 'isalpha',\n",
       " 'isascii',\n",
       " 'isdecimal',\n",
       " 'isdigit',\n",
       " 'isidentifier',\n",
       " 'islower',\n",
       " 'isnumeric',\n",
       " 'isprintable',\n",
       " 'isspace',\n",
       " 'istitle',\n",
       " 'isupper',\n",
       " 'join',\n",
       " 'ljust',\n",
       " 'lower',\n",
       " 'lstrip',\n",
       " 'maketrans',\n",
       " 'partition',\n",
       " 'removeprefix',\n",
       " 'removesuffix',\n",
       " 'replace',\n",
       " 'rfind',\n",
       " 'rindex',\n",
       " 'rjust',\n",
       " 'rpartition',\n",
       " 'rsplit',\n",
       " 'rstrip',\n",
       " 'split',\n",
       " 'splitlines',\n",
       " 'startswith',\n",
       " 'strip',\n",
       " 'swapcase',\n",
       " 'title',\n",
       " 'translate',\n",
       " 'upper',\n",
       " 'zfill']"
      ]
     },
     "execution_count": 58,
     "metadata": {},
     "output_type": "execute_result"
    }
   ],
   "source": [
    "dir(\"set\")"
   ]
  },
  {
   "cell_type": "code",
   "execution_count": 59,
   "id": "f4e61eb1",
   "metadata": {},
   "outputs": [
    {
     "data": {
      "text/plain": [
       "0"
      ]
     },
     "execution_count": 59,
     "metadata": {},
     "output_type": "execute_result"
    }
   ],
   "source": [
    "# delete \n",
    "st.pop()"
   ]
  },
  {
   "cell_type": "code",
   "execution_count": 60,
   "id": "cedb05c3",
   "metadata": {},
   "outputs": [
    {
     "ename": "TypeError",
     "evalue": "set.pop() takes no arguments (1 given)",
     "output_type": "error",
     "traceback": [
      "\u001b[1;31m---------------------------------------------------------------------------\u001b[0m",
      "\u001b[1;31mTypeError\u001b[0m                                 Traceback (most recent call last)",
      "Cell \u001b[1;32mIn[60], line 1\u001b[0m\n\u001b[1;32m----> 1\u001b[0m \u001b[43mst\u001b[49m\u001b[38;5;241;43m.\u001b[39;49m\u001b[43mpop\u001b[49m\u001b[43m(\u001b[49m\u001b[38;5;241;43m3\u001b[39;49m\u001b[43m)\u001b[49m\u001b[38;5;66;03m# its not take any index value\u001b[39;00m\n",
      "\u001b[1;31mTypeError\u001b[0m: set.pop() takes no arguments (1 given)"
     ]
    }
   ],
   "source": [
    "st.pop(3)# its not take any index value"
   ]
  },
  {
   "cell_type": "code",
   "execution_count": 61,
   "id": "77e44fb8",
   "metadata": {},
   "outputs": [],
   "source": [
    "#add\n",
    "st.add(3)"
   ]
  },
  {
   "cell_type": "code",
   "execution_count": 62,
   "id": "16652acd",
   "metadata": {},
   "outputs": [
    {
     "data": {
      "text/plain": [
       "{2, 3, 5, 6, 8, 'kanchan'}"
      ]
     },
     "execution_count": 62,
     "metadata": {},
     "output_type": "execute_result"
    }
   ],
   "source": [
    "st"
   ]
  },
  {
   "cell_type": "markdown",
   "id": "0e7e8fc0",
   "metadata": {},
   "source": [
    "# String"
   ]
  },
  {
   "cell_type": "code",
   "execution_count": 63,
   "id": "7499883b",
   "metadata": {},
   "outputs": [],
   "source": [
    "txt = \"python\""
   ]
  },
  {
   "cell_type": "code",
   "execution_count": 64,
   "id": "033eaf04",
   "metadata": {},
   "outputs": [
    {
     "data": {
      "text/plain": [
       "'python'"
      ]
     },
     "execution_count": 64,
     "metadata": {},
     "output_type": "execute_result"
    }
   ],
   "source": [
    "txt"
   ]
  },
  {
   "cell_type": "code",
   "execution_count": 65,
   "id": "edf39040",
   "metadata": {},
   "outputs": [
    {
     "data": {
      "text/plain": [
       "'python'"
      ]
     },
     "execution_count": 65,
     "metadata": {},
     "output_type": "execute_result"
    }
   ],
   "source": [
    "txt.lower()"
   ]
  },
  {
   "cell_type": "code",
   "execution_count": 66,
   "id": "29263caf",
   "metadata": {},
   "outputs": [
    {
     "data": {
      "text/plain": [
       "'PYTHON'"
      ]
     },
     "execution_count": 66,
     "metadata": {},
     "output_type": "execute_result"
    }
   ],
   "source": [
    "txt.upper()"
   ]
  },
  {
   "cell_type": "code",
   "execution_count": 67,
   "id": "aa018e4c",
   "metadata": {},
   "outputs": [
    {
     "data": {
      "text/plain": [
       "'Python'"
      ]
     },
     "execution_count": 67,
     "metadata": {},
     "output_type": "execute_result"
    }
   ],
   "source": [
    "txt.capitalize()"
   ]
  },
  {
   "cell_type": "code",
   "execution_count": 68,
   "id": "c4ffd4f7",
   "metadata": {},
   "outputs": [
    {
     "data": {
      "text/plain": [
       "'Python'"
      ]
     },
     "execution_count": 68,
     "metadata": {},
     "output_type": "execute_result"
    }
   ],
   "source": [
    "txt.title()"
   ]
  },
  {
   "cell_type": "code",
   "execution_count": 69,
   "id": "e3aa0bf7",
   "metadata": {},
   "outputs": [
    {
     "data": {
      "text/plain": [
       "['learn python']"
      ]
     },
     "execution_count": 69,
     "metadata": {},
     "output_type": "execute_result"
    }
   ],
   "source": [
    "#split by delimited\n",
    "word = \"learn python\"\n",
    "word.split(\",\")"
   ]
  },
  {
   "cell_type": "code",
   "execution_count": 70,
   "id": "dc1bad33",
   "metadata": {},
   "outputs": [
    {
     "data": {
      "text/plain": [
       "['we', 'learn', 'python']"
      ]
     },
     "execution_count": 70,
     "metadata": {},
     "output_type": "execute_result"
    }
   ],
   "source": [
    "# splite by delimited\n",
    "# return data list form\n",
    "word = \"we learn python\"\n",
    "word.split()"
   ]
  },
  {
   "cell_type": "code",
   "execution_count": 71,
   "id": "7cf89a7b",
   "metadata": {},
   "outputs": [
    {
     "data": {
      "text/plain": [
       "['we learn python']"
      ]
     },
     "execution_count": 71,
     "metadata": {},
     "output_type": "execute_result"
    }
   ],
   "source": [
    "# splite by delimited\n",
    "# return data list form\n",
    "word = \"we learn python\"\n",
    "word.split(\",\")"
   ]
  },
  {
   "cell_type": "code",
   "execution_count": 72,
   "id": "d5549a95",
   "metadata": {},
   "outputs": [
    {
     "data": {
      "text/plain": [
       "' Prime Minister Narendra Modi arrived in Tokyo on Friday (August 29, 2025) on a two-day visit during '"
      ]
     },
     "execution_count": 72,
     "metadata": {},
     "output_type": "execute_result"
    }
   ],
   "source": [
    "news=\"From Metro to manufacturing . from semiconductors to start-ups, India-Japan partnership in every sector became symbol of mutual trust,” said PM Modi addressing the India-Japan Joint Economic Forum in Tokyo. Prime Minister Narendra Modi arrived in Tokyo on Friday (August 29, 2025) on a two-day visit during . which he will hold summit talks with his Japanese counterpart Shigeru Ishiba.\"\n",
    "news.split(\".\")[2]"
   ]
  },
  {
   "cell_type": "code",
   "execution_count": 73,
   "id": "ff725e8a",
   "metadata": {},
   "outputs": [
    {
     "data": {
      "text/plain": [
       "' from semiconductors to start-ups, India-Japan partnership in every sector became symbol of mutual trust,” said PM Modi addressing the India-Japan Joint Economic Forum in Tokyo'"
      ]
     },
     "execution_count": 73,
     "metadata": {},
     "output_type": "execute_result"
    }
   ],
   "source": [
    "news=\"From Metro to manufacturing . from semiconductors to start-ups, India-Japan partnership in every sector became symbol of mutual trust,” said PM Modi addressing the India-Japan Joint Economic Forum in Tokyo. Prime Minister Narendra Modi arrived in Tokyo on Friday (August 29, 2025) on a two-day visit during . which he will hold summit talks with his Japanese counterpart Shigeru Ishiba.\"\n",
    "news.split(\".\")[1]"
   ]
  },
  {
   "cell_type": "code",
   "execution_count": 74,
   "id": "8aa89206",
   "metadata": {},
   "outputs": [
    {
     "data": {
      "text/plain": [
       "'From Metro to manufacturing '"
      ]
     },
     "execution_count": 74,
     "metadata": {},
     "output_type": "execute_result"
    }
   ],
   "source": [
    "news=\"From Metro to manufacturing . from semiconductors to start-ups, India-Japan partnership in every sector became symbol of mutual trust,” said PM Modi addressing the India-Japan Joint Economic Forum in Tokyo. Prime Minister Narendra Modi arrived in Tokyo on Friday (August 29, 2025) on a two-day visit during . which he will hold summit talks with his Japanese counterpart Shigeru Ishiba.\"\n",
    "news.split(\".\")[0]"
   ]
  },
  {
   "cell_type": "code",
   "execution_count": 75,
   "id": "92209b63",
   "metadata": {},
   "outputs": [],
   "source": [
    "# Slice\n",
    "str='Prime Minister Narendra Modi arrived in Tokyo on Friday (August 29, 2025) on a two-day visit during'"
   ]
  },
  {
   "cell_type": "code",
   "execution_count": 76,
   "id": "bbe7872d",
   "metadata": {},
   "outputs": [
    {
     "data": {
      "text/plain": [
       "' Minister '"
      ]
     },
     "execution_count": 76,
     "metadata": {},
     "output_type": "execute_result"
    }
   ],
   "source": [
    "# slice in between\n",
    "str[5:15]"
   ]
  },
  {
   "cell_type": "code",
   "execution_count": 77,
   "id": "9ea5f942",
   "metadata": {},
   "outputs": [
    {
     "data": {
      "text/plain": [
       "'Prime Minister '"
      ]
     },
     "execution_count": 77,
     "metadata": {},
     "output_type": "execute_result"
    }
   ],
   "source": [
    "str[ :15]"
   ]
  },
  {
   "cell_type": "code",
   "execution_count": 78,
   "id": "9a1607a7",
   "metadata": {},
   "outputs": [
    {
     "data": {
      "text/plain": [
       "' Minister Narendra Modi arrived in Tokyo on Friday (August 29, 2025) on a two-day visit during'"
      ]
     },
     "execution_count": 78,
     "metadata": {},
     "output_type": "execute_result"
    }
   ],
   "source": [
    "str[ 5: ]"
   ]
  },
  {
   "cell_type": "code",
   "execution_count": 79,
   "id": "c32e5305",
   "metadata": {},
   "outputs": [
    {
     "data": {
      "text/plain": [
       "'Prime Minister Narendra Modi arrived in Tokyo on Friday (August 29, 2025) on a two-day visit during'"
      ]
     },
     "execution_count": 79,
     "metadata": {},
     "output_type": "execute_result"
    }
   ],
   "source": [
    "str"
   ]
  },
  {
   "cell_type": "code",
   "execution_count": 80,
   "id": "b6191cbf",
   "metadata": {},
   "outputs": [
    {
     "data": {
      "text/plain": [
       "' nt rd dai'"
      ]
     },
     "execution_count": 80,
     "metadata": {},
     "output_type": "execute_result"
    }
   ],
   "source": [
    "str[5:35:3]"
   ]
  },
  {
   "cell_type": "markdown",
   "id": "479fb7b8",
   "metadata": {
    "vscode": {
     "languageId": "html"
    }
   },
   "source": [
    "\n",
    "<div style=\"background-color: PINK; color: #fff; padding: 30px; text-align: center;\">\n",
    "    <h1>END!\n",
    "        <!--- Devashish Kumar | Tech Skills Trainer | CodroidHub Private Limited | AI/ML Consultant --->\n",
    "</h1> </div>"
   ]
  },
  {
   "cell_type": "markdown",
   "id": "8f5769d8",
   "metadata": {},
   "source": [
    "<div style=\"background-color: #002147; color: #fff; padding: 30px; text-align: center;\">\n",
    "    <h1>THANK YOU!\n",
    "        <!--- Devashish Kumar | Tech Skills Trainer | CodroidHub Private Limited | AI/ML Consultant --->\n",
    "</h1> </div>"
   ]
  },
  {
   "cell_type": "markdown",
   "id": "7238667e",
   "metadata": {},
   "source": []
  }
 ],
 "metadata": {
  "kernelspec": {
   "display_name": "base",
   "language": "python",
   "name": "python3"
  },
  "language_info": {
   "codemirror_mode": {
    "name": "ipython",
    "version": 3
   },
   "file_extension": ".py",
   "mimetype": "text/x-python",
   "name": "python",
   "nbconvert_exporter": "python",
   "pygments_lexer": "ipython3",
   "version": "3.12.4"
  }
 },
 "nbformat": 4,
 "nbformat_minor": 5
}
