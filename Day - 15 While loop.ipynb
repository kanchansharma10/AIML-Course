{
 "cells": [
  {
   "cell_type": "markdown",
   "id": "def69be7",
   "metadata": {},
   "source": [
    "<div style=\"background-color: #add8e6; padding: 10px; height: 70px; border-radius: 15px;\">\n",
    "    <div style=\"font-family: 'Georgia', serif; font-size: 20px; padding: 10px; text-align: right; position: absolute; right: 20px;\">\n",
    "        Kanchan Sharma <br>\n",
    "        <span style=\"font-family: 'Arial', sans-serif;font-size: 12px; color: #0a0a0a;\">Tech Skills Trainee | AI/ML Bootcamp</span> \n",
    "    </div>\n",
    "</div>"
   ]
  },
  {
   "cell_type": "markdown",
   "id": "1dcccdb8",
   "metadata": {},
   "source": [
    "<div style=\"background-color: #002147; padding: 10px; text-align: center; color: white; font-size: 32px; font-family: 'Arial', sans-serif;\">\n",
    "   While Loop  <br>\n",
    "    <h3 style=\"text-align: center; color: white; font-size: 15px; font-family: 'Arial', sans-serif;\"></h3>\n",
    "</div>"
   ]
  },
  {
   "cell_type": "markdown",
   "id": "3a4adb7a",
   "metadata": {},
   "source": [
    "# While Loop\n",
    "- ------- Infinite Loop\n",
    "- --------Evaluation till  condition is true\n",
    "- --------Control \n",
    "- ---- Start Point : Intialization\n",
    "- --- Counter or Clock\n",
    "\n",
    "\n",
    "## Syntax:\n"
   ]
  },
  {
   "cell_type": "raw",
   "id": "6b3c9bbe",
   "metadata": {},
   "source": [
    "\n",
    "\n",
    "- INTIALIZATION=\n",
    "- while condttion :\n",
    "               body of while loop\n",
    "               COUNTER ="
   ]
  },
  {
   "cell_type": "markdown",
   "id": "26c43df8",
   "metadata": {},
   "source": [
    "# WHILE LOOP"
   ]
  },
  {
   "cell_type": "code",
   "execution_count": 1,
   "id": "05a10c98",
   "metadata": {},
   "outputs": [
    {
     "name": "stdout",
     "output_type": "stream",
     "text": [
      "0\n",
      "1\n",
      "2\n",
      "3\n",
      "4\n",
      "5\n"
     ]
    }
   ],
   "source": [
    "i=0\n",
    "while i<=5:\n",
    "    print(i)\n",
    "    i=i+1\n",
    "    "
   ]
  },
  {
   "cell_type": "code",
   "execution_count": 2,
   "id": "331dbf7a",
   "metadata": {},
   "outputs": [
    {
     "name": "stdout",
     "output_type": "stream",
     "text": [
      "0\n",
      "2\n",
      "4\n"
     ]
    }
   ],
   "source": [
    "i=0\n",
    "while i<=5:\n",
    "    print(i)\n",
    "    i=i+2\n",
    "    "
   ]
  },
  {
   "cell_type": "code",
   "execution_count": 4,
   "id": "75968b9b",
   "metadata": {},
   "outputs": [
    {
     "name": "stdout",
     "output_type": "stream",
     "text": [
      "10\n",
      "15\n",
      "20\n",
      "25\n",
      "30\n",
      "35\n",
      "40\n",
      "45\n",
      "50\n"
     ]
    }
   ],
   "source": [
    "i = 10 \n",
    "while i<=50:\n",
    "    print(i)\n",
    "    i=i+5"
   ]
  },
  {
   "cell_type": "code",
   "execution_count": 5,
   "id": "cde30acd",
   "metadata": {},
   "outputs": [
    {
     "name": "stdout",
     "output_type": "stream",
     "text": [
      "1\n",
      "2\n",
      "3\n",
      "4\n",
      "5\n",
      "6\n",
      "7\n",
      "8\n",
      "9\n",
      "10\n",
      "11\n",
      "12\n",
      "13\n",
      "14\n",
      "15\n"
     ]
    }
   ],
   "source": [
    "i=int(input(\"please enter ther starting of loop\"))\n",
    "limit=int(input(\"please enter the limit of loop\"))\n",
    "while i<=limit:\n",
    "    print(i)\n",
    "    i=i+1"
   ]
  },
  {
   "cell_type": "code",
   "execution_count": 8,
   "id": "a2617474",
   "metadata": {},
   "outputs": [
    {
     "name": "stdout",
     "output_type": "stream",
     "text": [
      "650\n"
     ]
    }
   ],
   "source": [
    "i = 0\n",
    "total = 0\n",
    "while i<=50:\n",
    "    if i%2==0:\n",
    "        total= total+i\n",
    "    i = i+1\n",
    "print(total)"
   ]
  },
  {
   "cell_type": "code",
   "execution_count": 9,
   "id": "71f20faa",
   "metadata": {},
   "outputs": [
    {
     "name": "stdout",
     "output_type": "stream",
     "text": [
      "650\n",
      "625\n"
     ]
    }
   ],
   "source": [
    "#WAP TO FIND THE TOTAL OF EVEN NUMBER  and TOTAL OF ODD NUMBER  FROM 0 TO 50\n",
    "i=0\n",
    "totaleven=0\n",
    "totalodd=0\n",
    "while i<=50:\n",
    "    if i%2==0:\n",
    "        totaleven=totaleven+i\n",
    "    else:\n",
    "        totalodd=totalodd+i    \n",
    "    i=i+1        \n",
    "print(totaleven)\n",
    "print(totalodd)"
   ]
  },
  {
   "cell_type": "code",
   "execution_count": 10,
   "id": "6b51f234",
   "metadata": {},
   "outputs": [],
   "source": [
    "## loop Control Statement"
   ]
  },
  {
   "cell_type": "code",
   "execution_count": 11,
   "id": "78d63081",
   "metadata": {},
   "outputs": [],
   "source": [
    "# lOOP CONTROL STATEMENT CONTROL NORMAL FLOW OF LOOP\n",
    "  # BREAK - To break the normal execution\n",
    "  # CONTINUE - To the execution\n",
    "  # pass     - null statement\n",
    "  "
   ]
  },
  {
   "cell_type": "code",
   "execution_count": 12,
   "id": "64926167",
   "metadata": {},
   "outputs": [
    {
     "name": "stdout",
     "output_type": "stream",
     "text": [
      "1\n",
      "2\n",
      "3\n",
      "4\n",
      "5\n",
      "6\n",
      "7\n",
      "8\n",
      "9\n",
      "10\n",
      "11\n",
      "12\n",
      "13\n",
      "14\n",
      "15\n"
     ]
    }
   ],
   "source": [
    "x=0\n",
    "while x<=30:\n",
    "    if x==15:\n",
    "        break\n",
    "    x=x+1\n",
    "    print(x)"
   ]
  },
  {
   "cell_type": "code",
   "execution_count": 13,
   "id": "35fb96c8",
   "metadata": {},
   "outputs": [
    {
     "name": "stdout",
     "output_type": "stream",
     "text": [
      "201\n",
      "221\n"
     ]
    }
   ],
   "source": [
    "volt=[200,220,230,100,150,200]\n",
    "for i in volt:\n",
    "    if i==230:\n",
    "        break\n",
    "    i=i+1\n",
    "    print(i)"
   ]
  },
  {
   "cell_type": "code",
   "execution_count": 15,
   "id": "9a090fbc",
   "metadata": {},
   "outputs": [
    {
     "name": "stdout",
     "output_type": "stream",
     "text": [
      "1\n",
      "2\n",
      "3\n",
      "4\n",
      "6\n",
      "7\n",
      "8\n",
      "9\n",
      "10\n",
      "11\n"
     ]
    }
   ],
   "source": [
    "# Continue : to skip\n",
    "           # excecute befor and after\n",
    "\n",
    "i=0\n",
    "while i<=10:\n",
    "    i=i+1\n",
    "    if i==5:        \n",
    "        continue\n",
    "    print(i)"
   ]
  },
  {
   "cell_type": "code",
   "execution_count": 18,
   "id": "befad9f9",
   "metadata": {},
   "outputs": [
    {
     "name": "stdout",
     "output_type": "stream",
     "text": [
      "3\n",
      "5\n",
      "6\n",
      "7\n",
      "8\n"
     ]
    }
   ],
   "source": [
    "i =2\n",
    "while i<8:\n",
    "    i=i+1\n",
    "    if i==4:\n",
    "        continue\n",
    "    print(i)\n"
   ]
  },
  {
   "cell_type": "code",
   "execution_count": 20,
   "id": "76b8cb23",
   "metadata": {},
   "outputs": [
    {
     "name": "stdout",
     "output_type": "stream",
     "text": [
      "please enter correct password\n",
      "please enter correct password\n",
      "please enter correct password\n",
      "please enter correct password\n",
      "Now Enter\n"
     ]
    }
   ],
   "source": [
    "# WAP TO ASK PASSWORD TILL PASSWORD IS NOT CORRECT\n",
    "while True:\n",
    "    password= input(\"please enter your passsowrd\")\n",
    "    if password==\"12345\":\n",
    "         print(\"Now Enter\")\n",
    "         break\n",
    "    else:\n",
    "     print(\"please enter correct password\")\n"
   ]
  },
  {
   "cell_type": "code",
   "execution_count": 21,
   "id": "0be3dc47",
   "metadata": {},
   "outputs": [
    {
     "name": "stdout",
     "output_type": "stream",
     "text": [
      "25795.0\n",
      "38023.7\n",
      "49500.0\n"
     ]
    }
   ],
   "source": [
    "# WAP TO GIVE THE INCENTIVE( SALARY*10%)  TO ALL EXCEPT VANSH\n",
    "Names=['SAKIB','ATUL','VANSH','KAMAL']\n",
    "Salary=[23450,34567,50000,45000]\n",
    "for index,name in enumerate(Names):\n",
    "    if name=='VANSH':\n",
    "        continue\n",
    "    else:\n",
    "      newsalary= Salary[index]+Salary[index]*0.10\n",
    "    print(newsalary) "
   ]
  },
  {
   "cell_type": "markdown",
   "id": "452e71a8",
   "metadata": {},
   "source": [
    "\n",
    "<div style=\"background-color: PINK; color: #fff; padding: 30px; text-align: center;\">\n",
    "    <h1>END!\n",
    "        <!--- Devashish Kumar | Tech Skills Trainer | CodroidHub Private Limited | AI/ML Consultant --->\n",
    "</h1> </div>"
   ]
  },
  {
   "cell_type": "markdown",
   "id": "14cd8687",
   "metadata": {},
   "source": [
    "<div style=\"background-color: #002147; color: #fff; padding: 30px; text-align: center;\">\n",
    "    <h1>THANK YOU!\n",
    "        <!--- Devashish Kumar | Tech Skills Trainer | CodroidHub Private Limited | AI/ML Consultant --->\n",
    "</h1> </div>"
   ]
  },
  {
   "cell_type": "markdown",
   "id": "f20eb585",
   "metadata": {},
   "source": []
  }
 ],
 "metadata": {
  "kernelspec": {
   "display_name": "base",
   "language": "python",
   "name": "python3"
  },
  "language_info": {
   "codemirror_mode": {
    "name": "ipython",
    "version": 3
   },
   "file_extension": ".py",
   "mimetype": "text/x-python",
   "name": "python",
   "nbconvert_exporter": "python",
   "pygments_lexer": "ipython3",
   "version": "3.12.4"
  }
 },
 "nbformat": 4,
 "nbformat_minor": 5
}
