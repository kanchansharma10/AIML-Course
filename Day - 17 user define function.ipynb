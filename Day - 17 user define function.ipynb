{
 "cells": [
  {
   "cell_type": "markdown",
   "id": "9f4b4b41",
   "metadata": {},
   "source": [
    "<div style=\"background-color: #add8e6; padding: 10px; height: 70px; border-radius: 15px;\">\n",
    "    <div style=\"font-family: 'Georgia', serif; font-size: 20px; padding: 10px; text-align: right; position: absolute; right: 20px;\">\n",
    "        Kanchan Sharma <br>\n",
    "        <span style=\"font-family: 'Arial', sans-serif;font-size: 12px; color: #0a0a0a;\">Tech Skills Trainee | AI/ML Bootcamp</span> \n",
    "    </div>\n",
    "</div>"
   ]
  },
  {
   "cell_type": "markdown",
   "id": "8d65d670",
   "metadata": {},
   "source": [
    "<div style=\"background-color: #002147; padding: 10px; text-align: center; color: white; font-size: 32px; font-family: 'Arial', sans-serif;\">\n",
    "   user defined function  <br>\n",
    "    <h3 style=\"text-align: center; color: white; font-size: 15px; font-family: 'Arial', sans-serif;\"></h3>\n",
    "</div>"
   ]
  },
  {
   "cell_type": "markdown",
   "id": "58b03233",
   "metadata": {},
   "source": [
    "## statement \n",
    "- conditional statement(single time)\n",
    "- loop(conditional statement repeat)"
   ]
  },
  {
   "cell_type": "markdown",
   "id": "307b965e",
   "metadata": {},
   "source": [
    "## Inbuilt function\n",
    "- system inbuilt\n",
    "## user define function\n",
    "- Reuse\n",
    "- Customiation\n",
    "- Block wise\n",
    "- User can define own function with own function\n",
    "- Always start with def"
   ]
  },
  {
   "cell_type": "raw",
   "id": "f4de02dc",
   "metadata": {},
   "source": [
    "syntax\n",
    "def function_name(parameter):\n",
    "      body of function\n",
    "      return variable"
   ]
  },
  {
   "cell_type": "markdown",
   "id": "445eb0a9",
   "metadata": {
    "vscode": {
     "languageId": "raw"
    }
   },
   "source": [
    "# Types of user define  functions\n",
    "- User define function without parameter\n",
    "- User define function with parameter\n",
    "- User define function with default argument\n",
    "- User define function with keywords\n",
    "-  User define function with non keywords argument or variable positional argument\n",
    "-  User define function with  keywords argument or variable positional argument"
   ]
  },
  {
   "cell_type": "code",
   "execution_count": 1,
   "id": "8bd641ea",
   "metadata": {},
   "outputs": [],
   "source": [
    "# user define function without parameter\n",
    "def wishes():\n",
    "    return\"good morning\""
   ]
  },
  {
   "cell_type": "code",
   "execution_count": 2,
   "id": "c6457c4c",
   "metadata": {},
   "outputs": [
    {
     "data": {
      "text/plain": [
       "'good morning'"
      ]
     },
     "execution_count": 2,
     "metadata": {},
     "output_type": "execute_result"
    }
   ],
   "source": [
    "wishes()"
   ]
  },
  {
   "cell_type": "code",
   "execution_count": 1,
   "id": "9fb0eb8b",
   "metadata": {},
   "outputs": [],
   "source": [
    " # 2-  User define function with parameter\n",
    "def total_summary(a,b):\n",
    "    return a+b\n"
   ]
  },
  {
   "cell_type": "code",
   "execution_count": 2,
   "id": "aaaf824c",
   "metadata": {},
   "outputs": [
    {
     "data": {
      "text/plain": [
       "88"
      ]
     },
     "execution_count": 2,
     "metadata": {},
     "output_type": "execute_result"
    }
   ],
   "source": [
    "total_summary(10,78)"
   ]
  },
  {
   "cell_type": "code",
   "execution_count": 3,
   "id": "220f7aaf",
   "metadata": {},
   "outputs": [],
   "source": [
    "# Write a UDF  to return the given number  is odd or even\n",
    "def even_odd(number):\n",
    "    if number%2==0:\n",
    "        return \"Even\"\n",
    "    else:\n",
    "        return \"Odd\""
   ]
  },
  {
   "cell_type": "code",
   "execution_count": 4,
   "id": "b5e02188",
   "metadata": {},
   "outputs": [
    {
     "data": {
      "text/plain": [
       "'Even'"
      ]
     },
     "execution_count": 4,
     "metadata": {},
     "output_type": "execute_result"
    }
   ],
   "source": [
    "even_odd(8)"
   ]
  },
  {
   "cell_type": "code",
   "execution_count": 5,
   "id": "29d89573",
   "metadata": {},
   "outputs": [
    {
     "data": {
      "text/plain": [
       "'Odd'"
      ]
     },
     "execution_count": 5,
     "metadata": {},
     "output_type": "execute_result"
    }
   ],
   "source": [
    "even_odd(5)"
   ]
  },
  {
   "cell_type": "code",
   "execution_count": 5,
   "id": "3905a20b",
   "metadata": {},
   "outputs": [],
   "source": [
    "# wap  usf to return the given number is postive negative or zero\n",
    "def num_status(number):\n",
    "    if number >= 0:\n",
    "        if number>0:\n",
    "            return\"no is positive\"\n",
    "        else:\n",
    "            return\"no.is zero\"\n",
    "    else:\n",
    "        return\"no. is negative\"\n",
    "\n",
    "\n"
   ]
  },
  {
   "cell_type": "code",
   "execution_count": 6,
   "id": "db9dbb4f",
   "metadata": {},
   "outputs": [
    {
     "data": {
      "text/plain": [
       "'no is positive'"
      ]
     },
     "execution_count": 6,
     "metadata": {},
     "output_type": "execute_result"
    }
   ],
   "source": [
    "num_status(8)"
   ]
  },
  {
   "cell_type": "code",
   "execution_count": 7,
   "id": "d795cbdb",
   "metadata": {},
   "outputs": [
    {
     "data": {
      "text/plain": [
       "'no.is zero'"
      ]
     },
     "execution_count": 7,
     "metadata": {},
     "output_type": "execute_result"
    }
   ],
   "source": [
    "num_status(0)"
   ]
  },
  {
   "cell_type": "code",
   "execution_count": 8,
   "id": "86ca4bd1",
   "metadata": {},
   "outputs": [
    {
     "data": {
      "text/plain": [
       "'no. is negative'"
      ]
     },
     "execution_count": 8,
     "metadata": {},
     "output_type": "execute_result"
    }
   ],
   "source": [
    "num_status(-3)"
   ]
  },
  {
   "cell_type": "code",
   "execution_count": 14,
   "id": "5a39a5d5",
   "metadata": {},
   "outputs": [
    {
     "name": "stdout",
     "output_type": "stream",
     "text": [
      "37\n"
     ]
    }
   ],
   "source": [
    "# write a UDF for totaling of list\n",
    "ls = [4,8,9,7,9]\n",
    "total= 0\n",
    "for i in ls:\n",
    "    total = total+i\n",
    "print(total)\n",
    "\n"
   ]
  },
  {
   "cell_type": "code",
   "execution_count": 6,
   "id": "d2047293",
   "metadata": {},
   "outputs": [],
   "source": [
    "# write a UDF for totaling ot list\n",
    "def list_summary(ls):\n",
    "    total=0\n",
    "    for i in ls:\n",
    "        total=total+i\n",
    "    return total"
   ]
  },
  {
   "cell_type": "code",
   "execution_count": 7,
   "id": "2dc1c6be",
   "metadata": {},
   "outputs": [
    {
     "data": {
      "text/plain": [
       "324"
      ]
     },
     "execution_count": 7,
     "metadata": {},
     "output_type": "execute_result"
    }
   ],
   "source": [
    "ls=[10,20,30,40,56,78,90]\n",
    "list_summary(ls)"
   ]
  },
  {
   "cell_type": "code",
   "execution_count": 8,
   "id": "0ee3a799",
   "metadata": {},
   "outputs": [],
   "source": [
    "# 3-  User define function with default argument\n",
    "        # default always define at  the time of when create UDF\n",
    "def totalsummary(a,b,c=1):   # Default c=1\n",
    "    return (a+b)/c"
   ]
  },
  {
   "cell_type": "code",
   "execution_count": 9,
   "id": "41784721",
   "metadata": {},
   "outputs": [
    {
     "data": {
      "text/plain": [
       "30.0"
      ]
     },
     "execution_count": 9,
     "metadata": {},
     "output_type": "execute_result"
    }
   ],
   "source": [
    "totalsummary(10,20)"
   ]
  },
  {
   "cell_type": "code",
   "execution_count": 10,
   "id": "93af550c",
   "metadata": {},
   "outputs": [],
   "source": [
    "def totalsummary(a,b=0,c=1):   # Default b=0,c=1\n",
    "    return (a+b)/c"
   ]
  },
  {
   "cell_type": "code",
   "execution_count": 11,
   "id": "30fc6960",
   "metadata": {},
   "outputs": [
    {
     "data": {
      "text/plain": [
       "10.0"
      ]
     },
     "execution_count": 11,
     "metadata": {},
     "output_type": "execute_result"
    }
   ],
   "source": [
    "totalsummary(10)"
   ]
  },
  {
   "cell_type": "code",
   "execution_count": 12,
   "id": "6d3d89e7",
   "metadata": {},
   "outputs": [
    {
     "data": {
      "text/plain": [
       "0.5833333333333334"
      ]
     },
     "execution_count": 12,
     "metadata": {},
     "output_type": "execute_result"
    }
   ],
   "source": [
    "totalsummary(10,25,60)"
   ]
  },
  {
   "cell_type": "code",
   "execution_count": 13,
   "id": "46ea3c7c",
   "metadata": {},
   "outputs": [
    {
     "ename": "SyntaxError",
     "evalue": "parameter without a default follows parameter with a default (2806979602.py, line 1)",
     "output_type": "error",
     "traceback": [
      "\u001b[1;36m  Cell \u001b[1;32mIn[13], line 1\u001b[1;36m\u001b[0m\n\u001b[1;33m    def totalsummary(a,b=0,c):\u001b[0m\n\u001b[1;37m                           ^\u001b[0m\n\u001b[1;31mSyntaxError\u001b[0m\u001b[1;31m:\u001b[0m parameter without a default follows parameter with a default\n"
     ]
    }
   ],
   "source": [
    "def totalsummary(a,b=0,c):  \n",
    "    return (a+b)/c"
   ]
  },
  {
   "cell_type": "code",
   "execution_count": 14,
   "id": "3b9fe48f",
   "metadata": {},
   "outputs": [
    {
     "data": {
      "text/plain": [
       "2.75"
      ]
     },
     "execution_count": 14,
     "metadata": {},
     "output_type": "execute_result"
    }
   ],
   "source": [
    "totalsummary(10,45,20)"
   ]
  },
  {
   "cell_type": "code",
   "execution_count": 20,
   "id": "4a052f52",
   "metadata": {},
   "outputs": [],
   "source": [
    "\n",
    " # 4-  User define function with keywords\n",
    "def totalsummary(a,b=0,c=0):  \n",
    "    return (a+b)/c"
   ]
  },
  {
   "cell_type": "code",
   "execution_count": 19,
   "id": "541c4e86",
   "metadata": {},
   "outputs": [
    {
     "data": {
      "text/plain": [
       "6.5"
      ]
     },
     "execution_count": 19,
     "metadata": {},
     "output_type": "execute_result"
    }
   ],
   "source": [
    "totalsummary(c=10,b=20,a=45)"
   ]
  },
  {
   "cell_type": "markdown",
   "id": "fd3c01f5",
   "metadata": {},
   "source": [
    "\n",
    "<div style=\"background-color: PINK; color: #fff; padding: 30px; text-align: center;\">\n",
    "    <h1>END!\n",
    "        <!--- Devashish Kumar | Tech Skills Trainer | CodroidHub Private Limited | AI/ML Consultant --->\n",
    "</h1> </div>"
   ]
  },
  {
   "cell_type": "markdown",
   "id": "943b142f",
   "metadata": {},
   "source": [
    "<div style=\"background-color: #002147; color: #fff; padding: 30px; text-align: center;\">\n",
    "    <h1>THANK YOU!\n",
    "        <!--- Devashish Kumar | Tech Skills Trainer | CodroidHub Private Limited | AI/ML Consultant --->\n",
    "</h1> </div>"
   ]
  },
  {
   "cell_type": "markdown",
   "id": "ed2e887e",
   "metadata": {},
   "source": [
    "\n"
   ]
  }
 ],
 "metadata": {
  "kernelspec": {
   "display_name": "base",
   "language": "python",
   "name": "python3"
  },
  "language_info": {
   "codemirror_mode": {
    "name": "ipython",
    "version": 3
   },
   "file_extension": ".py",
   "mimetype": "text/x-python",
   "name": "python",
   "nbconvert_exporter": "python",
   "pygments_lexer": "ipython3",
   "version": "3.12.4"
  }
 },
 "nbformat": 4,
 "nbformat_minor": 5
}
