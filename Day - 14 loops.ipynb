{
 "cells": [
  {
   "cell_type": "markdown",
   "id": "96dfca66",
   "metadata": {},
   "source": [
    "<div style=\"background-color: #add8e6; padding: 10px; height: 70px; border-radius: 15px;\">\n",
    "    <div style=\"font-family: 'Georgia', serif; font-size: 20px; padding: 10px; text-align: right; position: absolute; right: 20px;\">\n",
    "        Kanchan Sharma <br>\n",
    "        <span style=\"font-family: 'Arial', sans-serif;font-size: 12px; color: #0a0a0a;\">Tech Skills Trainee | AI/ML Bootcamp</span> \n",
    "    </div>\n",
    "</div>"
   ]
  },
  {
   "cell_type": "markdown",
   "id": "0cb86c63",
   "metadata": {},
   "source": [
    "<div style=\"background-color: #002147; padding: 10px; text-align: center; color: white; font-size: 32px; font-family: 'Arial', sans-serif;\">\n",
    "   loops in Python   <br>\n",
    "    <h3 style=\"text-align: center; color: white; font-size: 15px; font-family: 'Arial', sans-serif;\"></h3>\n",
    "</div>"
   ]
  },
  {
   "cell_type": "markdown",
   "id": "05542747",
   "metadata": {},
   "source": [
    "# loops\n",
    "- control the flow of execution statement\n",
    "- Repeatation of execution code"
   ]
  },
  {
   "cell_type": "markdown",
   "id": "77ee7543",
   "metadata": {},
   "source": [
    "## 1. statement\n",
    "- single line\n",
    "- multiple line ; block\n"
   ]
  },
  {
   "cell_type": "markdown",
   "id": "854a6b37",
   "metadata": {},
   "source": [
    "## 2. logical test\n",
    "   - True\n",
    "   - False"
   ]
  },
  {
   "cell_type": "markdown",
   "id": "d9876250",
   "metadata": {},
   "source": [
    "### conditional statement \n",
    "- check single time\n",
    "### loop\n",
    "- check multiple time"
   ]
  },
  {
   "cell_type": "markdown",
   "id": "2cc0d78f",
   "metadata": {},
   "source": [
    "# There are two types of loops in python\n",
    "- for loop\n",
    "- while loop"
   ]
  },
  {
   "cell_type": "markdown",
   "id": "f866a9d8",
   "metadata": {},
   "source": [
    "#  For loop\n",
    "- finite loop\n",
    "- Repeatedly of excecuton of code over  sequence\n",
    "- sequence: limit(start point , end point)\n",
    "- eg. string , list , tuple , range....."
   ]
  },
  {
   "cell_type": "markdown",
   "id": "cef2e93d",
   "metadata": {},
   "source": [
    "### syntax\n"
   ]
  },
  {
   "cell_type": "raw",
   "id": "4b5d67de",
   "metadata": {},
   "source": [
    "for logical test:\n",
    "       body of for loop"
   ]
  },
  {
   "cell_type": "markdown",
   "id": "947cedea",
   "metadata": {},
   "source": []
  },
  {
   "cell_type": "code",
   "execution_count": 2,
   "id": "f81d5a46",
   "metadata": {},
   "outputs": [
    {
     "name": "stdout",
     "output_type": "stream",
     "text": [
      "p\n",
      "y\n",
      "t\n",
      "h\n",
      "o\n",
      "n\n"
     ]
    }
   ],
   "source": [
    "# for loop over a string\n",
    "words = \"python\"\n",
    "for word in words:\n",
    "    print(word)"
   ]
  },
  {
   "cell_type": "code",
   "execution_count": 4,
   "id": "afde991b",
   "metadata": {},
   "outputs": [
    {
     "name": "stdout",
     "output_type": "stream",
     "text": [
      "india\n",
      "india\n",
      "india\n",
      "india\n",
      "india\n",
      "india\n"
     ]
    }
   ],
   "source": [
    "\n",
    "words = \"python\"\n",
    "for x in words:\n",
    "    print(\"india\")"
   ]
  },
  {
   "cell_type": "code",
   "execution_count": 5,
   "id": "9784d161",
   "metadata": {},
   "outputs": [
    {
     "name": "stdout",
     "output_type": "stream",
     "text": [
      "india\n",
      "india\n",
      "india\n",
      "india\n",
      "india\n",
      "india\n",
      "sequence end\n"
     ]
    }
   ],
   "source": [
    "words = \"python\"\n",
    "for word in words:\n",
    "    print(\"india\")\n",
    "else:\n",
    "    print(\"sequence end\")"
   ]
  },
  {
   "cell_type": "code",
   "execution_count": 6,
   "id": "09e5335e",
   "metadata": {},
   "outputs": [
    {
     "name": "stdout",
     "output_type": "stream",
     "text": [
      "mango\n",
      "orange\n",
      "apple\n",
      "kiwi\n"
     ]
    }
   ],
   "source": [
    "# for loop over list\n",
    "fruit = [\"mango\", \"orange\", \"apple\", \"kiwi\"]\n",
    "for x in fruit:\n",
    "    print(x)"
   ]
  },
  {
   "cell_type": "markdown",
   "id": "40b6ecb2",
   "metadata": {},
   "source": [
    "# Range function\n"
   ]
  },
  {
   "cell_type": "markdown",
   "id": "77e033e4",
   "metadata": {},
   "source": [
    "### Single in range\n",
    "- range: n-end\n",
    "- iteration till end point:n-1\n",
    "### Two value in range\n",
    "- (m,n):start point:m , end point: n-1\n",
    "### Three value in range\n",
    "- (m,n,s):start point:m , end point: n-1, s:step\n"
   ]
  },
  {
   "cell_type": "code",
   "execution_count": null,
   "id": "4adc775d",
   "metadata": {},
   "outputs": [
    {
     "name": "stdout",
     "output_type": "stream",
     "text": [
      "0\n",
      "1\n",
      "2\n",
      "3\n",
      "4\n",
      "5\n",
      "6\n",
      "7\n",
      "8\n",
      "9\n"
     ]
    }
   ],
   "source": [
    "# single loop range\n",
    "for i in range(10):\n",
    "    print(i)\n",
    "\n"
   ]
  },
  {
   "cell_type": "code",
   "execution_count": 14,
   "id": "372104dc",
   "metadata": {},
   "outputs": [
    {
     "name": "stdout",
     "output_type": "stream",
     "text": [
      "2\n",
      "3\n",
      "4\n",
      "5\n",
      "6\n",
      "7\n",
      "8\n",
      "9\n",
      "10\n"
     ]
    }
   ],
   "source": [
    "# Two value in range\n",
    "for i in range(2,11):\n",
    "    print(i)\n"
   ]
  },
  {
   "cell_type": "code",
   "execution_count": 13,
   "id": "663df9c9",
   "metadata": {},
   "outputs": [
    {
     "name": "stdout",
     "output_type": "stream",
     "text": [
      "10\n",
      "11\n",
      "12\n",
      "13\n",
      "14\n",
      "15\n",
      "16\n",
      "17\n",
      "18\n",
      "19\n",
      "20\n",
      "21\n",
      "22\n",
      "23\n",
      "24\n",
      "25\n"
     ]
    }
   ],
   "source": [
    "for i in range(10,26):\n",
    "    print(i)\n"
   ]
  },
  {
   "cell_type": "code",
   "execution_count": null,
   "id": "96aa9e59",
   "metadata": {},
   "outputs": [
    {
     "name": "stdout",
     "output_type": "stream",
     "text": [
      "2\n",
      "4\n",
      "6\n",
      "8\n",
      "10\n",
      "12\n",
      "14\n",
      "16\n",
      "18\n",
      "20\n"
     ]
    }
   ],
   "source": [
    "# Three value in range\n",
    "for i in range(2,21,2):\n",
    "    print(i)"
   ]
  },
  {
   "cell_type": "code",
   "execution_count": 20,
   "id": "a24a9ed1",
   "metadata": {},
   "outputs": [
    {
     "name": "stdout",
     "output_type": "stream",
     "text": [
      "1\n",
      "2\n",
      "3\n",
      "4\n",
      "5\n",
      "6\n",
      "7\n",
      "8\n",
      "9\n",
      "10\n",
      "11\n",
      "12\n",
      "13\n",
      "14\n",
      "15\n",
      "16\n",
      "17\n",
      "18\n",
      "19\n",
      "20\n",
      "21\n",
      "22\n",
      "23\n",
      "24\n",
      "25\n",
      "26\n",
      "27\n",
      "28\n",
      "29\n",
      "30\n",
      "31\n",
      "32\n",
      "33\n",
      "34\n",
      "35\n",
      "36\n",
      "37\n",
      "38\n",
      "39\n"
     ]
    }
   ],
   "source": [
    "n = 1\n",
    "m = 40\n",
    "for i in range(n,m):\n",
    "    print(i)\n",
    "\n"
   ]
  },
  {
   "cell_type": "code",
   "execution_count": null,
   "id": "9b47eec5",
   "metadata": {},
   "outputs": [
    {
     "name": "stdout",
     "output_type": "stream",
     "text": [
      "2 * 1 = 2\n",
      "2 * 2 = 4\n",
      "2 * 3 = 6\n",
      "2 * 4 = 8\n",
      "2 * 5 = 10\n",
      "2 * 6 = 12\n",
      "2 * 7 = 14\n",
      "2 * 8 = 16\n",
      "2 * 9 = 18\n",
      "2 * 10 = 20\n"
     ]
    }
   ],
   "source": [
    "# table creation \n",
    "tab = 2\n",
    "for i in range(1,11):\n",
    "    print(tab,\"*\",i,\"=\",tab*i)\n"
   ]
  },
  {
   "cell_type": "code",
   "execution_count": 22,
   "id": "c539abd7",
   "metadata": {},
   "outputs": [
    {
     "name": "stdout",
     "output_type": "stream",
     "text": [
      "9 * 1 = 9\n",
      "9 * 2 = 18\n",
      "9 * 3 = 27\n",
      "9 * 4 = 36\n",
      "9 * 5 = 45\n",
      "9 * 6 = 54\n",
      "9 * 7 = 63\n",
      "9 * 8 = 72\n",
      "9 * 9 = 81\n",
      "9 * 10 = 90\n"
     ]
    }
   ],
   "source": [
    "tab = int(input(\"enter the digit\"))\n",
    "for i in range(1,11):\n",
    "    print(tab,\"*\",i,\"=\",tab*i)\n"
   ]
  },
  {
   "cell_type": "code",
   "execution_count": 27,
   "id": "b00ec7e4",
   "metadata": {},
   "outputs": [
    {
     "name": "stdout",
     "output_type": "stream",
     "text": [
      "10\n",
      "12\n",
      "14\n",
      "16\n",
      "18\n",
      "20\n",
      "22\n",
      "24\n",
      "26\n",
      "28\n",
      "30\n",
      "32\n",
      "34\n",
      "36\n",
      "38\n",
      "40\n",
      "42\n",
      "44\n",
      "46\n",
      "48\n",
      "50\n"
     ]
    }
   ],
   "source": [
    "# wap to find even  number between 10 to 50\n",
    "for i in range(10,51):\n",
    "    if i%2==0:\n",
    "        print(i)\n"
   ]
  },
  {
   "cell_type": "code",
   "execution_count": 28,
   "id": "440d91e5",
   "metadata": {},
   "outputs": [
    {
     "name": "stdout",
     "output_type": "stream",
     "text": [
      "10\n",
      "15\n",
      "20\n",
      "25\n",
      "30\n",
      "35\n",
      "40\n",
      "45\n",
      "50\n"
     ]
    }
   ],
   "source": [
    "for i in range(10,51):\n",
    "    if i%5==0:\n",
    "        print(i)\n"
   ]
  },
  {
   "cell_type": "code",
   "execution_count": 29,
   "id": "fce1d7d6",
   "metadata": {},
   "outputs": [
    {
     "name": "stdout",
     "output_type": "stream",
     "text": [
      "10\n",
      "20\n",
      "30\n",
      "40\n",
      "50\n"
     ]
    }
   ],
   "source": [
    "#wap to find the number btw 10 to 50 which divided by 2 and 5\n",
    "for i in range(10,51):\n",
    "    if i%2==0 and i%5==0:\n",
    "        print(i)\n"
   ]
  },
  {
   "cell_type": "code",
   "execution_count": 32,
   "id": "ce724a81",
   "metadata": {},
   "outputs": [
    {
     "name": "stdout",
     "output_type": "stream",
     "text": [
      "odd 1\n",
      "even 2\n",
      "odd 3\n",
      "even 4\n",
      "odd 5\n",
      "even 6\n",
      "odd 7\n",
      "even 8\n",
      "odd 9\n",
      "even 10\n",
      "odd 11\n",
      "even 12\n",
      "odd 13\n",
      "even 14\n",
      "odd 15\n",
      "even 16\n",
      "odd 17\n",
      "even 18\n",
      "odd 19\n",
      "even 20\n",
      "odd 21\n",
      "even 22\n",
      "odd 23\n",
      "even 24\n",
      "odd 25\n",
      "even 26\n",
      "odd 27\n",
      "even 28\n",
      "odd 29\n",
      "even 30\n",
      "odd 31\n",
      "even 32\n",
      "odd 33\n",
      "even 34\n",
      "odd 35\n",
      "even 36\n",
      "odd 37\n",
      "even 38\n",
      "odd 39\n",
      "even 40\n",
      "odd 41\n",
      "even 42\n",
      "odd 43\n",
      "even 44\n",
      "odd 45\n",
      "even 46\n",
      "odd 47\n",
      "even 48\n",
      "odd 49\n",
      "even 50\n"
     ]
    }
   ],
   "source": [
    "# wap to find even and odd number between 10 to 50 return value in list\n",
    "for i in range(1,51):\n",
    "    if i%2==0 :\n",
    "        print(\"even\",i)\n",
    "    else:\n",
    "        print(\"odd\",i)\n"
   ]
  },
  {
   "cell_type": "code",
   "execution_count": 35,
   "id": "d16b6964",
   "metadata": {},
   "outputs": [
    {
     "name": "stdout",
     "output_type": "stream",
     "text": [
      "even number [2, 4, 6, 8, 10, 12, 14, 16, 18, 20, 22, 24, 26, 28, 30, 32, 34, 36, 38, 40, 42, 44, 46, 48, 50]\n",
      "odd number [1, 3, 5, 7, 9, 11, 13, 15, 17, 19, 21, 23, 25, 27, 29, 31, 33, 35, 37, 39, 41, 43, 45, 47, 49]\n"
     ]
    }
   ],
   "source": [
    "even = []\n",
    "odd = []\n",
    "for i in range(1,51):\n",
    "    if i%2==0:\n",
    "        even.append(i)\n",
    "    else:\n",
    "        odd.append(i)\n",
    "print(\"even number\",even)\n",
    "print(\"odd number\",odd)"
   ]
  },
  {
   "cell_type": "markdown",
   "id": "6ed64634",
   "metadata": {},
   "source": [
    "\n",
    "<div style=\"background-color: PINK; color: #fff; padding: 30px; text-align: center;\">\n",
    "    <h1>END!\n",
    "        <!--- Devashish Kumar | Tech Skills Trainer | CodroidHub Private Limited | AI/ML Consultant --->\n",
    "</h1> </div>"
   ]
  },
  {
   "cell_type": "markdown",
   "id": "f3763212",
   "metadata": {},
   "source": [
    "<div style=\"background-color: #002147; color: #fff; padding: 30px; text-align: center;\">\n",
    "    <h1>THANK YOU!\n",
    "        <!--- Devashish Kumar | Tech Skills Trainer | CodroidHub Private Limited | AI/ML Consultant --->\n",
    "</h1> </div>"
   ]
  },
  {
   "cell_type": "markdown",
   "id": "4c45f063",
   "metadata": {},
   "source": []
  }
 ],
 "metadata": {
  "kernelspec": {
   "display_name": "base",
   "language": "python",
   "name": "python3"
  },
  "language_info": {
   "codemirror_mode": {
    "name": "ipython",
    "version": 3
   },
   "file_extension": ".py",
   "mimetype": "text/x-python",
   "name": "python",
   "nbconvert_exporter": "python",
   "pygments_lexer": "ipython3",
   "version": "3.12.4"
  }
 },
 "nbformat": 4,
 "nbformat_minor": 5
}
