{
 "cells": [
  {
   "cell_type": "markdown",
   "id": "eb12893e",
   "metadata": {},
   "source": [
    "<div style=\"background-color: #add8e6; padding: 10px; height: 70px; border-radius: 15px;\">\n",
    "    <div style=\"font-family: 'Georgia', serif; font-size: 20px; padding: 10px; text-align: right; position: absolute; right: 20px;\">\n",
    "        Kanchan Sharma <br>\n",
    "        <span style=\"font-family: 'Arial', sans-serif;font-size: 12px; color: #0a0a0a;\">Tech Skills Trainee | AI/ML Bootcamp</span> \n",
    "    </div>\n",
    "</div>"
   ]
  },
  {
   "cell_type": "markdown",
   "id": "3918edfc",
   "metadata": {},
   "source": [
    "<div style=\"background-color: #002147; padding: 10px; text-align: center; color: white; font-size: 32px; font-family: 'Arial', sans-serif;\">\n",
    " Assignment  <br>\n",
    "    <h3 style=\"text-align: center; color: white; font-size: 15px; font-family: 'Arial', sans-serif;\"></h3>\n",
    "</div>"
   ]
  },
  {
   "cell_type": "code",
   "execution_count": 1,
   "id": "8a927e89",
   "metadata": {},
   "outputs": [],
   "source": [
    "# Write a Python function to find the maximum of three numbers.\n",
    "def max_number(a,b,c):\n",
    "    if a>=b and a>=c:\n",
    "        return a\n",
    "    elif b>a and b>c:\n",
    "        return b\n",
    "    else:\n",
    "        return c \n",
    "        \n",
    "    \n",
    "\n",
    "    "
   ]
  },
  {
   "cell_type": "code",
   "execution_count": 2,
   "id": "f88f36b7",
   "metadata": {},
   "outputs": [
    {
     "data": {
      "text/plain": [
       "78"
      ]
     },
     "execution_count": 2,
     "metadata": {},
     "output_type": "execute_result"
    }
   ],
   "source": [
    "max_number(15,45,78)"
   ]
  },
  {
   "cell_type": "code",
   "execution_count": 3,
   "id": "0892362e",
   "metadata": {},
   "outputs": [
    {
     "data": {
      "text/plain": [
       "89"
      ]
     },
     "execution_count": 3,
     "metadata": {},
     "output_type": "execute_result"
    }
   ],
   "source": [
    "def max_num(a,b,c):\n",
    "    return max(a,b,c)\n",
    "max_num(10,78,89)"
   ]
  },
  {
   "cell_type": "code",
   "execution_count": 4,
   "id": "d9694d7d",
   "metadata": {},
   "outputs": [],
   "source": [
    "# Define a function named 'unique_list' that takes a list 'l' as input and returns a list of unique elements.\n",
    "def unique_list(l):\n",
    "    unique = []\n",
    "    for item in l:\n",
    "        if item not in unique:\n",
    "            unique.append(item)\n",
    "        return unique\n",
    "    "
   ]
  },
  {
   "cell_type": "code",
   "execution_count": 5,
   "id": "d6a88ad6",
   "metadata": {},
   "outputs": [
    {
     "data": {
      "text/plain": [
       "[1]"
      ]
     },
     "execution_count": 5,
     "metadata": {},
     "output_type": "execute_result"
    }
   ],
   "source": [
    "unique_list([1,2,3,4,4,5,6,7,8,8,9,5])"
   ]
  },
  {
   "cell_type": "code",
   "execution_count": 10,
   "id": "f2d87818",
   "metadata": {},
   "outputs": [
    {
     "data": {
      "text/plain": [
       "True"
      ]
     },
     "execution_count": 10,
     "metadata": {},
     "output_type": "execute_result"
    }
   ],
   "source": [
    "# Write a Python function that checks whether a passed string is a palindrome or not.\n",
    "def is_palindrome(s):\n",
    "    return s.lower() == s.lower()[::1]\n",
    "is_palindrome(\"madam\")"
   ]
  },
  {
   "cell_type": "code",
   "execution_count": 12,
   "id": "02616717",
   "metadata": {},
   "outputs": [],
   "source": [
    "#Write a Python function to create and print a list where the values are the squares of numbers between 1 and 30.\n",
    "def seq_num():\n",
    "    sequare = []\n",
    "    for i in range(1,31):\n",
    "        sequare.append(i**2)\n",
    "    print(sequare)\n"
   ]
  },
  {
   "cell_type": "code",
   "execution_count": 13,
   "id": "c8bcdc5e",
   "metadata": {},
   "outputs": [
    {
     "name": "stdout",
     "output_type": "stream",
     "text": [
      "[1, 4, 9, 16, 25, 36, 49, 64, 81, 100, 121, 144, 169, 196, 225, 256, 289, 324, 361, 400, 441, 484, 529, 576, 625, 676, 729, 784, 841, 900]\n"
     ]
    }
   ],
   "source": [
    "seq_num()"
   ]
  },
  {
   "cell_type": "code",
   "execution_count": 20,
   "id": "79c37e77",
   "metadata": {},
   "outputs": [
    {
     "name": "stdout",
     "output_type": "stream",
     "text": [
      "720\n"
     ]
    }
   ],
   "source": [
    "# Write a Python function that returns the factorial of a number.\n",
    "def fact_num(n):\n",
    "    fact = 1\n",
    "    for i in range(1,n+1):\n",
    "        fact *= i\n",
    "    return fact\n",
    "print(fact_num(6))\n"
   ]
  },
  {
   "cell_type": "code",
   "execution_count": 21,
   "id": "4c29e549",
   "metadata": {},
   "outputs": [],
   "source": [
    "# Write a Python function that accepts a list of numbers and returns the average of the numbers.\n",
    "def average(numbers):\n",
    "    return sum(numbers)/len(numbers)"
   ]
  },
  {
   "cell_type": "code",
   "execution_count": 22,
   "id": "bb705383",
   "metadata": {},
   "outputs": [
    {
     "data": {
      "text/plain": [
       "16.125"
      ]
     },
     "execution_count": 22,
     "metadata": {},
     "output_type": "execute_result"
    }
   ],
   "source": [
    "average([5,9,0,8,7,6,5,89])"
   ]
  },
  {
   "cell_type": "code",
   "execution_count": 23,
   "id": "f68f7315",
   "metadata": {},
   "outputs": [],
   "source": [
    "# Write a Python function that counts the number of even numbers in a given list.\n",
    "def count_even(numbers):\n",
    "    count = 0\n",
    "    for num in numbers:\n",
    "        if num%2==0:\n",
    "            count +=1\n",
    "    return count\n"
   ]
  },
  {
   "cell_type": "code",
   "execution_count": 25,
   "id": "3e19bf1e",
   "metadata": {},
   "outputs": [
    {
     "data": {
      "text/plain": [
       "4"
      ]
     },
     "execution_count": 25,
     "metadata": {},
     "output_type": "execute_result"
    }
   ],
   "source": [
    "count_even([5,8,9,1,3,2,4,6])"
   ]
  },
  {
   "cell_type": "code",
   "execution_count": 26,
   "id": "1332229d",
   "metadata": {},
   "outputs": [
    {
     "name": "stdout",
     "output_type": "stream",
     "text": [
      "Hll Wrld\n",
      "Pythn\n"
     ]
    }
   ],
   "source": [
    "# Write a Python function that removes all vowels from a string.\n",
    "def remove_vowels(s):\n",
    "    vowels = \"aeiouAEIOU\"\n",
    "    result = \"\"\n",
    "    for char in s:\n",
    "        if char not in vowels:\n",
    "            result += char\n",
    "    return result\n",
    "\n",
    "\n",
    "print(remove_vowels(\"Hello World\"))  \n",
    "print(remove_vowels(\"Python\"))  \n"
   ]
  },
  {
   "cell_type": "code",
   "execution_count": 27,
   "id": "9e80d729",
   "metadata": {},
   "outputs": [
    {
     "name": "stdout",
     "output_type": "stream",
     "text": [
      "[2, 3]\n"
     ]
    }
   ],
   "source": [
    "# Write a Python function that returns the common elements in multiple lists.\n",
    "def common_elements(*lists):\n",
    "    return list(set(lists[0]).intersection(*lists[1:]))\n",
    "\n",
    "print(common_elements([1, 2, 3, 4], [2, 3, 5, 6], [0, 2, 3, 9]))\n",
    "\n"
   ]
  },
  {
   "cell_type": "code",
   "execution_count": 29,
   "id": "f0ea15d1",
   "metadata": {},
   "outputs": [
    {
     "data": {
      "text/plain": [
       "7"
      ]
     },
     "execution_count": 29,
     "metadata": {},
     "output_type": "execute_result"
    }
   ],
   "source": [
    "# Write a Python function that finds the difference between the largest and smallest numbers in a list.\n",
    "def max_min_num(numbers):\n",
    "    return max(numbers)-min(numbers)\n",
    "max_min_num([2,8,9,4,7])\n",
    "\n"
   ]
  },
  {
   "cell_type": "code",
   "execution_count": null,
   "id": "576ea875",
   "metadata": {},
   "outputs": [],
   "source": []
  }
 ],
 "metadata": {
  "kernelspec": {
   "display_name": "base",
   "language": "python",
   "name": "python3"
  },
  "language_info": {
   "codemirror_mode": {
    "name": "ipython",
    "version": 3
   },
   "file_extension": ".py",
   "mimetype": "text/x-python",
   "name": "python",
   "nbconvert_exporter": "python",
   "pygments_lexer": "ipython3",
   "version": "3.12.4"
  }
 },
 "nbformat": 4,
 "nbformat_minor": 5
}
