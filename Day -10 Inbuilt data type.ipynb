{
 "cells": [
  {
   "cell_type": "markdown",
   "id": "5f915c0b",
   "metadata": {},
   "source": [
    "<div style=\"background-color: #add8e6; padding: 10px; height: 70px; border-radius: 15px;\">\n",
    "    <div style=\"font-family: 'Georgia', serif; font-size: 20px; padding: 10px; text-align: right; position: absolute; right: 20px;\">\n",
    "        Kanchan Sharma <br>\n",
    "        <span style=\"font-family: 'Arial', sans-serif;font-size: 12px; color: #0a0a0a;\">Tech Skills Trainee | AI/ML Bootcamp</span> \n",
    "    </div>\n",
    "</div>"
   ]
  },
  {
   "cell_type": "markdown",
   "id": "c41c3d74",
   "metadata": {},
   "source": [
    "<div style=\"background-color: #002147; padding: 10px; text-align: center; color: white; font-size: 32px; font-family: 'Arial', sans-serif;\">\n",
    "  Python Inbuilt Data Structure  <br>\n",
    "    <h3 style=\"text-align: center; color: white; font-size: 15px; font-family: 'Arial', sans-serif;\"></h3>\n",
    "</div>"
   ]
  },
  {
   "cell_type": "markdown",
   "id": "82300f69",
   "metadata": {},
   "source": [
    "#### python inbuilt data types or collection of python of different datatype or data structure of pyton or special data type"
   ]
  },
  {
   "cell_type": "markdown",
   "id": "1036ca3c",
   "metadata": {},
   "source": [
    "# Data types are:"
   ]
  },
  {
   "cell_type": "markdown",
   "id": "e6e8a88d",
   "metadata": {},
   "source": [
    "#### 1.) List\n",
    "#### 2.) Tuple\n",
    "#### 3.) Dictionary\n",
    "#### 4.) Set"
   ]
  },
  {
   "cell_type": "markdown",
   "id": "05c490e2",
   "metadata": {},
   "source": [
    "# 1.) list"
   ]
  },
  {
   "cell_type": "code",
   "execution_count": 1,
   "id": "f39d053d",
   "metadata": {},
   "outputs": [],
   "source": [
    "#--- LIST\n",
    "# List is collection \n",
    "# List can hold all data type of different data\n",
    "#  Data point enclosed within [........]\n",
    "#  List is order collection\n",
    "# List - Index - 0,1,2,3,4,5,6,7,8,9.....\n",
    "#  Mutable or editable or changeable\n",
    "# Duplicate Allow"
   ]
  },
  {
   "cell_type": "code",
   "execution_count": 5,
   "id": "ebb2dba4",
   "metadata": {},
   "outputs": [
    {
     "name": "stdout",
     "output_type": "stream",
     "text": [
      "[1, 2, 3, 4, 9.0, 'kanchan']\n"
     ]
    }
   ],
   "source": [
    "ls = [1,2,3,4,9.0,\"kanchan\"]\n",
    "print(ls)"
   ]
  },
  {
   "cell_type": "code",
   "execution_count": 6,
   "id": "8528b7d3",
   "metadata": {},
   "outputs": [
    {
     "name": "stdout",
     "output_type": "stream",
     "text": [
      "<class 'list'>\n"
     ]
    }
   ],
   "source": [
    "# type to chechk the data type\n",
    "print(type(ls))"
   ]
  },
  {
   "cell_type": "code",
   "execution_count": 7,
   "id": "0d2eea97",
   "metadata": {},
   "outputs": [
    {
     "data": {
      "text/plain": [
       "6"
      ]
     },
     "execution_count": 7,
     "metadata": {},
     "output_type": "execute_result"
    }
   ],
   "source": [
    "# count of elements\n",
    "len(ls)"
   ]
  },
  {
   "cell_type": "code",
   "execution_count": 8,
   "id": "2a47d476",
   "metadata": {},
   "outputs": [
    {
     "data": {
      "text/plain": [
       "1"
      ]
     },
     "execution_count": 8,
     "metadata": {},
     "output_type": "execute_result"
    }
   ],
   "source": [
    "# frequency or any element or icon\n",
    "ls.count(3)"
   ]
  },
  {
   "cell_type": "code",
   "execution_count": 9,
   "id": "815afedc",
   "metadata": {},
   "outputs": [],
   "source": [
    "# add any  element bydefault in last\n",
    "ls.append(49)"
   ]
  },
  {
   "cell_type": "code",
   "execution_count": 10,
   "id": "0c669769",
   "metadata": {},
   "outputs": [
    {
     "data": {
      "text/plain": [
       "[1, 2, 3, 4, 9.0, 'kanchan', 49]"
      ]
     },
     "execution_count": 10,
     "metadata": {},
     "output_type": "execute_result"
    }
   ],
   "source": [
    "ls"
   ]
  },
  {
   "cell_type": "code",
   "execution_count": 11,
   "id": "20101497",
   "metadata": {},
   "outputs": [
    {
     "data": {
      "text/plain": [
       "3"
      ]
     },
     "execution_count": 11,
     "metadata": {},
     "output_type": "execute_result"
    }
   ],
   "source": [
    "# find the index of any element\n",
    "ls.index(4)"
   ]
  },
  {
   "cell_type": "code",
   "execution_count": 12,
   "id": "d00f33b8",
   "metadata": {},
   "outputs": [
    {
     "data": {
      "text/plain": [
       "3"
      ]
     },
     "execution_count": 12,
     "metadata": {},
     "output_type": "execute_result"
    }
   ],
   "source": [
    "# picking the value by index\n",
    "ls[2]"
   ]
  },
  {
   "cell_type": "code",
   "execution_count": 13,
   "id": "8871e07d",
   "metadata": {},
   "outputs": [],
   "source": [
    " # Add any element - custom\n",
    "ls.insert(4,3)"
   ]
  },
  {
   "cell_type": "code",
   "execution_count": 14,
   "id": "a2d8c193",
   "metadata": {},
   "outputs": [
    {
     "data": {
      "text/plain": [
       "[1, 2, 3, 4, 3, 9.0, 'kanchan', 49]"
      ]
     },
     "execution_count": 14,
     "metadata": {},
     "output_type": "execute_result"
    }
   ],
   "source": [
    "ls"
   ]
  },
  {
   "cell_type": "code",
   "execution_count": 15,
   "id": "5d0ccda3",
   "metadata": {},
   "outputs": [
    {
     "data": {
      "text/plain": [
       "49"
      ]
     },
     "execution_count": 15,
     "metadata": {},
     "output_type": "execute_result"
    }
   ],
   "source": [
    "#delete the value from the list by default\n",
    "ls.pop()"
   ]
  },
  {
   "cell_type": "code",
   "execution_count": 16,
   "id": "b7024b21",
   "metadata": {},
   "outputs": [
    {
     "data": {
      "text/plain": [
       "[1, 2, 3, 4, 3, 9.0, 'kanchan']"
      ]
     },
     "execution_count": 16,
     "metadata": {},
     "output_type": "execute_result"
    }
   ],
   "source": [
    "ls"
   ]
  },
  {
   "cell_type": "code",
   "execution_count": 17,
   "id": "cadf6f69",
   "metadata": {},
   "outputs": [],
   "source": [
    "ls.remove(3)"
   ]
  },
  {
   "cell_type": "code",
   "execution_count": 18,
   "id": "a16f2b87",
   "metadata": {},
   "outputs": [
    {
     "data": {
      "text/plain": [
       "[1, 2, 4, 3, 9.0, 'kanchan']"
      ]
     },
     "execution_count": 18,
     "metadata": {},
     "output_type": "execute_result"
    }
   ],
   "source": [
    "ls"
   ]
  },
  {
   "cell_type": "code",
   "execution_count": 21,
   "id": "9d59d56e",
   "metadata": {},
   "outputs": [],
   "source": [
    "ls1 = ls.copy()"
   ]
  },
  {
   "cell_type": "code",
   "execution_count": 22,
   "id": "aa059c1e",
   "metadata": {},
   "outputs": [
    {
     "data": {
      "text/plain": [
       "[1, 2, 4, 3, 9.0, 'kanchan']"
      ]
     },
     "execution_count": 22,
     "metadata": {},
     "output_type": "execute_result"
    }
   ],
   "source": [
    "ls1"
   ]
  },
  {
   "cell_type": "code",
   "execution_count": 23,
   "id": "ec13c411",
   "metadata": {},
   "outputs": [],
   "source": [
    "#Clear\n",
    "ls.clear()"
   ]
  },
  {
   "cell_type": "code",
   "execution_count": 25,
   "id": "95f91c8d",
   "metadata": {},
   "outputs": [
    {
     "data": {
      "text/plain": [
       "[]"
      ]
     },
     "execution_count": 25,
     "metadata": {},
     "output_type": "execute_result"
    }
   ],
   "source": [
    "ls"
   ]
  },
  {
   "cell_type": "code",
   "execution_count": 26,
   "id": "3501eec3",
   "metadata": {},
   "outputs": [
    {
     "data": {
      "text/plain": [
       "[1, 2, 4, 3, 9.0, 'kanchan']"
      ]
     },
     "execution_count": 26,
     "metadata": {},
     "output_type": "execute_result"
    }
   ],
   "source": [
    "ls1"
   ]
  },
  {
   "cell_type": "code",
   "execution_count": 27,
   "id": "a51d5aeb",
   "metadata": {},
   "outputs": [],
   "source": [
    "# function\n",
    "lsm=[10,20,30,45,67,10,45,67]"
   ]
  },
  {
   "cell_type": "code",
   "execution_count": 28,
   "id": "d73eaaf6",
   "metadata": {},
   "outputs": [
    {
     "data": {
      "text/plain": [
       "[10, 20, 30, 45, 67, 10, 45, 67]"
      ]
     },
     "execution_count": 28,
     "metadata": {},
     "output_type": "execute_result"
    }
   ],
   "source": [
    "lsm"
   ]
  },
  {
   "cell_type": "code",
   "execution_count": 29,
   "id": "ecd0871e",
   "metadata": {},
   "outputs": [
    {
     "name": "stdout",
     "output_type": "stream",
     "text": [
      "294\n",
      "67\n",
      "10\n",
      "8\n"
     ]
    }
   ],
   "source": [
    "print(sum(lsm))\n",
    "print(max(lsm))\n",
    "print(min(lsm))\n",
    "print(len(lsm))"
   ]
  },
  {
   "cell_type": "code",
   "execution_count": 30,
   "id": "61b0381b",
   "metadata": {},
   "outputs": [],
   "source": [
    "\n",
    "\n",
    "# Find the day name of max sales\n",
    "sales=[10,20,3056,78,90,450000]\n",
    "day=['mon','tue','wed','thr','fri','sat']"
   ]
  },
  {
   "cell_type": "code",
   "execution_count": 33,
   "id": "b01bcd12",
   "metadata": {},
   "outputs": [
    {
     "data": {
      "text/plain": [
       "10"
      ]
     },
     "execution_count": 33,
     "metadata": {},
     "output_type": "execute_result"
    }
   ],
   "source": [
    "min(sales)"
   ]
  },
  {
   "cell_type": "code",
   "execution_count": 34,
   "id": "19579f94",
   "metadata": {},
   "outputs": [
    {
     "data": {
      "text/plain": [
       "1"
      ]
     },
     "execution_count": 34,
     "metadata": {},
     "output_type": "execute_result"
    }
   ],
   "source": [
    "sales.index(20)"
   ]
  },
  {
   "cell_type": "code",
   "execution_count": 35,
   "id": "75e48800",
   "metadata": {},
   "outputs": [
    {
     "data": {
      "text/plain": [
       "'sat'"
      ]
     },
     "execution_count": 35,
     "metadata": {},
     "output_type": "execute_result"
    }
   ],
   "source": [
    "day[sales.index(max(sales))]"
   ]
  },
  {
   "cell_type": "code",
   "execution_count": 37,
   "id": "5088c518",
   "metadata": {},
   "outputs": [
    {
     "data": {
      "text/plain": [
       "'wed'"
      ]
     },
     "execution_count": 37,
     "metadata": {},
     "output_type": "execute_result"
    }
   ],
   "source": [
    "day[2]"
   ]
  },
  {
   "cell_type": "markdown",
   "id": "4f155e08",
   "metadata": {},
   "source": [
    "# Tuple"
   ]
  },
  {
   "cell_type": "code",
   "execution_count": 38,
   "id": "b894b959",
   "metadata": {},
   "outputs": [],
   "source": [
    "#Tuple is colletion\n",
    "#  It hold all data type data\n",
    "#  item are enclosed within (.......)\n",
    "#  tuple is orderd collection \n",
    "#  Index - 0,1,2,3,4,5,6,7,8,9.....\n",
    "#  Immutable or non-editable or unchangeable\n",
    "#  Duplicate allow\n",
    "\n"
   ]
  },
  {
   "cell_type": "code",
   "execution_count": 39,
   "id": "4b93d759",
   "metadata": {},
   "outputs": [],
   "source": [
    "# Data type\n",
    "          # int , float , complex , string\n",
    "\n",
    "# Type of data \n",
    "          # sales\n",
    "          # profit\n",
    "          # qty"
   ]
  },
  {
   "cell_type": "code",
   "execution_count": 40,
   "id": "6f87ef52",
   "metadata": {},
   "outputs": [],
   "source": [
    "tp=(10,20,30,40,50,40,40,'Ram',30+50j,True)"
   ]
  },
  {
   "cell_type": "code",
   "execution_count": 41,
   "id": "70be96a0",
   "metadata": {},
   "outputs": [
    {
     "data": {
      "text/plain": [
       "(10, 20, 30, 40, 50, 40, 40, 'Ram', (30+50j), True)"
      ]
     },
     "execution_count": 41,
     "metadata": {},
     "output_type": "execute_result"
    }
   ],
   "source": [
    "tp"
   ]
  },
  {
   "cell_type": "code",
   "execution_count": 42,
   "id": "ab6d500c",
   "metadata": {},
   "outputs": [
    {
     "data": {
      "text/plain": [
       "10"
      ]
     },
     "execution_count": 42,
     "metadata": {},
     "output_type": "execute_result"
    }
   ],
   "source": [
    "# count of element\n",
    "len(tp)"
   ]
  },
  {
   "cell_type": "code",
   "execution_count": 46,
   "id": "6674b334",
   "metadata": {},
   "outputs": [
    {
     "data": {
      "text/plain": [
       "1"
      ]
     },
     "execution_count": 46,
     "metadata": {},
     "output_type": "execute_result"
    }
   ],
   "source": [
    "# frequency count\n",
    "tp.count(30)"
   ]
  },
  {
   "cell_type": "code",
   "execution_count": 47,
   "id": "67f834c1",
   "metadata": {},
   "outputs": [
    {
     "ename": "AttributeError",
     "evalue": "'tuple' object has no attribute 'append'",
     "output_type": "error",
     "traceback": [
      "\u001b[1;31m---------------------------------------------------------------------------\u001b[0m",
      "\u001b[1;31mAttributeError\u001b[0m                            Traceback (most recent call last)",
      "Cell \u001b[1;32mIn[47], line 1\u001b[0m\n\u001b[1;32m----> 1\u001b[0m \u001b[43mtp\u001b[49m\u001b[38;5;241;43m.\u001b[39;49m\u001b[43mappend\u001b[49m(\u001b[38;5;241m40\u001b[39m)\n",
      "\u001b[1;31mAttributeError\u001b[0m: 'tuple' object has no attribute 'append'"
     ]
    }
   ],
   "source": [
    "tp.append(40)"
   ]
  },
  {
   "cell_type": "code",
   "execution_count": 48,
   "id": "7d656e3a",
   "metadata": {},
   "outputs": [
    {
     "ename": "AttributeError",
     "evalue": "'tuple' object has no attribute 'pop'",
     "output_type": "error",
     "traceback": [
      "\u001b[1;31m---------------------------------------------------------------------------\u001b[0m",
      "\u001b[1;31mAttributeError\u001b[0m                            Traceback (most recent call last)",
      "Cell \u001b[1;32mIn[48], line 1\u001b[0m\n\u001b[1;32m----> 1\u001b[0m \u001b[43mtp\u001b[49m\u001b[38;5;241;43m.\u001b[39;49m\u001b[43mpop\u001b[49m()\n",
      "\u001b[1;31mAttributeError\u001b[0m: 'tuple' object has no attribute 'pop'"
     ]
    }
   ],
   "source": [
    "tp.pop()"
   ]
  },
  {
   "cell_type": "code",
   "execution_count": 49,
   "id": "c4a84a05",
   "metadata": {},
   "outputs": [
    {
     "data": {
      "text/plain": [
       "[1, 2, 4, 3, 9.0, 'kanchan']"
      ]
     },
     "execution_count": 49,
     "metadata": {},
     "output_type": "execute_result"
    }
   ],
   "source": [
    "# Convert \n",
    "ls1"
   ]
  },
  {
   "cell_type": "code",
   "execution_count": 50,
   "id": "8b9e7a1d",
   "metadata": {},
   "outputs": [
    {
     "data": {
      "text/plain": [
       "(1, 2, 4, 3, 9.0, 'kanchan')"
      ]
     },
     "execution_count": 50,
     "metadata": {},
     "output_type": "execute_result"
    }
   ],
   "source": [
    "tuple(ls1)"
   ]
  },
  {
   "cell_type": "markdown",
   "id": "4dd9f2a4",
   "metadata": {
    "vscode": {
     "languageId": "html"
    }
   },
   "source": [
    "\n",
    "<div style=\"background-color: PINK; color: #fff; padding: 30px; text-align: center;\">\n",
    "    <h1>END!\n",
    "        <!--- Devashish Kumar | Tech Skills Trainer | CodroidHub Private Limited | AI/ML Consultant --->\n",
    "</h1> </div>"
   ]
  },
  {
   "cell_type": "markdown",
   "id": "edf5089d",
   "metadata": {},
   "source": [
    "<div style=\"background-color: #002147; color: #fff; padding: 30px; text-align: center;\">\n",
    "    <h1>THANK YOU!\n",
    "        <!--- Devashish Kumar | Tech Skills Trainer | CodroidHub Private Limited | AI/ML Consultant --->\n",
    "</h1> </div>"
   ]
  },
  {
   "cell_type": "markdown",
   "id": "0b998e97",
   "metadata": {},
   "source": []
  }
 ],
 "metadata": {
  "kernelspec": {
   "display_name": "base",
   "language": "python",
   "name": "python3"
  },
  "language_info": {
   "codemirror_mode": {
    "name": "ipython",
    "version": 3
   },
   "file_extension": ".py",
   "mimetype": "text/x-python",
   "name": "python",
   "nbconvert_exporter": "python",
   "pygments_lexer": "ipython3",
   "version": "3.12.4"
  }
 },
 "nbformat": 4,
 "nbformat_minor": 5
}
