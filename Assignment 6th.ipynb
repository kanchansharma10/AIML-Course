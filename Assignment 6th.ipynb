{
 "cells": [
  {
   "cell_type": "markdown",
   "id": "fca69a28",
   "metadata": {},
   "source": [
    "# Assignment "
   ]
  },
  {
   "cell_type": "markdown",
   "id": "8341e587",
   "metadata": {},
   "source": [
    "## Part A: Series Creation"
   ]
  },
  {
   "cell_type": "markdown",
   "id": "2b3faf38",
   "metadata": {},
   "source": [
    "1.\tCreate a Pandas Series using a list of 10 random integers between 10 and 100.\n",
    "- \n",
    "\tDisplay the Series and its data type.\n"
   ]
  },
  {
   "cell_type": "code",
   "execution_count": 2,
   "id": "9f8ca1ad",
   "metadata": {},
   "outputs": [],
   "source": [
    "import pandas as pd\n",
    "import random"
   ]
  },
  {
   "cell_type": "code",
   "execution_count": 4,
   "id": "6ac4f15c",
   "metadata": {},
   "outputs": [
    {
     "data": {
      "text/plain": [
       "0    41\n",
       "1    13\n",
       "2    51\n",
       "3    55\n",
       "4    19\n",
       "5    41\n",
       "6    28\n",
       "7    19\n",
       "8    83\n",
       "9    24\n",
       "dtype: int64"
      ]
     },
     "execution_count": 4,
     "metadata": {},
     "output_type": "execute_result"
    }
   ],
   "source": [
    "data = [random.randint(10, 100) for _ in range(10)]\n",
    "pd.Series(data)"
   ]
  },
  {
   "cell_type": "code",
   "execution_count": 7,
   "id": "ccf4ac51",
   "metadata": {},
   "outputs": [
    {
     "data": {
      "text/plain": [
       "list"
      ]
     },
     "execution_count": 7,
     "metadata": {},
     "output_type": "execute_result"
    }
   ],
   "source": [
    "type(data)"
   ]
  },
  {
   "cell_type": "markdown",
   "id": "17240c54",
   "metadata": {},
   "source": [
    "2.\tCreate a Series using a dictionary where keys are names of fruits and values are their prices per kg (e.g., {\"Apple\": 120, \"Banana\": 50, \"Cherry\": 200}).\n",
    "-\tDisplay the Series.\n"
   ]
  },
  {
   "cell_type": "code",
   "execution_count": 9,
   "id": "69d02999",
   "metadata": {},
   "outputs": [
    {
     "data": {
      "text/plain": [
       "Apple     120\n",
       "Banana     50\n",
       "Cherry    200\n",
       "dtype: int64"
      ]
     },
     "execution_count": 9,
     "metadata": {},
     "output_type": "execute_result"
    }
   ],
   "source": [
    "dict ={\"Apple\": 120, \"Banana\": 50, \"Cherry\": 200}\n",
    "pd.Series(dict)"
   ]
  },
  {
   "cell_type": "markdown",
   "id": "2eeb12bf",
   "metadata": {},
   "source": [
    "3.\tCreate a Series from a NumPy array with 15 evenly spaced values between 1 and 50.\n",
    "-\tAdd a custom index: ['A', 'B', 'C', ..., 'O'].\n"
   ]
  },
  {
   "cell_type": "code",
   "execution_count": 10,
   "id": "8b018287",
   "metadata": {},
   "outputs": [
    {
     "name": "stdout",
     "output_type": "stream",
     "text": [
      "A     1.0\n",
      "B     4.5\n",
      "C     8.0\n",
      "D    11.5\n",
      "E    15.0\n",
      "F    18.5\n",
      "G    22.0\n",
      "H    25.5\n",
      "I    29.0\n",
      "J    32.5\n",
      "K    36.0\n",
      "L    39.5\n",
      "M    43.0\n",
      "N    46.5\n",
      "O    50.0\n",
      "dtype: float64\n"
     ]
    }
   ],
   "source": [
    "import pandas as pd\n",
    "import numpy as np\n",
    "\n",
    "s = pd.Series(np.linspace(1, 50, 15), index=list('ABCDEFGHIJKLMNO'))\n",
    "print(s)"
   ]
  },
  {
   "cell_type": "markdown",
   "id": "240e212b",
   "metadata": {},
   "source": [
    "# Part B: Series Indexing and Slicing"
   ]
  },
  {
   "cell_type": "markdown",
   "id": "cebf5d4f",
   "metadata": {},
   "source": [
    "4.\tUsing the fruit prices Series created in Part A, perform the following:\n",
    "-\tRetrieve the price of \"Cherry.\"\n",
    "-\tUpdate the price of \"Banana\" to 60.\n",
    "-\tAdd a new fruit, \"Orange,\" with a price of 80\n"
   ]
  },
  {
   "cell_type": "code",
   "execution_count": 11,
   "id": "4bb4dadc",
   "metadata": {},
   "outputs": [
    {
     "data": {
      "text/plain": [
       "Apple     120\n",
       "Banana     50\n",
       "Cherry    200\n",
       "dtype: int64"
      ]
     },
     "execution_count": 11,
     "metadata": {},
     "output_type": "execute_result"
    }
   ],
   "source": [
    "dict ={\"Apple\": 120, \"Banana\": 50, \"Cherry\": 200}\n",
    "pd.Series(dict)"
   ]
  },
  {
   "cell_type": "code",
   "execution_count": 12,
   "id": "408912e7",
   "metadata": {},
   "outputs": [
    {
     "name": "stdout",
     "output_type": "stream",
     "text": [
      "Price of Cherry: 200\n"
     ]
    }
   ],
   "source": [
    "cherry_price = dict[\"Cherry\"]\n",
    "print(\"Price of Cherry:\", cherry_price)"
   ]
  },
  {
   "cell_type": "code",
   "execution_count": 18,
   "id": "ad31ddf4",
   "metadata": {},
   "outputs": [],
   "source": [
    "dict[\"Banana\"]= 60\n",
    "dict[\"orange\"] = 80"
   ]
  },
  {
   "cell_type": "code",
   "execution_count": 19,
   "id": "260b78e6",
   "metadata": {},
   "outputs": [
    {
     "data": {
      "text/plain": [
       "Apple     120\n",
       "Banana     60\n",
       "Cherry    200\n",
       "orange     80\n",
       "dtype: int64"
      ]
     },
     "execution_count": 19,
     "metadata": {},
     "output_type": "execute_result"
    }
   ],
   "source": [
    "pd.Series(dict)"
   ]
  },
  {
   "cell_type": "markdown",
   "id": "3710e590",
   "metadata": {},
   "source": [
    "5.\tSlice the Series of random integers (from Part A) to display:\n",
    "-\tThe first 5 elements.\n",
    "-\tThe last 3 elements.\n"
   ]
  },
  {
   "cell_type": "code",
   "execution_count": 20,
   "id": "b6502a4d",
   "metadata": {},
   "outputs": [
    {
     "data": {
      "text/plain": [
       "0    95\n",
       "1    64\n",
       "2    40\n",
       "3    74\n",
       "4    41\n",
       "5    22\n",
       "6    54\n",
       "7    19\n",
       "8    84\n",
       "9    32\n",
       "dtype: int64"
      ]
     },
     "execution_count": 20,
     "metadata": {},
     "output_type": "execute_result"
    }
   ],
   "source": [
    "data = [random.randint(10, 100) for _ in range(10)]\n",
    "pd.Series(data)"
   ]
  },
  {
   "cell_type": "code",
   "execution_count": 22,
   "id": "55e0f585",
   "metadata": {},
   "outputs": [
    {
     "data": {
      "text/plain": [
       "0    95\n",
       "1    64\n",
       "2    40\n",
       "3    74\n",
       "4    41\n",
       "5    22\n",
       "dtype: int64"
      ]
     },
     "execution_count": 22,
     "metadata": {},
     "output_type": "execute_result"
    }
   ],
   "source": [
    "pd.Series(data[0:6])"
   ]
  },
  {
   "cell_type": "code",
   "execution_count": 25,
   "id": "a3f7f1e9",
   "metadata": {},
   "outputs": [
    {
     "data": {
      "text/plain": [
       "0    19\n",
       "1    84\n",
       "2    32\n",
       "dtype: int64"
      ]
     },
     "execution_count": 25,
     "metadata": {},
     "output_type": "execute_result"
    }
   ],
   "source": [
    "pd.Series(data[-3:])"
   ]
  },
  {
   "cell_type": "markdown",
   "id": "efffb187",
   "metadata": {},
   "source": [
    "# Part C: Series Operations\n",
    "6.\tPerform the following operations on the random integer Series:\n",
    "-\tCalculate the mean, median, and standard deviation.\n",
    "-\tIdentify all elements greater than the mean.\n"
   ]
  },
  {
   "cell_type": "code",
   "execution_count": 37,
   "id": "467499e1",
   "metadata": {},
   "outputs": [
    {
     "data": {
      "text/plain": [
       "25.5"
      ]
     },
     "execution_count": 37,
     "metadata": {},
     "output_type": "execute_result"
    }
   ],
   "source": [
    " mean= s.mean()\n",
    "mean"
   ]
  },
  {
   "cell_type": "code",
   "execution_count": 38,
   "id": "9f6599d2",
   "metadata": {},
   "outputs": [
    {
     "data": {
      "text/plain": [
       "25.5"
      ]
     },
     "execution_count": 38,
     "metadata": {},
     "output_type": "execute_result"
    }
   ],
   "source": [
    "s.median()"
   ]
  },
  {
   "cell_type": "code",
   "execution_count": 39,
   "id": "1786b980",
   "metadata": {},
   "outputs": [
    {
     "data": {
      "text/plain": [
       "15.652475842498529"
      ]
     },
     "execution_count": 39,
     "metadata": {},
     "output_type": "execute_result"
    }
   ],
   "source": [
    "s.std()"
   ]
  },
  {
   "cell_type": "code",
   "execution_count": 41,
   "id": "02095dbf",
   "metadata": {},
   "outputs": [
    {
     "name": "stdout",
     "output_type": "stream",
     "text": [
      "I    29.0\n",
      "J    32.5\n",
      "K    36.0\n",
      "L    39.5\n",
      "M    43.0\n",
      "N    46.5\n",
      "O    50.0\n",
      "dtype: float64\n"
     ]
    }
   ],
   "source": [
    "print(s[s> mean])"
   ]
  },
  {
   "cell_type": "markdown",
   "id": "fb692d16",
   "metadata": {},
   "source": [
    "7.\tUsing two Series:\n",
    "-\ts1 = pd.Series([1, 2, 3, 4, 5])\n",
    "-\ts2 = pd.Series([5, 4, 3, 2, 1])"
   ]
  },
  {
   "cell_type": "code",
   "execution_count": 43,
   "id": "30731d6c",
   "metadata": {},
   "outputs": [],
   "source": [
    "s1 = pd.Series([1, 2, 3, 4, 5])\n",
    "s2 = pd.Series([5, 4, 3, 2, 1])"
   ]
  },
  {
   "cell_type": "code",
   "execution_count": 44,
   "id": "3570aa19",
   "metadata": {},
   "outputs": [
    {
     "data": {
      "text/plain": [
       "0    6\n",
       "1    6\n",
       "2    6\n",
       "3    6\n",
       "4    6\n",
       "dtype: int64"
      ]
     },
     "execution_count": 44,
     "metadata": {},
     "output_type": "execute_result"
    }
   ],
   "source": [
    "s1+s2"
   ]
  },
  {
   "cell_type": "code",
   "execution_count": 45,
   "id": "a2442144",
   "metadata": {},
   "outputs": [
    {
     "data": {
      "text/plain": [
       "0   -4\n",
       "1   -2\n",
       "2    0\n",
       "3    2\n",
       "4    4\n",
       "dtype: int64"
      ]
     },
     "execution_count": 45,
     "metadata": {},
     "output_type": "execute_result"
    }
   ],
   "source": [
    "s1-s2"
   ]
  },
  {
   "cell_type": "code",
   "execution_count": 46,
   "id": "5ca1ea87",
   "metadata": {},
   "outputs": [
    {
     "data": {
      "text/plain": [
       "0    5\n",
       "1    8\n",
       "2    9\n",
       "3    8\n",
       "4    5\n",
       "dtype: int64"
      ]
     },
     "execution_count": 46,
     "metadata": {},
     "output_type": "execute_result"
    }
   ],
   "source": [
    "s1*s2"
   ]
  },
  {
   "cell_type": "code",
   "execution_count": 47,
   "id": "34745fb8",
   "metadata": {},
   "outputs": [
    {
     "data": {
      "text/plain": [
       "0    0.2\n",
       "1    0.5\n",
       "2    1.0\n",
       "3    2.0\n",
       "4    5.0\n",
       "dtype: float64"
      ]
     },
     "execution_count": 47,
     "metadata": {},
     "output_type": "execute_result"
    }
   ],
   "source": [
    "s1/s2"
   ]
  },
  {
   "cell_type": "markdown",
   "id": "7ac11d31",
   "metadata": {},
   "source": [
    "# Part D: Filtering and Sorting\n",
    "8.\tFrom the fruit prices Series, filter and display:\n",
    "-\tFruits that cost more than 100 per kg.\n",
    "-\tFruits that cost less than or equal to 60 per kg.\n"
   ]
  },
  {
   "cell_type": "code",
   "execution_count": 58,
   "id": "05fde727",
   "metadata": {},
   "outputs": [
    {
     "name": "stdout",
     "output_type": "stream",
     "text": [
      "Apple     120\n",
      "Cherry    200\n",
      "dtype: int64\n"
     ]
    }
   ],
   "source": [
    "dict =pd.Series({\"Apple\": 120, \"Banana\": 50, \"Cherry\": 200})\n",
    "cost = dict[dict>100]\n",
    "print(cost)\n"
   ]
  },
  {
   "cell_type": "code",
   "execution_count": 60,
   "id": "47fd3162",
   "metadata": {},
   "outputs": [
    {
     "name": "stdout",
     "output_type": "stream",
     "text": [
      "Banana    50\n",
      "dtype: int64\n"
     ]
    }
   ],
   "source": [
    "dict =pd.Series({\"Apple\": 120, \"Banana\": 50, \"Cherry\": 200})\n",
    "cheap = dict[dict<60]\n",
    "print(cheap)\n"
   ]
  },
  {
   "cell_type": "code",
   "execution_count": 62,
   "id": "596d8f42",
   "metadata": {},
   "outputs": [
    {
     "data": {
      "text/plain": [
       "Banana     50\n",
       "Apple     120\n",
       "Cherry    200\n",
       "dtype: int64"
      ]
     },
     "execution_count": 62,
     "metadata": {},
     "output_type": "execute_result"
    }
   ],
   "source": [
    "dict.sort_values(ascending=True)"
   ]
  },
  {
   "cell_type": "code",
   "execution_count": 63,
   "id": "77407fd4",
   "metadata": {},
   "outputs": [
    {
     "data": {
      "text/plain": [
       "Cherry    200\n",
       "Apple     120\n",
       "Banana     50\n",
       "dtype: int64"
      ]
     },
     "execution_count": 63,
     "metadata": {},
     "output_type": "execute_result"
    }
   ],
   "source": [
    "dict.sort_values(ascending=False)"
   ]
  },
  {
   "cell_type": "code",
   "execution_count": null,
   "id": "2150e2e3",
   "metadata": {},
   "outputs": [],
   "source": []
  }
 ],
 "metadata": {
  "kernelspec": {
   "display_name": "base",
   "language": "python",
   "name": "python3"
  },
  "language_info": {
   "codemirror_mode": {
    "name": "ipython",
    "version": 3
   },
   "file_extension": ".py",
   "mimetype": "text/x-python",
   "name": "python",
   "nbconvert_exporter": "python",
   "pygments_lexer": "ipython3",
   "version": "3.12.4"
  }
 },
 "nbformat": 4,
 "nbformat_minor": 5
}
