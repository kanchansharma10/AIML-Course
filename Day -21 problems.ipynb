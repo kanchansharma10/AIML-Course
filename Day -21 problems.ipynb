{
 "cells": [
  {
   "cell_type": "markdown",
   "id": "5031c25d",
   "metadata": {},
   "source": [
    "<div style=\"background-color: #add8e6; padding: 10px; height: 70px; border-radius: 15px;\">\n",
    "    <div style=\"font-family: 'Georgia', serif; font-size: 20px; padding: 10px; text-align: right; position: absolute; right: 20px;\">\n",
    "        Kanchan Sharma <br>\n",
    "        <span style=\"font-family: 'Arial', sans-serif;font-size: 12px; color: #0a0a0a;\">Tech Skills Trainee | AI/ML Bootcamp</span> \n",
    "    </div>\n",
    "</div>"
   ]
  },
  {
   "cell_type": "markdown",
   "id": "645e5525",
   "metadata": {},
   "source": [
    "<div style=\"background-color: #002147; padding: 10px; text-align: center; color: white; font-size: 32px; font-family: 'Arial', sans-serif;\">\n",
    "   Problems <br>\n",
    "    <h3 style=\"text-align: center; color: white; font-size: 15px; font-family: 'Arial', sans-serif;\"></h3>\n",
    "</div>"
   ]
  },
  {
   "cell_type": "markdown",
   "id": "b2b91c34",
   "metadata": {},
   "source": [
    "# palidrome"
   ]
  },
  {
   "cell_type": "code",
   "execution_count": 1,
   "id": "ebce08c9",
   "metadata": {},
   "outputs": [],
   "source": [
    "# Palidrome\n",
    "# Fabonacci Series\n",
    "# Armstrong\n",
    "# Anagram"
   ]
  },
  {
   "cell_type": "code",
   "execution_count": 3,
   "id": "e930a8f1",
   "metadata": {},
   "outputs": [],
   "source": [
    "str =\"gagan\""
   ]
  },
  {
   "cell_type": "code",
   "execution_count": 6,
   "id": "9230bece",
   "metadata": {},
   "outputs": [
    {
     "data": {
      "text/plain": [
       "'nagag'"
      ]
     },
     "execution_count": 6,
     "metadata": {},
     "output_type": "execute_result"
    }
   ],
   "source": [
    "str[: : -1]"
   ]
  },
  {
   "cell_type": "code",
   "execution_count": 11,
   "id": "427eb6df",
   "metadata": {},
   "outputs": [],
   "source": [
    "def check_palidrome(words):\n",
    "    if words == words[::-1]:\n",
    "        print(f'{words} is palidrome')\n",
    "    else:\n",
    "         print(f'{words} is not palidrome')\n",
    "\n"
   ]
  },
  {
   "cell_type": "code",
   "execution_count": 12,
   "id": "b8190074",
   "metadata": {},
   "outputs": [
    {
     "name": "stdout",
     "output_type": "stream",
     "text": [
      "gagan is not palidrome\n"
     ]
    }
   ],
   "source": [
    "check_palidrome(\"gagan\")"
   ]
  },
  {
   "cell_type": "code",
   "execution_count": 13,
   "id": "eafe0c5a",
   "metadata": {},
   "outputs": [
    {
     "name": "stdout",
     "output_type": "stream",
     "text": [
      "mom is palidrome\n"
     ]
    }
   ],
   "source": [
    "check_palidrome(\"mom\")"
   ]
  },
  {
   "cell_type": "code",
   "execution_count": 17,
   "id": "40cda5f8",
   "metadata": {},
   "outputs": [],
   "source": [
    "def check_palidrome(words):\n",
    "    words = words.upper()\n",
    "    if words == words[::-1]:\n",
    "        print(f'{words} is palidrome')\n",
    "    else:\n",
    "         print(f'{words} is not palidrome')"
   ]
  },
  {
   "cell_type": "code",
   "execution_count": 18,
   "id": "a959bf97",
   "metadata": {},
   "outputs": [
    {
     "name": "stdout",
     "output_type": "stream",
     "text": [
      "LAL is palidrome\n"
     ]
    }
   ],
   "source": [
    "check_palidrome(\"lal\")"
   ]
  },
  {
   "cell_type": "code",
   "execution_count": 19,
   "id": "a512ad49",
   "metadata": {},
   "outputs": [],
   "source": [
    "# Fabonacci Series\n",
    "  # 0,1,1,2,3,5,8,13,21"
   ]
  },
  {
   "cell_type": "code",
   "execution_count": 20,
   "id": "ae6d27ac",
   "metadata": {},
   "outputs": [
    {
     "data": {
      "text/plain": [
       "0"
      ]
     },
     "execution_count": 20,
     "metadata": {},
     "output_type": "execute_result"
    }
   ],
   "source": [
    " fabo=[0,1]\n",
    " fabo[-2]\n"
   ]
  },
  {
   "cell_type": "code",
   "execution_count": 21,
   "id": "6bc02873",
   "metadata": {},
   "outputs": [],
   "source": [
    "def fabonaci_series(num):\n",
    "    fabo=[0,1]\n",
    "    for i in range(num-2):\n",
    "        x=fabo[-1]+fabo[-2]\n",
    "        fabo.append(x)\n",
    "    return fabo "
   ]
  },
  {
   "cell_type": "code",
   "execution_count": 22,
   "id": "f73e1732",
   "metadata": {},
   "outputs": [
    {
     "data": {
      "text/plain": [
       "[0, 1, 1, 2, 3, 5, 8, 13, 21, 34]"
      ]
     },
     "execution_count": 22,
     "metadata": {},
     "output_type": "execute_result"
    }
   ],
   "source": [
    "fabonaci_series(10)"
   ]
  },
  {
   "cell_type": "code",
   "execution_count": null,
   "id": "6e693f4b",
   "metadata": {},
   "outputs": [],
   "source": [
    "# Armstrong\n",
    "abc =(a)**3+(b)**3+(c)**3"
   ]
  },
  {
   "cell_type": "code",
   "execution_count": 25,
   "id": "d657ad15",
   "metadata": {},
   "outputs": [
    {
     "name": "stdout",
     "output_type": "stream",
     "text": [
      "p\n",
      "y\n",
      "t\n",
      "h\n",
      "o\n",
      "n\n"
     ]
    }
   ],
   "source": [
    "words='python'\n",
    "for i in words:\n",
    "    print(i)"
   ]
  },
  {
   "cell_type": "code",
   "execution_count": 26,
   "id": "415ec407",
   "metadata": {},
   "outputs": [
    {
     "name": "stdout",
     "output_type": "stream",
     "text": [
      "0\n",
      "1\n",
      "2\n",
      "3\n",
      "4\n",
      "5\n",
      "6\n",
      "7\n",
      "8\n",
      "9\n",
      "10\n",
      "11\n",
      "12\n",
      "13\n",
      "14\n",
      "15\n",
      "16\n",
      "17\n",
      "18\n",
      "19\n",
      "20\n",
      "21\n",
      "22\n",
      "23\n",
      "24\n",
      "25\n",
      "26\n",
      "27\n",
      "28\n",
      "29\n",
      "30\n",
      "31\n",
      "32\n",
      "33\n",
      "34\n",
      "35\n",
      "36\n",
      "37\n",
      "38\n",
      "39\n",
      "40\n",
      "41\n",
      "42\n",
      "43\n",
      "44\n",
      "45\n",
      "46\n",
      "47\n",
      "48\n",
      "49\n",
      "50\n",
      "51\n",
      "52\n",
      "53\n",
      "54\n",
      "55\n",
      "56\n",
      "57\n",
      "58\n",
      "59\n",
      "60\n",
      "61\n",
      "62\n",
      "63\n",
      "64\n",
      "65\n",
      "66\n",
      "67\n",
      "68\n",
      "69\n",
      "70\n",
      "71\n",
      "72\n",
      "73\n",
      "74\n",
      "75\n",
      "76\n",
      "77\n",
      "78\n",
      "79\n",
      "80\n",
      "81\n",
      "82\n",
      "83\n",
      "84\n",
      "85\n",
      "86\n",
      "87\n",
      "88\n",
      "89\n",
      "90\n",
      "91\n",
      "92\n",
      "93\n",
      "94\n",
      "95\n",
      "96\n",
      "97\n",
      "98\n",
      "99\n"
     ]
    }
   ],
   "source": [
    "num=100\n",
    "for i in range(num):\n",
    "    print(i)"
   ]
  },
  {
   "cell_type": "code",
   "execution_count": 1,
   "id": "ece6ed96",
   "metadata": {},
   "outputs": [],
   "source": [
    "def chec_armstring(num):\n",
    "    num=str(num)\n",
    "    ans=0\n",
    "    for i in num:\n",
    "        x=int(i)**len(num)\n",
    "        ans=ans+x\n",
    "    if ans==int(num):\n",
    "        print(f\"{num} is armstrong number\")\n",
    "    else:\n",
    "     print(f\"{num} is not armstrong number\")\n"
   ]
  },
  {
   "cell_type": "code",
   "execution_count": 2,
   "id": "4bfb193d",
   "metadata": {},
   "outputs": [
    {
     "name": "stdout",
     "output_type": "stream",
     "text": [
      "407 is armstrong number\n"
     ]
    }
   ],
   "source": [
    "chec_armstring(407)"
   ]
  },
  {
   "cell_type": "code",
   "execution_count": 3,
   "id": "c510db6e",
   "metadata": {},
   "outputs": [
    {
     "data": {
      "text/plain": [
       "407"
      ]
     },
     "execution_count": 3,
     "metadata": {},
     "output_type": "execute_result"
    }
   ],
   "source": [
    "4**3+0**3+7**3"
   ]
  },
  {
   "cell_type": "code",
   "execution_count": 4,
   "id": "0f505d1c",
   "metadata": {},
   "outputs": [],
   "source": [
    "# Anagram number or string"
   ]
  },
  {
   "cell_type": "code",
   "execution_count": 5,
   "id": "64b7bb31",
   "metadata": {},
   "outputs": [],
   "source": [
    "words='python'\n",
    "y=\"\".join(sorted(words))"
   ]
  },
  {
   "cell_type": "code",
   "execution_count": 6,
   "id": "2c4f110c",
   "metadata": {},
   "outputs": [],
   "source": [
    "words='sql'\n",
    "x=\"\".join(sorted(words))"
   ]
  },
  {
   "cell_type": "code",
   "execution_count": 7,
   "id": "4d3b1cf7",
   "metadata": {},
   "outputs": [
    {
     "data": {
      "text/plain": [
       "False"
      ]
     },
     "execution_count": 7,
     "metadata": {},
     "output_type": "execute_result"
    }
   ],
   "source": [
    "x==y"
   ]
  },
  {
   "cell_type": "code",
   "execution_count": 8,
   "id": "23f7d9e1",
   "metadata": {},
   "outputs": [],
   "source": [
    "def check_anragram(words1,words2):\n",
    "    if \"\".join(sorted(words1))==\"\".join(sorted(words2)):\n",
    "        print(f\"{words1} and {words2} are anagram\")\n",
    "    else:\n",
    "         print(f\"{words1} and {words2} are not anagram\")"
   ]
  },
  {
   "cell_type": "code",
   "execution_count": 9,
   "id": "073f2e5f",
   "metadata": {},
   "outputs": [
    {
     "name": "stdout",
     "output_type": "stream",
     "text": [
      "earth and heart are anagram\n"
     ]
    }
   ],
   "source": [
    "check_anragram(\"earth\",\"heart\")"
   ]
  },
  {
   "cell_type": "code",
   "execution_count": 10,
   "id": "1200cb3b",
   "metadata": {},
   "outputs": [
    {
     "name": "stdout",
     "output_type": "stream",
     "text": [
      "earth and heart are anagram\n"
     ]
    }
   ],
   "source": [
    "check_anragram(\"earth\",\"heart\")"
   ]
  },
  {
   "cell_type": "markdown",
   "id": "e6e8f434",
   "metadata": {},
   "source": [
    "\n",
    "<div style=\"background-color: PINK; color: #fff; padding: 30px; text-align: center;\">\n",
    "    <h1>END!\n",
    "        <!--- Devashish Kumar | Tech Skills Trainer | CodroidHub Private Limited | AI/ML Consultant --->\n",
    "</h1> </div>\n"
   ]
  },
  {
   "cell_type": "markdown",
   "id": "d0a67b93",
   "metadata": {},
   "source": [
    "<div style=\"background-color: #002147; color: #fff; padding: 30px; text-align: center;\">\n",
    "    <h1>THANK YOU!\n",
    "        <!--- Devashish Kumar | Tech Skills Trainer | CodroidHub Private Limited | AI/ML Consultant --->\n",
    "</h1> </div>"
   ]
  },
  {
   "cell_type": "markdown",
   "id": "82a41b8b",
   "metadata": {},
   "source": []
  }
 ],
 "metadata": {
  "kernelspec": {
   "display_name": "base",
   "language": "python",
   "name": "python3"
  },
  "language_info": {
   "codemirror_mode": {
    "name": "ipython",
    "version": 3
   },
   "file_extension": ".py",
   "mimetype": "text/x-python",
   "name": "python",
   "nbconvert_exporter": "python",
   "pygments_lexer": "ipython3",
   "version": "3.12.4"
  }
 },
 "nbformat": 4,
 "nbformat_minor": 5
}
