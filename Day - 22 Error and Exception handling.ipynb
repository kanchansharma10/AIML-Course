{
 "cells": [
  {
   "cell_type": "markdown",
   "id": "58d3f27e",
   "metadata": {},
   "source": [
    "# ERROR AND EXCEPTION HANDLING\n",
    "- Code clean\n",
    "- Code reliability\n",
    "- Debugging\n",
    "- Normal Code execution "
   ]
  },
  {
   "cell_type": "markdown",
   "id": "2977b71c",
   "metadata": {},
   "source": [
    "# Error \n",
    "-- Error in code \n",
    "- Syntax, grammar , spelling \n",
    "- code execution will stop\n"
   ]
  },
  {
   "cell_type": "markdown",
   "id": "32e7e300",
   "metadata": {},
   "source": [
    "# Exception\n",
    "- Code execution will not stop\n",
    "- Raise Erorr\n",
    "- change the normal execution"
   ]
  },
  {
   "cell_type": "code",
   "execution_count": 1,
   "id": "242280e0",
   "metadata": {},
   "outputs": [
    {
     "ename": "SyntaxError",
     "evalue": "unterminated string literal (detected at line 2) (1920941108.py, line 2)",
     "output_type": "error",
     "traceback": [
      "\u001b[1;36m  Cell \u001b[1;32mIn[1], line 2\u001b[1;36m\u001b[0m\n\u001b[1;33m    print(\"hello)\u001b[0m\n\u001b[1;37m          ^\u001b[0m\n\u001b[1;31mSyntaxError\u001b[0m\u001b[1;31m:\u001b[0m unterminated string literal (detected at line 2)\n"
     ]
    }
   ],
   "source": [
    "import pandas\n",
    "print(\"hello)"
   ]
  },
  {
   "cell_type": "code",
   "execution_count": 2,
   "id": "b847203f",
   "metadata": {},
   "outputs": [],
   "source": [
    "def a_b(a,b):\n",
    "    return a+b"
   ]
  },
  {
   "cell_type": "code",
   "execution_count": 3,
   "id": "c0f03ae7",
   "metadata": {},
   "outputs": [
    {
     "data": {
      "text/plain": [
       "99"
      ]
     },
     "execution_count": 3,
     "metadata": {},
     "output_type": "execute_result"
    }
   ],
   "source": [
    "a_b(10,89)"
   ]
  },
  {
   "cell_type": "markdown",
   "id": "0663a8bc",
   "metadata": {},
   "source": [
    "# Types of Error\n",
    "\n",
    "- Syntax Error or Compile Error\n",
    "- Logical Error or Semantic Error\n",
    "- Run Error or Exception"
   ]
  },
  {
   "cell_type": "markdown",
   "id": "16a61f7a",
   "metadata": {},
   "source": [
    "# Syntax Error or Compile Error\n",
    "- Python syntax wise error\n",
    "- spelling\n",
    "- Detection is easy\n",
    "- Code execution will stop"
   ]
  },
  {
   "cell_type": "code",
   "execution_count": 4,
   "id": "9776e620",
   "metadata": {},
   "outputs": [
    {
     "ename": "SyntaxError",
     "evalue": "incomplete input (4227803888.py, line 1)",
     "output_type": "error",
     "traceback": [
      "\u001b[1;36m  Cell \u001b[1;32mIn[4], line 1\u001b[1;36m\u001b[0m\n\u001b[1;33m    print(\"hello\"\u001b[0m\n\u001b[1;37m                 ^\u001b[0m\n\u001b[1;31mSyntaxError\u001b[0m\u001b[1;31m:\u001b[0m incomplete input\n"
     ]
    }
   ],
   "source": [
    "print(\"hello\""
   ]
  },
  {
   "cell_type": "code",
   "execution_count": 5,
   "id": "5b5e5f76",
   "metadata": {},
   "outputs": [
    {
     "ename": "SyntaxError",
     "evalue": "unterminated string literal (detected at line 1) (2149988476.py, line 1)",
     "output_type": "error",
     "traceback": [
      "\u001b[1;36m  Cell \u001b[1;32mIn[5], line 1\u001b[1;36m\u001b[0m\n\u001b[1;33m    print(\"hello)\u001b[0m\n\u001b[1;37m          ^\u001b[0m\n\u001b[1;31mSyntaxError\u001b[0m\u001b[1;31m:\u001b[0m unterminated string literal (detected at line 1)\n"
     ]
    }
   ],
   "source": [
    "print(\"hello)"
   ]
  },
  {
   "cell_type": "code",
   "execution_count": 6,
   "id": "aecb36a9",
   "metadata": {},
   "outputs": [
    {
     "ename": "NameError",
     "evalue": "name 'Print' is not defined",
     "output_type": "error",
     "traceback": [
      "\u001b[1;31m---------------------------------------------------------------------------\u001b[0m",
      "\u001b[1;31mNameError\u001b[0m                                 Traceback (most recent call last)",
      "Cell \u001b[1;32mIn[6], line 1\u001b[0m\n\u001b[1;32m----> 1\u001b[0m \u001b[43mPrint\u001b[49m(\u001b[38;5;124m\"\u001b[39m\u001b[38;5;124mhello\u001b[39m\u001b[38;5;124m\"\u001b[39m)\n",
      "\u001b[1;31mNameError\u001b[0m: name 'Print' is not defined"
     ]
    }
   ],
   "source": [
    "Print(\"hello\")"
   ]
  },
  {
   "cell_type": "markdown",
   "id": "407a0e08",
   "metadata": {},
   "source": [
    "# Logical Error  or Semantic Error\n",
    "- No syntax \n",
    "- Logic error\n",
    "- Code always execute but o/p may be wrong   "
   ]
  },
  {
   "cell_type": "code",
   "execution_count": 7,
   "id": "9a746046",
   "metadata": {},
   "outputs": [
    {
     "name": "stdout",
     "output_type": "stream",
     "text": [
      "the total is  789\n"
     ]
    }
   ],
   "source": [
    "a=input(\"please enter num1\")\n",
    "b=input(\"please enter num2\")\n",
    "print(\"the total is \" , a+b) "
   ]
  },
  {
   "cell_type": "markdown",
   "id": "4e72a805",
   "metadata": {},
   "source": [
    "# Run Time Error or Exception\n",
    "- No syntax error\n",
    "- No logical error\n",
    "- Some time use get o/p and next time may be there is error\n",
    "- If user have O/P that o/p is always correct\n"
   ]
  },
  {
   "cell_type": "code",
   "execution_count": 11,
   "id": "c23a2e85",
   "metadata": {},
   "outputs": [
    {
     "ename": "ZeroDivisionError",
     "evalue": "division by zero",
     "output_type": "error",
     "traceback": [
      "\u001b[1;31m---------------------------------------------------------------------------\u001b[0m",
      "\u001b[1;31mZeroDivisionError\u001b[0m                         Traceback (most recent call last)",
      "Cell \u001b[1;32mIn[11], line 3\u001b[0m\n\u001b[0;32m      1\u001b[0m a\u001b[38;5;241m=\u001b[39m\u001b[38;5;28mint\u001b[39m(\u001b[38;5;28minput\u001b[39m(\u001b[38;5;124m\"\u001b[39m\u001b[38;5;124mplease enter num1\u001b[39m\u001b[38;5;124m\"\u001b[39m))\n\u001b[0;32m      2\u001b[0m b\u001b[38;5;241m=\u001b[39m\u001b[38;5;28mint\u001b[39m(\u001b[38;5;28minput\u001b[39m(\u001b[38;5;124m\"\u001b[39m\u001b[38;5;124mplease enter num2\u001b[39m\u001b[38;5;124m\"\u001b[39m))\n\u001b[1;32m----> 3\u001b[0m \u001b[43ma\u001b[49m\u001b[38;5;241;43m/\u001b[39;49m\u001b[43mb\u001b[49m\n",
      "\u001b[1;31mZeroDivisionError\u001b[0m: division by zero"
     ]
    }
   ],
   "source": [
    "a=int(input(\"please enter num1\"))\n",
    "b=int(input(\"please enter num2\"))\n",
    "a/b"
   ]
  },
  {
   "cell_type": "code",
   "execution_count": 12,
   "id": "d29fbcb2",
   "metadata": {},
   "outputs": [],
   "source": [
    "def a_b(a,b):\n",
    "    return a/b"
   ]
  },
  {
   "cell_type": "code",
   "execution_count": 13,
   "id": "24ac2c29",
   "metadata": {},
   "outputs": [
    {
     "data": {
      "text/plain": [
       "0.5"
      ]
     },
     "execution_count": 13,
     "metadata": {},
     "output_type": "execute_result"
    }
   ],
   "source": [
    "a_b(10,20)"
   ]
  },
  {
   "cell_type": "code",
   "execution_count": 14,
   "id": "2dcfe1c8",
   "metadata": {},
   "outputs": [
    {
     "ename": "ZeroDivisionError",
     "evalue": "division by zero",
     "output_type": "error",
     "traceback": [
      "\u001b[1;31m---------------------------------------------------------------------------\u001b[0m",
      "\u001b[1;31mZeroDivisionError\u001b[0m                         Traceback (most recent call last)",
      "Cell \u001b[1;32mIn[14], line 1\u001b[0m\n\u001b[1;32m----> 1\u001b[0m \u001b[43ma_b\u001b[49m\u001b[43m(\u001b[49m\u001b[38;5;241;43m10\u001b[39;49m\u001b[43m,\u001b[49m\u001b[38;5;241;43m0\u001b[39;49m\u001b[43m)\u001b[49m\n",
      "Cell \u001b[1;32mIn[12], line 2\u001b[0m, in \u001b[0;36ma_b\u001b[1;34m(a, b)\u001b[0m\n\u001b[0;32m      1\u001b[0m \u001b[38;5;28;01mdef\u001b[39;00m \u001b[38;5;21ma_b\u001b[39m(a,b):\n\u001b[1;32m----> 2\u001b[0m     \u001b[38;5;28;01mreturn\u001b[39;00m \u001b[43ma\u001b[49m\u001b[38;5;241;43m/\u001b[39;49m\u001b[43mb\u001b[49m\n",
      "\u001b[1;31mZeroDivisionError\u001b[0m: division by zero"
     ]
    }
   ],
   "source": [
    "a_b(10,0)"
   ]
  },
  {
   "cell_type": "raw",
   "id": "2c72b786",
   "metadata": {
    "vscode": {
     "languageId": "raw"
    }
   },
   "source": [
    "#Handling Code\n",
    "\n",
    "    # try   : Code that may generate error\n",
    "            : Code Block or risky code\n",
    "            \n",
    "    # Except\n",
    "            : Code Execute when try block fail\n",
    "            : Alternate code\n",
    "    # else\n",
    "            : Code Execute when try block success\n",
    "    # finally\n",
    "            : Code Execute with or with error\n",
    "\n",
    "#\n",
    "   Try : Trace error\n",
    "   Except : Catch\n",
    "  "
   ]
  },
  {
   "cell_type": "code",
   "execution_count": 16,
   "id": "8cd5eec8",
   "metadata": {},
   "outputs": [
    {
     "name": "stdout",
     "output_type": "stream",
     "text": [
      "there is no module\n",
      "all block execute\n"
     ]
    }
   ],
   "source": [
    "try:\n",
    "    import delhi \n",
    "except:\n",
    "    print(\"there is no module\")\n",
    "else:\n",
    "    (\"module successfully impoert\")\n",
    "finally:\n",
    "    print(\"all block execute\")\n",
    "\n"
   ]
  },
  {
   "cell_type": "code",
   "execution_count": 17,
   "id": "ad11708d",
   "metadata": {},
   "outputs": [
    {
     "name": "stdout",
     "output_type": "stream",
     "text": [
      "the o/p of a and b is  9.875\n",
      "code run till last line\n"
     ]
    }
   ],
   "source": [
    "a=int(input(\"please enter num1\"))\n",
    "b=int(input(\"please enter num2\"))\n",
    "try:\n",
    "    c = a/b\n",
    "except ZeroDivisionError as ZE:\n",
    "    print(f\"there is {ZE}.please enter valid input\")\n",
    "\n",
    "else:\n",
    "    print(\"the o/p of a and b is \",c)\n",
    "finally:\n",
    "    print(\"code run till last line\")  \n",
    "    "
   ]
  },
  {
   "cell_type": "code",
   "execution_count": 18,
   "id": "1f40cfba",
   "metadata": {},
   "outputs": [
    {
     "name": "stdout",
     "output_type": "stream",
     "text": [
      "there is division by zero.please enter valid input\n",
      "code run till last line\n"
     ]
    }
   ],
   "source": [
    "a=int(input(\"please enter num1\"))\n",
    "b=int(input(\"please enter num2\"))\n",
    "try:\n",
    "    c = a/b\n",
    "except ZeroDivisionError as ZE:\n",
    "    print(f\"there is {ZE}.please enter valid input\")\n",
    "\n",
    "else:\n",
    "    print(\"the o/p of a and b is \",c)\n",
    "finally:\n",
    "    print(\"code run till last line\")  \n",
    "    "
   ]
  },
  {
   "cell_type": "code",
   "execution_count": null,
   "id": "193918a9",
   "metadata": {},
   "outputs": [],
   "source": []
  }
 ],
 "metadata": {
  "kernelspec": {
   "display_name": "base",
   "language": "python",
   "name": "python3"
  },
  "language_info": {
   "codemirror_mode": {
    "name": "ipython",
    "version": 3
   },
   "file_extension": ".py",
   "mimetype": "text/x-python",
   "name": "python",
   "nbconvert_exporter": "python",
   "pygments_lexer": "ipython3",
   "version": "3.12.4"
  }
 },
 "nbformat": 4,
 "nbformat_minor": 5
}
