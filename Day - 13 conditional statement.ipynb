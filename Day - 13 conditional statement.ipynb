{
 "cells": [
  {
   "cell_type": "markdown",
   "id": "2d7735e8",
   "metadata": {},
   "source": [
    "<div style=\"background-color: #add8e6; padding: 10px; height: 70px; border-radius: 15px;\">\n",
    "    <div style=\"font-family: 'Georgia', serif; font-size: 20px; padding: 10px; text-align: right; position: absolute; right: 20px;\">\n",
    "        Kanchan Sharma <br>\n",
    "        <span style=\"font-family: 'Arial', sans-serif;font-size: 12px; color: #0a0a0a;\">Tech Skills Trainee | AI/ML Bootcamp</span> \n",
    "    </div>\n",
    "</div>"
   ]
  },
  {
   "cell_type": "markdown",
   "id": "70da5bd9",
   "metadata": {},
   "source": [
    "<div style=\"background-color: #002147; padding: 10px; text-align: center; color: white; font-size: 32px; font-family: 'Arial', sans-serif;\">\n",
    "  Conditional statement in Python   <br>\n",
    "    <h3 style=\"text-align: center; color: white; font-size: 15px; font-family: 'Arial', sans-serif;\"></h3>\n",
    "</div>"
   ]
  },
  {
   "cell_type": "markdown",
   "id": "6d923530",
   "metadata": {},
   "source": [
    "## Conditional Statement"
   ]
  },
  {
   "cell_type": "code",
   "execution_count": 6,
   "id": "d4ce71ec",
   "metadata": {},
   "outputs": [],
   "source": [
    "# Decision making\n",
    "# logical test\n",
    "  # True \n",
    "  # False\n",
    "# Excecution of statement "
   ]
  },
  {
   "cell_type": "markdown",
   "id": "fe743c1d",
   "metadata": {},
   "source": [
    "## Types of Conditional statement \n",
    "- If statement\n",
    "- IF-else Statement\n",
    "- Nested Condition\n",
    "- Conditional expression or one line statement"
   ]
  },
  {
   "cell_type": "markdown",
   "id": "d279f35e",
   "metadata": {},
   "source": [
    "- If Statement execute for the  true statement"
   ]
  },
  {
   "cell_type": "markdown",
   "id": "6bf645ed",
   "metadata": {},
   "source": [
    "## syntax\n",
    "- If logicl test\n",
    "     - body of if statement or execution of code for true\n",
    "     - body of if statement or execution of code for true"
   ]
  },
  {
   "cell_type": "code",
   "execution_count": 5,
   "id": "0d86bed3",
   "metadata": {},
   "outputs": [
    {
     "name": "stdout",
     "output_type": "stream",
     "text": [
      "you are adult\n",
      "now you can vote\n"
     ]
    }
   ],
   "source": [
    "\n",
    "age = 18\n",
    "if age >= 18:\n",
    "  print(\"you are adult\")\n",
    "  print(\"now you can vote\")\n"
   ]
  },
  {
   "cell_type": "markdown",
   "id": "e0d4124a",
   "metadata": {},
   "source": [
    "## if-else statement\n",
    "    - execution for both true or False\n",
    "### if logical test:\n",
    "     - body of if statement or execution of code for true\n",
    "     - body of else statement or execution of code for False"
   ]
  },
  {
   "cell_type": "code",
   "execution_count": 7,
   "id": "b100357f",
   "metadata": {},
   "outputs": [
    {
     "name": "stdout",
     "output_type": "stream",
     "text": [
      "you are adult\n",
      "you can vote\n"
     ]
    }
   ],
   "source": [
    "age = 29 \n",
    "if age > 18:\n",
    "    print(\"you are adult\")\n",
    "    print(\"you can vote\")\n",
    "else:\n",
    "    print(\"you are the minor . you cannot vote\")    \n"
   ]
  },
  {
   "cell_type": "code",
   "execution_count": 8,
   "id": "73b3079a",
   "metadata": {},
   "outputs": [
    {
     "name": "stdout",
     "output_type": "stream",
     "text": [
      "you are the minor . you cannot vote\n"
     ]
    }
   ],
   "source": [
    "age = 2 \n",
    "if age > 18:\n",
    "    print(\"you are adult\")\n",
    "    print(\"you can vote\")\n",
    "else:\n",
    "    print(\"you are the minor . you cannot vote\")    "
   ]
  },
  {
   "cell_type": "markdown",
   "id": "4d383624",
   "metadata": {},
   "source": [
    "# Multiple conditions:\n",
    "- In which we have two type of comdtions "
   ]
  },
  {
   "cell_type": "markdown",
   "id": "a5c47e27",
   "metadata": {},
   "source": [
    "### 1 Flate condition - if elif else statement\n",
    "### 2 Nested condition - if statement inside the if condition"
   ]
  },
  {
   "cell_type": "raw",
   "id": "5e780108",
   "metadata": {},
   "source": [
    "# syntax\n",
    "- if logical test:\n",
    "         body of if statement\n",
    "- elif:\n",
    "        body of elif statement\n",
    " - if \n",
    "        body of if statement\n",
    "- elif:\n",
    "       body of elif statement"
   ]
  },
  {
   "cell_type": "code",
   "execution_count": 10,
   "id": "ddd041f7",
   "metadata": {},
   "outputs": [
    {
     "name": "stdout",
     "output_type": "stream",
     "text": [
      "your grade c\n"
     ]
    }
   ],
   "source": [
    "marks = 60\n",
    "if marks >= 90:\n",
    "    print(\"your grade A\")\n",
    "elif marks >= 75:\n",
    "    print(\"your grade b\")\n",
    "elif marks >= 60:\n",
    "    print(\"your grade c\")\n",
    "else:\n",
    "    print(\"you are fail\")\n",
    "\n",
    "\n",
    "\n"
   ]
  },
  {
   "cell_type": "code",
   "execution_count": 15,
   "id": "8666e9c3",
   "metadata": {},
   "outputs": [
    {
     "name": "stdout",
     "output_type": "stream",
     "text": [
      "adult\n"
     ]
    }
   ],
   "source": [
    "# Nested condition\n",
    "age = 24\n",
    "if age >= 18:\n",
    "    if age >= 60:\n",
    "     print(\"senoir\")\n",
    "    else:\n",
    "     print(\"adult\")\n",
    "else:\n",
    "  if age>13:\n",
    "    print(\"teenager\")\n",
    "  else:\n",
    "    print(\"master\")\n",
    "\n"
   ]
  },
  {
   "cell_type": "code",
   "execution_count": 17,
   "id": "c8f4c2f0",
   "metadata": {},
   "outputs": [
    {
     "data": {
      "text/plain": [
       "'adult'"
      ]
     },
     "execution_count": 17,
     "metadata": {},
     "output_type": "execute_result"
    }
   ],
   "source": [
    "age = 20\n",
    "msg = \"adult\" if age>18 else\"minor\"\n",
    "msg"
   ]
  },
  {
   "cell_type": "code",
   "execution_count": 21,
   "id": "a585ad96",
   "metadata": {},
   "outputs": [
    {
     "name": "stdout",
     "output_type": "stream",
     "text": [
      "num is odd\n"
     ]
    }
   ],
   "source": [
    "# wap to find that given is odd or even\n",
    "num = int(input(\"enter the number\"))\n",
    "if num%2==0:\n",
    "    print(\"num is even\")\n",
    "else:\n",
    "    print(\"num is odd\")"
   ]
  },
  {
   "cell_type": "code",
   "execution_count": 25,
   "id": "4276a656",
   "metadata": {},
   "outputs": [
    {
     "name": "stdout",
     "output_type": "stream",
     "text": [
      "num is zero\n"
     ]
    }
   ],
   "source": [
    "# wap to find the postive negative or zero\n",
    "num = int(input(\"enter the number\"))\n",
    "if num>0:\n",
    "    print(\"num is postive\")\n",
    "elif num<0:\n",
    "    print(\"num is negative\")\n",
    "else:\n",
    "    print(\"num is zero\")    "
   ]
  },
  {
   "cell_type": "code",
   "execution_count": 32,
   "id": "67d003e1",
   "metadata": {},
   "outputs": [
    {
     "name": "stdout",
     "output_type": "stream",
     "text": [
      "num is  zero\n"
     ]
    }
   ],
   "source": [
    "# wap to find the postive negative or zero\n",
    "num = int(input(\"enter the number\"))\n",
    "if num>=0:\n",
    "    if num>0:\n",
    "      print(\"num is  postive\")\n",
    "    else:\n",
    "       print(\"num is  zero\")\n",
    "else:\n",
    "   print(\"num is negative\")"
   ]
  },
  {
   "cell_type": "code",
   "execution_count": 34,
   "id": "12f0902d",
   "metadata": {},
   "outputs": [],
   "source": [
    "# palidrome number\n",
    "# all palidrome number is a number that reads the same forward and backward\n",
    "#nan\n",
    "#12321\n",
    "#abcba"
   ]
  },
  {
   "cell_type": "code",
   "execution_count": 36,
   "id": "99fd9a07",
   "metadata": {},
   "outputs": [
    {
     "data": {
      "text/plain": [
       "'nan'"
      ]
     },
     "execution_count": 36,
     "metadata": {},
     "output_type": "execute_result"
    }
   ],
   "source": [
    "str = \"nan\"\n",
    "str[: :-1]\n"
   ]
  },
  {
   "cell_type": "code",
   "execution_count": 38,
   "id": "79669202",
   "metadata": {},
   "outputs": [
    {
     "name": "stdout",
     "output_type": "stream",
     "text": [
      "no\n"
     ]
    }
   ],
   "source": [
    "str = \"mnan\"\n",
    "if str ==str[: :-1]:\n",
    "    print(no is palidrome)\n",
    "else:\n",
    "    print(\"no\")\n"
   ]
  },
  {
   "cell_type": "code",
   "execution_count": 40,
   "id": "eaa004bb",
   "metadata": {},
   "outputs": [
    {
     "name": "stdout",
     "output_type": "stream",
     "text": [
      "no is palidrome\n"
     ]
    }
   ],
   "source": [
    "str = \"abcba\"\n",
    "if str ==str[: :-1]:\n",
    "    print(\"no is palidrome\")\n",
    "else:\n",
    "    print(\"no\")"
   ]
  },
  {
   "cell_type": "code",
   "execution_count": null,
   "id": "cafed776",
   "metadata": {},
   "outputs": [],
   "source": []
  },
  {
   "cell_type": "markdown",
   "id": "fe3fa3aa",
   "metadata": {},
   "source": [
    "\n",
    "<div style=\"background-color: PINK; color: #fff; padding: 30px; text-align: center;\">\n",
    "    <h1>END!\n",
    "        <!--- Devashish Kumar | Tech Skills Trainer | CodroidHub Private Limited | AI/ML Consultant --->\n",
    "</h1> </div>"
   ]
  },
  {
   "cell_type": "markdown",
   "id": "6946a820",
   "metadata": {},
   "source": [
    "<div style=\"background-color: #002147; color: #fff; padding: 30px; text-align: center;\">\n",
    "    <h1>THANK YOU!\n",
    "        <!--- Devashish Kumar | Tech Skills Trainer | CodroidHub Private Limited | AI/ML Consultant --->\n",
    "</h1> </div>"
   ]
  },
  {
   "cell_type": "markdown",
   "id": "04ae2914",
   "metadata": {},
   "source": []
  }
 ],
 "metadata": {
  "kernelspec": {
   "display_name": "base",
   "language": "python",
   "name": "python3"
  },
  "language_info": {
   "codemirror_mode": {
    "name": "ipython",
    "version": 3
   },
   "file_extension": ".py",
   "mimetype": "text/x-python",
   "name": "python",
   "nbconvert_exporter": "python",
   "pygments_lexer": "ipython3",
   "version": "3.12.4"
  }
 },
 "nbformat": 4,
 "nbformat_minor": 5
}
