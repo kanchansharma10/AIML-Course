{
 "cells": [
  {
   "cell_type": "markdown",
   "id": "8f38ef02",
   "metadata": {},
   "source": [
    "# panda"
   ]
  },
  {
   "cell_type": "code",
   "execution_count": 1,
   "id": "8fd830d3",
   "metadata": {},
   "outputs": [],
   "source": [
    "# series- \n",
    "# array with different datatype\n",
    "# one dim\n",
    "      # like one col means one parameter\n",
    "           # multiple row\n",
    "           # different datatype\n"
   ]
  },
  {
   "cell_type": "code",
   "execution_count": 2,
   "id": "fe7f8215",
   "metadata": {},
   "outputs": [],
   "source": [
    "import pandas as pd"
   ]
  },
  {
   "cell_type": "code",
   "execution_count": 3,
   "id": "55008890",
   "metadata": {},
   "outputs": [
    {
     "data": {
      "text/plain": [
       "0     1\n",
       "1    78\n",
       "2    90\n",
       "3     4\n",
       "4     2\n",
       "5    78\n",
       "dtype: int64"
      ]
     },
     "execution_count": 3,
     "metadata": {},
     "output_type": "execute_result"
    }
   ],
   "source": [
    "pd .Series([1,78,90,4,2,78])"
   ]
  },
  {
   "cell_type": "code",
   "execution_count": 8,
   "id": "d3f35acd",
   "metadata": {},
   "outputs": [
    {
     "data": {
      "text/plain": [
       "a     1\n",
       "b    78\n",
       "c    90\n",
       "d     4\n",
       "e     2\n",
       "f    78\n",
       "dtype: int64"
      ]
     },
     "execution_count": 8,
     "metadata": {},
     "output_type": "execute_result"
    }
   ],
   "source": [
    "sr= pd .Series([1,78,90,4,2,78],[\"a\",\"b\",\"c\",\"d\",\"e\",\"f\"])\n",
    "sr"
   ]
  },
  {
   "cell_type": "code",
   "execution_count": 10,
   "id": "82bc99a7",
   "metadata": {},
   "outputs": [
    {
     "data": {
      "text/plain": [
       "4"
      ]
     },
     "execution_count": 10,
     "metadata": {},
     "output_type": "execute_result"
    }
   ],
   "source": [
    "# Accessing of element\n",
    "sr[\"d\"]"
   ]
  },
  {
   "cell_type": "code",
   "execution_count": 11,
   "id": "d9a42dc4",
   "metadata": {},
   "outputs": [
    {
     "name": "stderr",
     "output_type": "stream",
     "text": [
      "C:\\Users\\HP\\AppData\\Local\\Temp\\ipykernel_1636\\3528426924.py:2: FutureWarning: Series.__getitem__ treating keys as positions is deprecated. In a future version, integer keys will always be treated as labels (consistent with DataFrame behavior). To access a value by position, use `ser.iloc[pos]`\n",
      "  sr[4]\n"
     ]
    },
    {
     "data": {
      "text/plain": [
       "2"
      ]
     },
     "execution_count": 11,
     "metadata": {},
     "output_type": "execute_result"
    }
   ],
   "source": [
    "# Accessing of element\n",
    "sr[4]"
   ]
  },
  {
   "cell_type": "code",
   "execution_count": 12,
   "id": "ef438354",
   "metadata": {},
   "outputs": [
    {
     "data": {
      "text/plain": [
       "a    100\n",
       "b     78\n",
       "c     90\n",
       "d     40\n",
       "e     20\n",
       "f     78\n",
       "dtype: int64"
      ]
     },
     "execution_count": 12,
     "metadata": {},
     "output_type": "execute_result"
    }
   ],
   "source": [
    "# sorting \n",
    "      # value\n",
    "      # Index\n",
    "sr= pd .Series([100,78,90,40,20,78],[\"a\",\"b\",\"c\",\"d\",\"e\",\"f\"])\n",
    "sr"
   ]
  },
  {
   "cell_type": "code",
   "execution_count": 13,
   "id": "624788ab",
   "metadata": {},
   "outputs": [
    {
     "data": {
      "text/plain": [
       "a    100\n",
       "b     78\n",
       "c     90\n",
       "d     40\n",
       "e     20\n",
       "f     78\n",
       "dtype: int64"
      ]
     },
     "execution_count": 13,
     "metadata": {},
     "output_type": "execute_result"
    }
   ],
   "source": [
    "sr.sort_index()"
   ]
  },
  {
   "cell_type": "code",
   "execution_count": 14,
   "id": "670e7f34",
   "metadata": {},
   "outputs": [
    {
     "data": {
      "text/plain": [
       "e     20\n",
       "d     40\n",
       "b     78\n",
       "f     78\n",
       "c     90\n",
       "a    100\n",
       "dtype: int64"
      ]
     },
     "execution_count": 14,
     "metadata": {},
     "output_type": "execute_result"
    }
   ],
   "source": [
    "sr.sort_values()"
   ]
  },
  {
   "cell_type": "code",
   "execution_count": 15,
   "id": "56df12f3",
   "metadata": {},
   "outputs": [
    {
     "name": "stdout",
     "output_type": "stream",
     "text": [
      "unique record\n",
      "  [100  78  90  40  20]\n"
     ]
    }
   ],
   "source": [
    "# unique\n",
    "print(\"unique record\\n \", sr.unique())"
   ]
  },
  {
   "cell_type": "code",
   "execution_count": 16,
   "id": "1a9d52ec",
   "metadata": {},
   "outputs": [
    {
     "data": {
      "text/plain": [
       "78     2\n",
       "100    1\n",
       "90     1\n",
       "40     1\n",
       "20     1\n",
       "Name: count, dtype: int64"
      ]
     },
     "execution_count": 16,
     "metadata": {},
     "output_type": "execute_result"
    }
   ],
   "source": [
    "# frequency\n",
    "sr.value_counts()"
   ]
  },
  {
   "cell_type": "code",
   "execution_count": 17,
   "id": "cf63c492",
   "metadata": {},
   "outputs": [
    {
     "data": {
      "text/plain": [
       "1   NaN\n",
       "2   NaN\n",
       "3   NaN\n",
       "4   NaN\n",
       "5   NaN\n",
       "6   NaN\n",
       "dtype: float64"
      ]
     },
     "execution_count": 17,
     "metadata": {},
     "output_type": "execute_result"
    }
   ],
   "source": [
    "#Index\n",
    "sr= pd .Series([1,78,90,4,2,78],[\"a\",\"b\",\"c\",\"d\",\"e\",\"f\"])\n",
    "sr.reindex([1,2,3,4,5,6])"
   ]
  },
  {
   "cell_type": "code",
   "execution_count": 18,
   "id": "fadf5275",
   "metadata": {},
   "outputs": [
    {
     "data": {
      "text/plain": [
       "f    78\n",
       "b    78\n",
       "e     2\n",
       "d     4\n",
       "a     1\n",
       "c    90\n",
       "dtype: int64"
      ]
     },
     "execution_count": 18,
     "metadata": {},
     "output_type": "execute_result"
    }
   ],
   "source": [
    "#Index\n",
    "sr= pd .Series([1,78,90,4,2,78],[\"a\",\"b\",\"c\",\"d\",\"e\",\"f\"])\n",
    "sr.reindex([\"f\",\"b\",\"e\",\"d\",\"a\",\"c\"])"
   ]
  },
  {
   "cell_type": "code",
   "execution_count": 20,
   "id": "3dd048ef",
   "metadata": {},
   "outputs": [
    {
     "data": {
      "text/plain": [
       "1     1\n",
       "2    78\n",
       "c    90\n",
       "d     4\n",
       "e     2\n",
       "f    78\n",
       "dtype: int64"
      ]
     },
     "execution_count": 20,
     "metadata": {},
     "output_type": "execute_result"
    }
   ],
   "source": [
    "#Index\n",
    "sr= pd .Series([1,78,90,4,2,78],[\"a\",\"b\",\"c\",\"d\",\"e\",\"f\"])\n",
    "sr.rename({\"a\":1,\"b\":2})"
   ]
  },
  {
   "cell_type": "code",
   "execution_count": 21,
   "id": "610d0d17",
   "metadata": {},
   "outputs": [],
   "source": [
    "# value \n",
    "    #- map\n",
    "    #- replace\n",
    "    # conditional base"
   ]
  },
  {
   "cell_type": "code",
   "execution_count": 23,
   "id": "6608a44f",
   "metadata": {},
   "outputs": [
    {
     "data": {
      "text/plain": [
       "a     100.0\n",
       "b     500.0\n",
       "c      40.0\n",
       "d    1000.0\n",
       "e       NaN\n",
       "f     500.0\n",
       "dtype: float64"
      ]
     },
     "execution_count": 23,
     "metadata": {},
     "output_type": "execute_result"
    }
   ],
   "source": [
    "#map\n",
    "sr.map({1:200 , 78:500,90:40 ,4:1000 , 1:100 })"
   ]
  },
  {
   "cell_type": "code",
   "execution_count": 24,
   "id": "6960f069",
   "metadata": {},
   "outputs": [
    {
     "data": {
      "text/plain": [
       "a    400\n",
       "b     78\n",
       "c     90\n",
       "d      4\n",
       "e      2\n",
       "f     78\n",
       "dtype: int64"
      ]
     },
     "execution_count": 24,
     "metadata": {},
     "output_type": "execute_result"
    }
   ],
   "source": [
    "  # Replace\n",
    "sr.replace(1,400)"
   ]
  },
  {
   "cell_type": "code",
   "execution_count": 25,
   "id": "d6e633bb",
   "metadata": {},
   "outputs": [
    {
     "name": "stderr",
     "output_type": "stream",
     "text": [
      "C:\\Users\\HP\\AppData\\Local\\Temp\\ipykernel_1636\\1710690213.py:1: FutureWarning: Series.__setitem__ treating keys as positions is deprecated. In a future version, integer keys will always be treated as labels (consistent with DataFrame behavior). To set a value by position, use `ser.iloc[pos] = value`\n",
      "  sr[2]=7000\n"
     ]
    }
   ],
   "source": [
    "sr[2]=7000"
   ]
  },
  {
   "cell_type": "code",
   "execution_count": 26,
   "id": "2aec0eb8",
   "metadata": {},
   "outputs": [
    {
     "data": {
      "text/plain": [
       "a       1\n",
       "b      78\n",
       "c    7000\n",
       "d       4\n",
       "e       2\n",
       "f      78\n",
       "dtype: int64"
      ]
     },
     "execution_count": 26,
     "metadata": {},
     "output_type": "execute_result"
    }
   ],
   "source": [
    "sr"
   ]
  },
  {
   "cell_type": "code",
   "execution_count": 27,
   "id": "2bcc5736",
   "metadata": {},
   "outputs": [
    {
     "data": {
      "text/plain": [
       "a       0\n",
       "b      78\n",
       "c    7000\n",
       "d       0\n",
       "e       0\n",
       "f      78\n",
       "dtype: int64"
      ]
     },
     "execution_count": 27,
     "metadata": {},
     "output_type": "execute_result"
    }
   ],
   "source": [
    "# condition base\n",
    "sr.where(sr>20 , other=0)"
   ]
  },
  {
   "cell_type": "code",
   "execution_count": 28,
   "id": "86718715",
   "metadata": {},
   "outputs": [
    {
     "data": {
      "text/plain": [
       "a     20\n",
       "b     20\n",
       "c     30\n",
       "d     10\n",
       "x     50\n",
       "e    100\n",
       "f    100\n",
       "x     20\n",
       "y     20\n",
       "z     30\n",
       "dtype: int64"
      ]
     },
     "execution_count": 28,
     "metadata": {},
     "output_type": "execute_result"
    }
   ],
   "source": [
    "# Combine series\n",
    "sr1=pd.Series([20,20,30,10,50,100,100],['a','b','c','d','x','e','f'])\n",
    "sr2=pd.Series([20,20,30],['x','y','z'])\n",
    "pd.concat([sr1,sr2])"
   ]
  },
  {
   "cell_type": "code",
   "execution_count": 29,
   "id": "69198cd0",
   "metadata": {},
   "outputs": [
    {
     "data": {
      "text/plain": [
       "a       1\n",
       "b      78\n",
       "c    7000\n",
       "d       4\n",
       "e       2\n",
       "f      78\n",
       "dtype: int64"
      ]
     },
     "execution_count": 29,
     "metadata": {},
     "output_type": "execute_result"
    }
   ],
   "source": [
    "# accessing of element\n",
    "sr"
   ]
  },
  {
   "cell_type": "code",
   "execution_count": 30,
   "id": "a2e49f46",
   "metadata": {},
   "outputs": [
    {
     "name": "stderr",
     "output_type": "stream",
     "text": [
      "C:\\Users\\HP\\AppData\\Local\\Temp\\ipykernel_1636\\4166114610.py:2: FutureWarning: Series.__getitem__ treating keys as positions is deprecated. In a future version, integer keys will always be treated as labels (consistent with DataFrame behavior). To access a value by position, use `ser.iloc[pos]`\n",
      "  sr[3]\n"
     ]
    },
    {
     "data": {
      "text/plain": [
       "4"
      ]
     },
     "execution_count": 30,
     "metadata": {},
     "output_type": "execute_result"
    }
   ],
   "source": [
    "# picking \n",
    "sr[3]"
   ]
  },
  {
   "cell_type": "code",
   "execution_count": 31,
   "id": "a623df25",
   "metadata": {},
   "outputs": [
    {
     "data": {
      "text/plain": [
       "d     4\n",
       "e     2\n",
       "f    78\n",
       "dtype: int64"
      ]
     },
     "execution_count": 31,
     "metadata": {},
     "output_type": "execute_result"
    }
   ],
   "source": [
    "# index - slice\n",
    "sr.iloc[3:6]"
   ]
  },
  {
   "cell_type": "code",
   "execution_count": 33,
   "id": "f3e0f1b3",
   "metadata": {},
   "outputs": [
    {
     "data": {
      "text/plain": [
       "7000"
      ]
     },
     "execution_count": 33,
     "metadata": {},
     "output_type": "execute_result"
    }
   ],
   "source": [
    "# loc - label\n",
    "sr.loc[\"c\"]"
   ]
  },
  {
   "cell_type": "code",
   "execution_count": 34,
   "id": "3922c1aa",
   "metadata": {},
   "outputs": [
    {
     "data": {
      "text/plain": [
       "d     4\n",
       "e     2\n",
       "f    78\n",
       "dtype: int64"
      ]
     },
     "execution_count": 34,
     "metadata": {},
     "output_type": "execute_result"
    }
   ],
   "source": [
    "sr[3:6]"
   ]
  },
  {
   "cell_type": "code",
   "execution_count": 35,
   "id": "c87c7224",
   "metadata": {},
   "outputs": [
    {
     "data": {
      "text/plain": [
       "a       1\n",
       "b      78\n",
       "c    7000\n",
       "d    6000\n",
       "e    6000\n",
       "f    6000\n",
       "dtype: int64"
      ]
     },
     "execution_count": 35,
     "metadata": {},
     "output_type": "execute_result"
    }
   ],
   "source": [
    "# slice\n",
    "sr[3:6] =6000\n",
    "sr"
   ]
  },
  {
   "cell_type": "code",
   "execution_count": 36,
   "id": "b7250709",
   "metadata": {},
   "outputs": [
    {
     "data": {
      "text/plain": [
       "a       1\n",
       "c    7000\n",
       "e    6000\n",
       "dtype: int64"
      ]
     },
     "execution_count": 36,
     "metadata": {},
     "output_type": "execute_result"
    }
   ],
   "source": [
    "sr[0:6:2]"
   ]
  },
  {
   "cell_type": "code",
   "execution_count": 37,
   "id": "06bc03fd",
   "metadata": {},
   "outputs": [
    {
     "data": {
      "text/plain": [
       "b      78\n",
       "d    6000\n",
       "f    6000\n",
       "dtype: int64"
      ]
     },
     "execution_count": 37,
     "metadata": {},
     "output_type": "execute_result"
    }
   ],
   "source": [
    "sr[1: :2]"
   ]
  },
  {
   "cell_type": "code",
   "execution_count": 38,
   "id": "ed535acd",
   "metadata": {},
   "outputs": [
    {
     "ename": "NameError",
     "evalue": "name 'data' is not defined",
     "output_type": "error",
     "traceback": [
      "\u001b[1;31m---------------------------------------------------------------------------\u001b[0m",
      "\u001b[1;31mNameError\u001b[0m                                 Traceback (most recent call last)",
      "Cell \u001b[1;32mIn[38], line 6\u001b[0m\n\u001b[0;32m      1\u001b[0m \u001b[38;5;66;03m# DataFrame\u001b[39;00m\n\u001b[0;32m      2\u001b[0m          \u001b[38;5;66;03m# Two dimesional \u001b[39;00m\n\u001b[0;32m      3\u001b[0m                  \u001b[38;5;66;03m# like table in excel , sql\u001b[39;00m\n\u001b[0;32m      4\u001b[0m          \u001b[38;5;66;03m# Each can have different data type\u001b[39;00m\n\u001b[1;32m----> 6\u001b[0m pd\u001b[38;5;241m.\u001b[39mDataFrame(\u001b[43mdata\u001b[49m,index)\n\u001b[0;32m      8\u001b[0m \u001b[38;5;66;03m# index row\u001b[39;00m\n\u001b[0;32m      9\u001b[0m \u001b[38;5;66;03m# index column \u001b[39;00m\n",
      "\u001b[1;31mNameError\u001b[0m: name 'data' is not defined"
     ]
    }
   ],
   "source": [
    "# DataFrame\n",
    "         # Two dimesional \n",
    "                 # like table in excel , sql\n",
    "         # Each can have different data type\n",
    "\n",
    "pd.DataFrame(data,index)\n",
    "\n",
    "# index row\n",
    "# index column "
   ]
  },
  {
   "cell_type": "code",
   "execution_count": 39,
   "id": "ae0e4851",
   "metadata": {},
   "outputs": [
    {
     "data": {
      "text/html": [
       "<div>\n",
       "<style scoped>\n",
       "    .dataframe tbody tr th:only-of-type {\n",
       "        vertical-align: middle;\n",
       "    }\n",
       "\n",
       "    .dataframe tbody tr th {\n",
       "        vertical-align: top;\n",
       "    }\n",
       "\n",
       "    .dataframe thead th {\n",
       "        text-align: right;\n",
       "    }\n",
       "</style>\n",
       "<table border=\"1\" class=\"dataframe\">\n",
       "  <thead>\n",
       "    <tr style=\"text-align: right;\">\n",
       "      <th></th>\n",
       "      <th>0</th>\n",
       "      <th>1</th>\n",
       "      <th>2</th>\n",
       "    </tr>\n",
       "  </thead>\n",
       "  <tbody>\n",
       "    <tr>\n",
       "      <th>0</th>\n",
       "      <td>1</td>\n",
       "      <td>Ram</td>\n",
       "      <td>Noida</td>\n",
       "    </tr>\n",
       "    <tr>\n",
       "      <th>1</th>\n",
       "      <td>2</td>\n",
       "      <td>Ramesh</td>\n",
       "      <td>Delhi</td>\n",
       "    </tr>\n",
       "    <tr>\n",
       "      <th>2</th>\n",
       "      <td>3</td>\n",
       "      <td>Rohan</td>\n",
       "      <td>Delhi</td>\n",
       "    </tr>\n",
       "  </tbody>\n",
       "</table>\n",
       "</div>"
      ],
      "text/plain": [
       "   0       1      2\n",
       "0  1     Ram  Noida\n",
       "1  2  Ramesh  Delhi\n",
       "2  3   Rohan  Delhi"
      ]
     },
     "execution_count": 39,
     "metadata": {},
     "output_type": "execute_result"
    }
   ],
   "source": [
    "pd.DataFrame([[1,'Ram','Noida'],[2,'Ramesh','Delhi'],[3,'Rohan','Delhi']])"
   ]
  },
  {
   "cell_type": "code",
   "execution_count": 40,
   "id": "6b2187a0",
   "metadata": {},
   "outputs": [
    {
     "data": {
      "text/html": [
       "<div>\n",
       "<style scoped>\n",
       "    .dataframe tbody tr th:only-of-type {\n",
       "        vertical-align: middle;\n",
       "    }\n",
       "\n",
       "    .dataframe tbody tr th {\n",
       "        vertical-align: top;\n",
       "    }\n",
       "\n",
       "    .dataframe thead th {\n",
       "        text-align: right;\n",
       "    }\n",
       "</style>\n",
       "<table border=\"1\" class=\"dataframe\">\n",
       "  <thead>\n",
       "    <tr style=\"text-align: right;\">\n",
       "      <th></th>\n",
       "      <th>id</th>\n",
       "      <th>name</th>\n",
       "      <th>city</th>\n",
       "    </tr>\n",
       "  </thead>\n",
       "  <tbody>\n",
       "    <tr>\n",
       "      <th>0</th>\n",
       "      <td>1</td>\n",
       "      <td>Ram</td>\n",
       "      <td>Noida</td>\n",
       "    </tr>\n",
       "    <tr>\n",
       "      <th>1</th>\n",
       "      <td>2</td>\n",
       "      <td>Ramesh</td>\n",
       "      <td>Delhi</td>\n",
       "    </tr>\n",
       "    <tr>\n",
       "      <th>2</th>\n",
       "      <td>3</td>\n",
       "      <td>Rohan</td>\n",
       "      <td>Delhi</td>\n",
       "    </tr>\n",
       "  </tbody>\n",
       "</table>\n",
       "</div>"
      ],
      "text/plain": [
       "   id    name   city\n",
       "0   1     Ram  Noida\n",
       "1   2  Ramesh  Delhi\n",
       "2   3   Rohan  Delhi"
      ]
     },
     "execution_count": 40,
     "metadata": {},
     "output_type": "execute_result"
    }
   ],
   "source": [
    "# column label\n",
    "pd.DataFrame([[1,'Ram','Noida'],[2,'Ramesh','Delhi'],[3,'Rohan','Delhi']], columns=['id','name','city'])"
   ]
  },
  {
   "cell_type": "code",
   "execution_count": 41,
   "id": "ebd1eb10",
   "metadata": {},
   "outputs": [
    {
     "data": {
      "text/html": [
       "<div>\n",
       "<style scoped>\n",
       "    .dataframe tbody tr th:only-of-type {\n",
       "        vertical-align: middle;\n",
       "    }\n",
       "\n",
       "    .dataframe tbody tr th {\n",
       "        vertical-align: top;\n",
       "    }\n",
       "\n",
       "    .dataframe thead th {\n",
       "        text-align: right;\n",
       "    }\n",
       "</style>\n",
       "<table border=\"1\" class=\"dataframe\">\n",
       "  <thead>\n",
       "    <tr style=\"text-align: right;\">\n",
       "      <th></th>\n",
       "      <th>id</th>\n",
       "      <th>name</th>\n",
       "      <th>city</th>\n",
       "    </tr>\n",
       "  </thead>\n",
       "  <tbody>\n",
       "    <tr>\n",
       "      <th>1</th>\n",
       "      <td>1</td>\n",
       "      <td>Ram</td>\n",
       "      <td>Noida</td>\n",
       "    </tr>\n",
       "    <tr>\n",
       "      <th>2</th>\n",
       "      <td>2</td>\n",
       "      <td>Ramesh</td>\n",
       "      <td>Delhi</td>\n",
       "    </tr>\n",
       "    <tr>\n",
       "      <th>3</th>\n",
       "      <td>3</td>\n",
       "      <td>Rohan</td>\n",
       "      <td>Delhi</td>\n",
       "    </tr>\n",
       "  </tbody>\n",
       "</table>\n",
       "</div>"
      ],
      "text/plain": [
       "   id    name   city\n",
       "1   1     Ram  Noida\n",
       "2   2  Ramesh  Delhi\n",
       "3   3   Rohan  Delhi"
      ]
     },
     "execution_count": 41,
     "metadata": {},
     "output_type": "execute_result"
    }
   ],
   "source": [
    "# column label\n",
    "pd.DataFrame([[1,'Ram','Noida'],[2,'Ramesh','Delhi'],[3,'Rohan','Delhi']], columns=['id','name','city'], index=[1,2,3])"
   ]
  },
  {
   "cell_type": "code",
   "execution_count": 42,
   "id": "8d14e080",
   "metadata": {},
   "outputs": [
    {
     "name": "stdout",
     "output_type": "stream",
     "text": [
      "['__add__', '__class__', '__contains__', '__delattr__', '__dir__', '__doc__', '__eq__', '__format__', '__ge__', '__getattribute__', '__getitem__', '__getnewargs__', '__getstate__', '__gt__', '__hash__', '__init__', '__init_subclass__', '__iter__', '__le__', '__len__', '__lt__', '__mod__', '__mul__', '__ne__', '__new__', '__reduce__', '__reduce_ex__', '__repr__', '__rmod__', '__rmul__', '__setattr__', '__sizeof__', '__str__', '__subclasshook__', 'capitalize', 'casefold', 'center', 'count', 'encode', 'endswith', 'expandtabs', 'find', 'format', 'format_map', 'index', 'isalnum', 'isalpha', 'isascii', 'isdecimal', 'isdigit', 'isidentifier', 'islower', 'isnumeric', 'isprintable', 'isspace', 'istitle', 'isupper', 'join', 'ljust', 'lower', 'lstrip', 'maketrans', 'partition', 'removeprefix', 'removesuffix', 'replace', 'rfind', 'rindex', 'rjust', 'rpartition', 'rsplit', 'rstrip', 'split', 'splitlines', 'startswith', 'strip', 'swapcase', 'title', 'translate', 'upper', 'zfill']\n"
     ]
    }
   ],
   "source": [
    "print(dir(\"DataFrame\"))"
   ]
  },
  {
   "cell_type": "code",
   "execution_count": 43,
   "id": "c2faf026",
   "metadata": {},
   "outputs": [],
   "source": [
    "df=pd.DataFrame([[1,'Ram','Noida'],[2,'Ramesh','Delhi'],[3,'Rohan','Delhi']], columns=['id','name','city']).set_index(\"id\")"
   ]
  },
  {
   "cell_type": "code",
   "execution_count": 44,
   "id": "e04168c0",
   "metadata": {},
   "outputs": [
    {
     "data": {
      "text/html": [
       "<div>\n",
       "<style scoped>\n",
       "    .dataframe tbody tr th:only-of-type {\n",
       "        vertical-align: middle;\n",
       "    }\n",
       "\n",
       "    .dataframe tbody tr th {\n",
       "        vertical-align: top;\n",
       "    }\n",
       "\n",
       "    .dataframe thead th {\n",
       "        text-align: right;\n",
       "    }\n",
       "</style>\n",
       "<table border=\"1\" class=\"dataframe\">\n",
       "  <thead>\n",
       "    <tr style=\"text-align: right;\">\n",
       "      <th></th>\n",
       "      <th>name</th>\n",
       "      <th>city</th>\n",
       "    </tr>\n",
       "    <tr>\n",
       "      <th>id</th>\n",
       "      <th></th>\n",
       "      <th></th>\n",
       "    </tr>\n",
       "  </thead>\n",
       "  <tbody>\n",
       "    <tr>\n",
       "      <th>1</th>\n",
       "      <td>Ram</td>\n",
       "      <td>Noida</td>\n",
       "    </tr>\n",
       "    <tr>\n",
       "      <th>2</th>\n",
       "      <td>Ramesh</td>\n",
       "      <td>Delhi</td>\n",
       "    </tr>\n",
       "    <tr>\n",
       "      <th>3</th>\n",
       "      <td>Rohan</td>\n",
       "      <td>Delhi</td>\n",
       "    </tr>\n",
       "  </tbody>\n",
       "</table>\n",
       "</div>"
      ],
      "text/plain": [
       "      name   city\n",
       "id               \n",
       "1      Ram  Noida\n",
       "2   Ramesh  Delhi\n",
       "3    Rohan  Delhi"
      ]
     },
     "execution_count": 44,
     "metadata": {},
     "output_type": "execute_result"
    }
   ],
   "source": [
    "df"
   ]
  },
  {
   "cell_type": "code",
   "execution_count": null,
   "id": "afcb15f1",
   "metadata": {},
   "outputs": [],
   "source": []
  }
 ],
 "metadata": {
  "kernelspec": {
   "display_name": "base",
   "language": "python",
   "name": "python3"
  },
  "language_info": {
   "codemirror_mode": {
    "name": "ipython",
    "version": 3
   },
   "file_extension": ".py",
   "mimetype": "text/x-python",
   "name": "python",
   "nbconvert_exporter": "python",
   "pygments_lexer": "ipython3",
   "version": "3.12.4"
  }
 },
 "nbformat": 4,
 "nbformat_minor": 5
}
