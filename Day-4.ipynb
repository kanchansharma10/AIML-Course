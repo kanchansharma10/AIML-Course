{
 "cells": [
  {
   "cell_type": "markdown",
   "id": "5af7b3f1",
   "metadata": {},
   "source": [
    "<div style=\"background-color:rgb(230, 173, 209); padding: 10px; height: 70px; border-radius: 15px;\">\n",
    "    <div style=\"font-family: 'Georgia', serif; font-size: 20px; padding: 10px; text-align: right; position: absolute; right: 20px;\">\n",
    "        Kanchan Sharma <br>\n",
    "        <span style=\"font-family: 'Arial', sans-serif;font-size: 12px; color: #0a0a0a;\">Tech Skills Trainee | AI/ML Bootcamp</span> \n",
    "    </div>\n",
    "</div>"
   ]
  },
  {
   "cell_type": "markdown",
   "id": "ce8902d3",
   "metadata": {},
   "source": [
    "<div style=\"background-color: #002147; padding: 10px; text-align: center; color: white; font-size: 32px; font-family: 'Arial', sans-serif;\">\n",
    "Datatypes In  Python  <br>\n",
    "    <h3 style=\"text-align: center; color: white; font-size: 15px; font-family: 'Arial', sans-serif;\"></h3>\n",
    "</div>"
   ]
  },
  {
   "cell_type": "markdown",
   "id": "e35c19ea",
   "metadata": {},
   "source": [
    "# What is Datatype?\n",
    "In Python, a **data type** is a classification that tells the interpreter what kind of value a variable holds and what kind of operations can be performed on that value.\n",
    "\n",
    "###  Common Data Types in Python:\n",
    "\n",
    "#### 1. **Numeric Types**\n",
    "- `int` → Integer numbers (e.g., `10`, `-3`, `0`)\n",
    "- `float` → Floating point numbers (e.g., `3.14`, `-0.001`)\n",
    "- `complex` → Complex numbers (e.g., `2 + 3j`)\n",
    "\n",
    "#### 2. **Text Type**\n",
    "- `str` → Strings (e.g., `\"hello\"`, `'Python'`)\n",
    "\n",
    "#### 3. **Boolean Type**\n",
    "- `bool` → Boolean values: `True` or `False`\n",
    "\n",
    "#### 4. **Sequence Types**\n",
    "- `list` → Ordered, mutable collection (e.g., `[1, 2, 3]`)\n",
    "- `tuple` → Ordered, immutable collection (e.g., `(1, 2, 3)`)\n",
    "- `range` → Sequence of numbers (e.g., `range(5)`)\n",
    "\n",
    "#### 5. **Mapping Type**\n",
    "- `dict` → Key-value pairs (e.g., `{\"name\": \"Alice\", \"age\": 25}`)\n",
    "\n",
    "#### 6. **Set Types**\n",
    "- `set` → Unordered, unique items (e.g., `{1, 2, 3}`)\n",
    "- `frozenset` → Immutable set\n",
    "\n",
    "#### 7. **None Type**\n",
    "- `NoneType` → Represents the absence of a value (e.g., `None`)\n",
    "\n",
    "---\n"
   ]
  },
  {
   "cell_type": "code",
   "execution_count": 2,
   "id": "390b7d16",
   "metadata": {},
   "outputs": [],
   "source": [
    "x = 5            # int\n",
    "y = 3.14         # float\n",
    "name = \"Alice\"   # str\n",
    "is_happy = True  # bool\n",
    "items = [1, 2]   # list\n",
    "data = {\"a\": 1}  # dict\n",
    "nothing = None   # NoneType\n"
   ]
  },
  {
   "cell_type": "code",
   "execution_count": 3,
   "id": "5ba46cfb",
   "metadata": {},
   "outputs": [
    {
     "name": "stdout",
     "output_type": "stream",
     "text": [
      "5 3.14 Alice True [1, 2] {'a': 1} None\n"
     ]
    }
   ],
   "source": [
    "print(x, y,name,is_happy,items,data,nothing)"
   ]
  },
  {
   "cell_type": "markdown",
   "id": "26ff7c20",
   "metadata": {},
   "source": [
    "#  1. What are the built-in data types in Python?\n",
    "int, float, complex – Numeric\n",
    "\n",
    "str – Text\n",
    "\n",
    "bool – Boolean\n",
    "\n",
    "list, tuple, range – Sequence\n",
    "\n",
    "dict – Mapping\n",
    "\n",
    "set, frozenset – Set\n",
    "\n",
    "NoneType – Special type (None)"
   ]
  },
  {
   "cell_type": "markdown",
   "id": "0222994e",
   "metadata": {},
   "source": [
    "# 2. How is a tuple different from a list?\n",
    "List: mutable ([1, 2])\n",
    "\n",
    "Tuple: immutable ((1, 2))"
   ]
  },
  {
   "cell_type": "markdown",
   "id": "ec6a6ae9",
   "metadata": {},
   "source": [
    "# 3. What is the default data type of user input in Python?"
   ]
  },
  {
   "cell_type": "code",
   "execution_count": null,
   "id": "2446fa53",
   "metadata": {},
   "outputs": [
    {
     "name": "stdout",
     "output_type": "stream",
     "text": [
      "<class 'str'>\n"
     ]
    }
   ],
   "source": [
    "x = input(\"enter a num\")\n",
    "print(type(x))# by default input is str"
   ]
  },
  {
   "cell_type": "markdown",
   "id": "344574b0",
   "metadata": {},
   "source": [
    " # 4. What is type casting?\n",
    "Converting from one data type to another."
   ]
  },
  {
   "cell_type": "code",
   "execution_count": 5,
   "id": "b71b4d00",
   "metadata": {},
   "outputs": [
    {
     "name": "stdout",
     "output_type": "stream",
     "text": [
      "7\n"
     ]
    }
   ],
   "source": [
    "x = int(7.8)\n",
    "print(x)"
   ]
  },
  {
   "cell_type": "code",
   "execution_count": 6,
   "id": "15a6d1a9",
   "metadata": {},
   "outputs": [
    {
     "name": "stdout",
     "output_type": "stream",
     "text": [
      "4.0\n",
      "7\n"
     ]
    }
   ],
   "source": [
    "y = float(4)\n",
    "print(y)\n",
    "z = str(7)\n",
    "print(z)"
   ]
  },
  {
   "cell_type": "markdown",
   "id": "7cbca9c5",
   "metadata": {},
   "source": [
    "# 5. How do you check the data type of a variable?"
   ]
  },
  {
   "cell_type": "code",
   "execution_count": 7,
   "id": "261cac29",
   "metadata": {},
   "outputs": [
    {
     "name": "stdout",
     "output_type": "stream",
     "text": [
      "<class 'int'> <class 'float'> <class 'str'>\n"
     ]
    }
   ],
   "source": [
    "x = 6\n",
    "y = 6.9\n",
    "z = \"hallo\"\n",
    "print(type(x), type(y),type(z))"
   ]
  },
  {
   "cell_type": "markdown",
   "id": "f7122a64",
   "metadata": {
    "vscode": {
     "languageId": "html"
    }
   },
   "source": [
    "\n",
    "<div style=\"background-color: PINK; color: #fff; padding: 30px; text-align: center;\">\n",
    "    <h1>END!\n",
    "        <!--- Devashish Kumar | Tech Skills Trainer | CodroidHub Private Limited | AI/ML Consultant --->\n",
    "</h1> </div>"
   ]
  },
  {
   "cell_type": "markdown",
   "id": "e2d5251f",
   "metadata": {},
   "source": [
    "<div style=\"background-color: #002147; color: #fff; padding: 30px; text-align: center;\">\n",
    "    <h1>THANK YOU!\n",
    "        <!--- Devashish Kumar | Tech Skills Trainer | CodroidHub Private Limited | AI/ML Consultant --->\n",
    "</h1> </div>"
   ]
  }
 ],
 "metadata": {
  "kernelspec": {
   "display_name": "base",
   "language": "python",
   "name": "python3"
  },
  "language_info": {
   "codemirror_mode": {
    "name": "ipython",
    "version": 3
   },
   "file_extension": ".py",
   "mimetype": "text/x-python",
   "name": "python",
   "nbconvert_exporter": "python",
   "pygments_lexer": "ipython3",
   "version": "3.12.4"
  }
 },
 "nbformat": 4,
 "nbformat_minor": 5
}
