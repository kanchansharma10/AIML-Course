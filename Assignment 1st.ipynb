{
 "cells": [
  {
   "cell_type": "markdown",
   "id": "429f11dd",
   "metadata": {},
   "source": [
    "<h1 style=\"text-align: center;\"> Assignment 1</h1>"
   ]
  },
  {
   "cell_type": "markdown",
   "id": "93bfdbae",
   "metadata": {},
   "source": [
    "<h3 style=\"text-align: center;\"> Questions 1</h3>\n"
   ]
  },
  {
   "cell_type": "markdown",
   "id": "6b728528",
   "metadata": {},
   "source": [
    "## 1.\tBasic Arithmetic"
   ]
  },
  {
   "cell_type": "markdown",
   "id": "64b3b03a",
   "metadata": {},
   "source": [
    "###\tWrite a Python script to perform the following operations:\n",
    "\n",
    "\n",
    " "
   ]
  },
  {
   "cell_type": "code",
   "execution_count": 1,
   "id": "2f86672f",
   "metadata": {},
   "outputs": [
    {
     "name": "stdout",
     "output_type": "stream",
     "text": [
      "Addition of 15 and 23 is: 38\n"
     ]
    }
   ],
   "source": [
    "#\tAdd 15 and 23.\n",
    "a = 15\n",
    "b = 23\n",
    "print(\"Addition of 15 and 23 is:\", a+b)"
   ]
  },
  {
   "cell_type": "code",
   "execution_count": 2,
   "id": "22e4f7c5",
   "metadata": {},
   "outputs": [
    {
     "name": "stdout",
     "output_type": "stream",
     "text": [
      "24\n"
     ]
    }
   ],
   "source": [
    "# \tSubtract 48 from 72.\n",
    "a = 72\n",
    "b = 48\n",
    "c = 72-48\n",
    "print(c)"
   ]
  },
  {
   "cell_type": "code",
   "execution_count": 3,
   "id": "92b95fe3",
   "metadata": {},
   "outputs": [
    {
     "name": "stdout",
     "output_type": "stream",
     "text": [
      "42\n"
     ]
    }
   ],
   "source": [
    "#\tMultiply 7 by 6.\n",
    "a = 7\n",
    "b = 6\n",
    "c = a*b\n",
    "print(c)\n"
   ]
  },
  {
   "cell_type": "code",
   "execution_count": 4,
   "id": "34709072",
   "metadata": {},
   "outputs": [
    {
     "name": "stdout",
     "output_type": "stream",
     "text": [
      "12.0\n"
     ]
    }
   ],
   "source": [
    "#\tDivide 144 by 12.\n",
    "a = 144\n",
    "b = 12\n",
    "c = a/b\n",
    "print(c)"
   ]
  },
  {
   "cell_type": "code",
   "execution_count": 5,
   "id": "e52d9851",
   "metadata": {},
   "outputs": [
    {
     "name": "stdout",
     "output_type": "stream",
     "text": [
      "5\n"
     ]
    }
   ],
   "source": [
    "#\tFind the remainder when 50 is divided by 9.\n",
    "a = 50\n",
    "b = 9\n",
    "c = a%b\n",
    "print(c)"
   ]
  },
  {
   "cell_type": "markdown",
   "id": "b8a7524a",
   "metadata": {},
   "source": [
    "## 2.\tSimple Expressions\n",
    "\n"
   ]
  },
  {
   "cell_type": "markdown",
   "id": "63dbae96",
   "metadata": {},
   "source": [
    "\n",
    "### Evaluate the following expressions and print the results:\n"
   ]
  },
  {
   "cell_type": "code",
   "execution_count": 6,
   "id": "39b2f92c",
   "metadata": {},
   "outputs": [
    {
     "name": "stdout",
     "output_type": "stream",
     "text": [
      "55\n"
     ]
    }
   ],
   "source": [
    "# (8+3)×5\n",
    "a = 8\n",
    "b = 3\n",
    "c = 5\n",
    "d = (a+b)*5\n",
    "print(d)"
   ]
  },
  {
   "cell_type": "code",
   "execution_count": 7,
   "id": "f9c72688",
   "metadata": {},
   "outputs": [
    {
     "name": "stdout",
     "output_type": "stream",
     "text": [
      "7.0\n"
     ]
    }
   ],
   "source": [
    "#(50−15)/5\n",
    "a = 50\n",
    "b = 15\n",
    "c = 5\n",
    "d = (a-b)/5\n",
    "print(d)"
   ]
  },
  {
   "cell_type": "code",
   "execution_count": 8,
   "id": "c5d41043",
   "metadata": {},
   "outputs": [
    {
     "name": "stdout",
     "output_type": "stream",
     "text": [
      "4\n"
     ]
    }
   ],
   "source": [
    "# 46%6\n",
    "a = 46\n",
    "b = 6\n",
    "print(a%b)\n",
    "\n"
   ]
  },
  {
   "cell_type": "markdown",
   "id": "7bfa9c7e",
   "metadata": {},
   "source": [
    "## 3.\tConcatenation with Strings"
   ]
  },
  {
   "cell_type": "markdown",
   "id": "81a7384a",
   "metadata": {},
   "source": [
    "### \tCombine the following text with variables and print the output:"
   ]
  },
  {
   "cell_type": "code",
   "execution_count": 9,
   "id": "1b0406e2",
   "metadata": {},
   "outputs": [
    {
     "name": "stdout",
     "output_type": "stream",
     "text": [
      "Alice is 25 years old \n"
     ]
    }
   ],
   "source": [
    "#\tDefine a variable name = \"Alice\" and age = 25. Print: \"Alice is 25 years old.\"\n",
    "name = \"Alice\"\n",
    "age = 25\n",
    "print(f\"{name} is {age} years old \")"
   ]
  },
  {
   "cell_type": "code",
   "execution_count": 10,
   "id": "1a4fd807",
   "metadata": {},
   "outputs": [
    {
     "name": "stdout",
     "output_type": "stream",
     "text": [
      "Alice lives in Paris\n"
     ]
    }
   ],
   "source": [
    "#\tDefine a variable city = \"Paris\" and print: \"Alice lives in Paris.\"\n",
    "name = \"Alice\"\n",
    "city = \"Paris\"\n",
    "print(f\"{name} lives in {city}\")\n",
    "\n"
   ]
  },
  {
   "cell_type": "markdown",
   "id": "2b37144e",
   "metadata": {},
   "source": [
    "## 4.\tOrder of Operations "
   ]
  },
  {
   "cell_type": "markdown",
   "id": "9f416865",
   "metadata": {},
   "source": [
    "###\tCalculate and print the results of the following:"
   ]
  },
  {
   "cell_type": "code",
   "execution_count": 13,
   "id": "3a2389a3",
   "metadata": {},
   "outputs": [
    {
     "name": "stdout",
     "output_type": "stream",
     "text": [
      "15\n"
     ]
    }
   ],
   "source": [
    "# 5+2×5\n",
    "a = 5\n",
    "b = 2\n",
    "c = 5\n",
    "print(a+b*c)"
   ]
  },
  {
   "cell_type": "code",
   "execution_count": 15,
   "id": "7e9d19b8",
   "metadata": {},
   "outputs": [
    {
     "name": "stdout",
     "output_type": "stream",
     "text": [
      "21\n"
     ]
    }
   ],
   "source": [
    "# (5+2)×3\n",
    "a = 5\n",
    "b = 2\n",
    "c = 3\n",
    "print((a+b)*c)"
   ]
  },
  {
   "cell_type": "code",
   "execution_count": 16,
   "id": "62010d16",
   "metadata": {},
   "outputs": [
    {
     "name": "stdout",
     "output_type": "stream",
     "text": [
      "10125\n"
     ]
    }
   ],
   "source": [
    "# (100−(25×3)+10100 \n",
    "a = 100\n",
    "b = 25\n",
    "c = 3\n",
    "d = 10100\n",
    "e = (a-(b*c)+10100)\n",
    "print(e)\n"
   ]
  },
  {
   "cell_type": "code",
   "execution_count": 17,
   "id": "c66bb2d3",
   "metadata": {},
   "outputs": [
    {
     "name": "stdout",
     "output_type": "stream",
     "text": [
      "6.0\n"
     ]
    }
   ],
   "source": [
    "# 8+(16/2)−(5×2)\n",
    "a = 8\n",
    "b = 16\n",
    "c = 2\n",
    "d = 5\n",
    "e = a+(b/c)-(d*c)\n",
    "print(e)"
   ]
  },
  {
   "cell_type": "markdown",
   "id": "1f03d398",
   "metadata": {},
   "source": [
    "##\t5.Decimal Division and Integer Division"
   ]
  },
  {
   "cell_type": "markdown",
   "id": "c2d2a405",
   "metadata": {},
   "source": [
    "###\tUse print to display the difference between:"
   ]
  },
  {
   "cell_type": "code",
   "execution_count": 19,
   "id": "b179ac2c",
   "metadata": {},
   "outputs": [
    {
     "name": "stdout",
     "output_type": "stream",
     "text": [
      "0.03614457831325301\n"
     ]
    }
   ],
   "source": [
    "#\t15/415  (decimal division)\n",
    "a = 15\n",
    "b = 415\n",
    "print(15/415)"
   ]
  },
  {
   "cell_type": "code",
   "execution_count": 20,
   "id": "c91f186e",
   "metadata": {},
   "outputs": [
    {
     "name": "stdout",
     "output_type": "stream",
     "text": [
      "0\n"
     ]
    }
   ],
   "source": [
    "# 15//415  (integer division)\n",
    "a = 15\n",
    "b = 415\n",
    "print(15//415)"
   ]
  },
  {
   "cell_type": "markdown",
   "id": "ce57b035",
   "metadata": {},
   "source": [
    "## 6.\tPrice Calculation"
   ]
  },
  {
   "cell_type": "markdown",
   "id": "baf4f299",
   "metadata": {},
   "source": [
    "###\tWrite a program to calculate the total cost of buying 3 items:\n"
   ]
  },
  {
   "cell_type": "code",
   "execution_count": 21,
   "id": "c67cab2b",
   "metadata": {},
   "outputs": [
    {
     "name": "stdout",
     "output_type": "stream",
     "text": [
      "36.03\n"
     ]
    }
   ],
   "source": [
    "# Item 1 costs $12.49, Item 2 costs $8.99, and Item 3 costs $14.55.\n",
    "\n",
    "item1 = 12.49\n",
    "item2 = 8.99\n",
    "item3 = 14.55\n",
    "\n",
    "print(item1 + item2 + item3)\n",
    "\n"
   ]
  },
  {
   "cell_type": "code",
   "execution_count": 22,
   "id": "d423505c",
   "metadata": {},
   "outputs": [
    {
     "name": "stdout",
     "output_type": "stream",
     "text": [
      "2.8824\n",
      "38.9124\n"
     ]
    }
   ],
   "source": [
    "#\tCalculate the subtotal, apply a sales tax of 8%, and display the total cost\n",
    "sub_total = 36.03\n",
    "tax_rate = 0.08\n",
    "sale_tax = sub_total* tax_rate\n",
    "total_cost = sub_total+sale_tax\n",
    "print(sale_tax)\n",
    "print(total_cost)"
   ]
  },
  {
   "cell_type": "markdown",
   "id": "7f95ed2b",
   "metadata": {},
   "source": [
    "## 7. Time Conversion"
   ]
  },
  {
   "cell_type": "code",
   "execution_count": 24,
   "id": "d29b4c30",
   "metadata": {},
   "outputs": [
    {
     "name": "stdout",
     "output_type": "stream",
     "text": [
      "10.75\n",
      "45\n"
     ]
    }
   ],
   "source": [
    "#\tConvert 645 minutes into hours and minutes.\n",
    "min = 645 \n",
    "hour = min/60\n",
    "print(hour)\n",
    "mins = min-(10*60)\n",
    "print(mins)"
   ]
  },
  {
   "cell_type": "markdown",
   "id": "3fadd12c",
   "metadata": {},
   "source": [
    "## 8. Distance and Speed"
   ]
  },
  {
   "cell_type": "code",
   "execution_count": 27,
   "id": "7a4ad23c",
   "metadata": {},
   "outputs": [
    {
     "name": "stdout",
     "output_type": "stream",
     "text": [
      "the avg speed of 60.0\n"
     ]
    }
   ],
   "source": [
    "# \tIf a car travels 150 miles in 2.5 hours, calculate and print:Its average speed in miles per hour.\n",
    "distance = 150\n",
    "time = 2.5 \n",
    "avg = distance/time\n",
    "print(f'the avg speed of {avg}')\n"
   ]
  },
  {
   "cell_type": "code",
   "execution_count": 28,
   "id": "6b0f06a9",
   "metadata": {},
   "outputs": [
    {
     "name": "stdout",
     "output_type": "stream",
     "text": [
      "8.333333333333334\n"
     ]
    }
   ],
   "source": [
    "# How long it would take to travel 500 miles at the same speed\n",
    "dis = 500\n",
    "speed = 60\n",
    "time = dis/speed\n",
    "print(time)\n"
   ]
  },
  {
   "cell_type": "markdown",
   "id": "5eca8442",
   "metadata": {},
   "source": [
    "## 9. Celsius to Fahrenheit"
   ]
  },
  {
   "cell_type": "code",
   "execution_count": 29,
   "id": "f02d149b",
   "metadata": {},
   "outputs": [
    {
     "name": "stdout",
     "output_type": "stream",
     "text": [
      "56.00°C = 132.80°F\n"
     ]
    }
   ],
   "source": [
    "# Converting degrees Celsius to Fahrenheit involves using the formula:\n",
    "# Fahrenheit=(Celsius×9/5)+32\\text{Fahrenheit} = (\\text{Celsius} \\times 9/5) + 32Fahrenheit=(Celsius×9/5)+32\n",
    " \n",
    "\n",
    "celsius = float(input(\"Enter temperature in Celsius: \"))\n",
    "\n",
    "fahrenheit = (celsius * 9/5) + 32\n",
    "\n",
    "print(f\"{celsius:.2f}°C = {fahrenheit:.2f}°F\")\n"
   ]
  },
  {
   "cell_type": "code",
   "execution_count": null,
   "id": "59f3e7e0",
   "metadata": {},
   "outputs": [],
   "source": []
  }
 ],
 "metadata": {
  "kernelspec": {
   "display_name": "base",
   "language": "python",
   "name": "python3"
  },
  "language_info": {
   "codemirror_mode": {
    "name": "ipython",
    "version": 3
   },
   "file_extension": ".py",
   "mimetype": "text/x-python",
   "name": "python",
   "nbconvert_exporter": "python",
   "pygments_lexer": "ipython3",
   "version": "3.12.4"
  }
 },
 "nbformat": 4,
 "nbformat_minor": 5
}
