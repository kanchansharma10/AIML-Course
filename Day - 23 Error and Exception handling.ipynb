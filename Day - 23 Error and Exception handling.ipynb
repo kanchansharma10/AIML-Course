{
 "cells": [
  {
   "cell_type": "markdown",
   "id": "e8d94f0d",
   "metadata": {},
   "source": [
    "# ERROR AND EXCEPTION HANDLING\n",
    "- Try\n",
    "- Except\n",
    "- Else\n",
    "- Finally"
   ]
  },
  {
   "cell_type": "code",
   "execution_count": 1,
   "id": "73934f4c",
   "metadata": {},
   "outputs": [],
   "source": [
    "# Try\n",
    "      # Code block\n",
    "      # Risky code\n",
    "\n",
    "# Except\n",
    "     # Alternat code\n",
    "# Else\n",
    "   # Code\n",
    "\n",
    "# Finally\n",
    "    # Closed Execution of code"
   ]
  },
  {
   "cell_type": "code",
   "execution_count": 2,
   "id": "6b3b349d",
   "metadata": {},
   "outputs": [],
   "source": [
    "# Mutiple Except\n",
    "     # Alternat code"
   ]
  },
  {
   "cell_type": "code",
   "execution_count": 3,
   "id": "4d7c7515",
   "metadata": {},
   "outputs": [],
   "source": [
    "# Type of Errors"
   ]
  },
  {
   "cell_type": "code",
   "execution_count": 4,
   "id": "0152215a",
   "metadata": {},
   "outputs": [
    {
     "ename": "SyntaxError",
     "evalue": "unterminated string literal (detected at line 1) (2149988476.py, line 1)",
     "output_type": "error",
     "traceback": [
      "\u001b[1;36m  Cell \u001b[1;32mIn[4], line 1\u001b[1;36m\u001b[0m\n\u001b[1;33m    print(\"hello)\u001b[0m\n\u001b[1;37m          ^\u001b[0m\n\u001b[1;31mSyntaxError\u001b[0m\u001b[1;31m:\u001b[0m unterminated string literal (detected at line 1)\n"
     ]
    }
   ],
   "source": [
    "print(\"hello)"
   ]
  },
  {
   "cell_type": "code",
   "execution_count": 5,
   "id": "07ca3ff8",
   "metadata": {},
   "outputs": [
    {
     "ename": "NameError",
     "evalue": "name 'india' is not defined",
     "output_type": "error",
     "traceback": [
      "\u001b[1;31m---------------------------------------------------------------------------\u001b[0m",
      "\u001b[1;31mNameError\u001b[0m                                 Traceback (most recent call last)",
      "Cell \u001b[1;32mIn[5], line 1\u001b[0m\n\u001b[1;32m----> 1\u001b[0m \u001b[38;5;28mprint\u001b[39m(\u001b[43mindia\u001b[49m)\n",
      "\u001b[1;31mNameError\u001b[0m: name 'india' is not defined"
     ]
    }
   ],
   "source": [
    "print(india)"
   ]
  },
  {
   "cell_type": "code",
   "execution_count": 6,
   "id": "a7680092",
   "metadata": {},
   "outputs": [
    {
     "ename": "ValueError",
     "evalue": "invalid literal for int() with base 10: '1034.567'",
     "output_type": "error",
     "traceback": [
      "\u001b[1;31m---------------------------------------------------------------------------\u001b[0m",
      "\u001b[1;31mValueError\u001b[0m                                Traceback (most recent call last)",
      "Cell \u001b[1;32mIn[6], line 2\u001b[0m\n\u001b[0;32m      1\u001b[0m a\u001b[38;5;241m=\u001b[39m\u001b[38;5;124m'\u001b[39m\u001b[38;5;124m1034.567\u001b[39m\u001b[38;5;124m'\u001b[39m\n\u001b[1;32m----> 2\u001b[0m \u001b[38;5;28;43mint\u001b[39;49m\u001b[43m(\u001b[49m\u001b[43ma\u001b[49m\u001b[43m)\u001b[49m\n",
      "\u001b[1;31mValueError\u001b[0m: invalid literal for int() with base 10: '1034.567'"
     ]
    }
   ],
   "source": [
    "a='1034.567'\n",
    "int(a)"
   ]
  },
  {
   "cell_type": "code",
   "execution_count": 7,
   "id": "d1915acc",
   "metadata": {},
   "outputs": [],
   "source": [
    "#str> float>int"
   ]
  },
  {
   "cell_type": "code",
   "execution_count": 8,
   "id": "c4180d8f",
   "metadata": {},
   "outputs": [],
   "source": [
    "ls=[10,20,30,40,50,70]"
   ]
  },
  {
   "cell_type": "code",
   "execution_count": 10,
   "id": "dad62ec9",
   "metadata": {},
   "outputs": [
    {
     "ename": "IndexError",
     "evalue": "list index out of range",
     "output_type": "error",
     "traceback": [
      "\u001b[1;31m---------------------------------------------------------------------------\u001b[0m",
      "\u001b[1;31mIndexError\u001b[0m                                Traceback (most recent call last)",
      "Cell \u001b[1;32mIn[10], line 1\u001b[0m\n\u001b[1;32m----> 1\u001b[0m \u001b[43mls\u001b[49m\u001b[43m[\u001b[49m\u001b[38;5;241;43m9\u001b[39;49m\u001b[43m]\u001b[49m\n",
      "\u001b[1;31mIndexError\u001b[0m: list index out of range"
     ]
    }
   ],
   "source": [
    "ls[9]"
   ]
  },
  {
   "cell_type": "code",
   "execution_count": 11,
   "id": "5be7accd",
   "metadata": {},
   "outputs": [
    {
     "ename": "AttributeError",
     "evalue": "'tuple' object has no attribute 'append'",
     "output_type": "error",
     "traceback": [
      "\u001b[1;31m---------------------------------------------------------------------------\u001b[0m",
      "\u001b[1;31mAttributeError\u001b[0m                            Traceback (most recent call last)",
      "Cell \u001b[1;32mIn[11], line 2\u001b[0m\n\u001b[0;32m      1\u001b[0m tp\u001b[38;5;241m=\u001b[39m(\u001b[38;5;241m10\u001b[39m,\u001b[38;5;241m20\u001b[39m,\u001b[38;5;241m30\u001b[39m,\u001b[38;5;241m40\u001b[39m,\u001b[38;5;241m50\u001b[39m)\n\u001b[1;32m----> 2\u001b[0m \u001b[43mtp\u001b[49m\u001b[38;5;241;43m.\u001b[39;49m\u001b[43mappend\u001b[49m(\u001b[38;5;241m50\u001b[39m)\n",
      "\u001b[1;31mAttributeError\u001b[0m: 'tuple' object has no attribute 'append'"
     ]
    }
   ],
   "source": [
    "tp=(10,20,30,40,50)\n",
    "tp.append(50)"
   ]
  },
  {
   "cell_type": "code",
   "execution_count": 12,
   "id": "6f400aa1",
   "metadata": {},
   "outputs": [],
   "source": [
    "def repeat():\n",
    "    repeat()"
   ]
  },
  {
   "cell_type": "code",
   "execution_count": 13,
   "id": "2c3d1010",
   "metadata": {},
   "outputs": [
    {
     "ename": "RecursionError",
     "evalue": "maximum recursion depth exceeded",
     "output_type": "error",
     "traceback": [
      "\u001b[1;31m---------------------------------------------------------------------------\u001b[0m",
      "\u001b[1;31mRecursionError\u001b[0m                            Traceback (most recent call last)",
      "Cell \u001b[1;32mIn[13], line 1\u001b[0m\n\u001b[1;32m----> 1\u001b[0m \u001b[43mrepeat\u001b[49m\u001b[43m(\u001b[49m\u001b[43m)\u001b[49m\n",
      "Cell \u001b[1;32mIn[12], line 2\u001b[0m, in \u001b[0;36mrepeat\u001b[1;34m()\u001b[0m\n\u001b[0;32m      1\u001b[0m \u001b[38;5;28;01mdef\u001b[39;00m \u001b[38;5;21mrepeat\u001b[39m():\n\u001b[1;32m----> 2\u001b[0m     \u001b[43mrepeat\u001b[49m\u001b[43m(\u001b[49m\u001b[43m)\u001b[49m\n",
      "Cell \u001b[1;32mIn[12], line 2\u001b[0m, in \u001b[0;36mrepeat\u001b[1;34m()\u001b[0m\n\u001b[0;32m      1\u001b[0m \u001b[38;5;28;01mdef\u001b[39;00m \u001b[38;5;21mrepeat\u001b[39m():\n\u001b[1;32m----> 2\u001b[0m     \u001b[43mrepeat\u001b[49m\u001b[43m(\u001b[49m\u001b[43m)\u001b[49m\n",
      "    \u001b[1;31m[... skipping similar frames: repeat at line 2 (2974 times)]\u001b[0m\n",
      "Cell \u001b[1;32mIn[12], line 2\u001b[0m, in \u001b[0;36mrepeat\u001b[1;34m()\u001b[0m\n\u001b[0;32m      1\u001b[0m \u001b[38;5;28;01mdef\u001b[39;00m \u001b[38;5;21mrepeat\u001b[39m():\n\u001b[1;32m----> 2\u001b[0m     \u001b[43mrepeat\u001b[49m\u001b[43m(\u001b[49m\u001b[43m)\u001b[49m\n",
      "\u001b[1;31mRecursionError\u001b[0m: maximum recursion depth exceeded"
     ]
    }
   ],
   "source": [
    "repeat()"
   ]
  },
  {
   "cell_type": "code",
   "execution_count": 14,
   "id": "5bbb5dcf",
   "metadata": {},
   "outputs": [
    {
     "name": "stdout",
     "output_type": "stream",
     "text": [
      "Code have some error\n",
      "Code executed\n"
     ]
    }
   ],
   "source": [
    "try:\n",
    "    repeat(a,b)\n",
    "except:\n",
    "    print(\"Code have some error\")\n",
    "else:\n",
    "    print(\"Code execute successfully\")\n",
    "finally:\n",
    "    print(\"Code executed\")\n",
    "    "
   ]
  },
  {
   "cell_type": "code",
   "execution_count": 15,
   "id": "9298d730",
   "metadata": {},
   "outputs": [
    {
     "name": "stdout",
     "output_type": "stream",
     "text": [
      "Code have some error\n",
      "Code executed\n"
     ]
    }
   ],
   "source": [
    "# Mutltiple except block\n",
    "\n",
    "try:\n",
    "    repeat(a,b)\n",
    "except:\n",
    "    print(\"Code have some error\")\n",
    "else:\n",
    "    print(\"Code execute successfully\")\n",
    "finally:\n",
    "    print(\"Code executed\")"
   ]
  },
  {
   "cell_type": "code",
   "execution_count": 16,
   "id": "a8849521",
   "metadata": {},
   "outputs": [
    {
     "name": "stdout",
     "output_type": "stream",
     "text": [
      "name 'b' is not defined\n",
      "Code executed\n"
     ]
    }
   ],
   "source": [
    "try:\n",
    "    repeat(a,b)\n",
    "except RecursionError:\n",
    "    print(\"maximum recursion depth exceeded\")\n",
    "except NameError:\n",
    "    print(\"name 'b' is not defined\") \n",
    "except AttributeError :\n",
    "    print(\"Attribute not found\")\n",
    "except :\n",
    "    print(\"Error found\")    \n",
    "else:\n",
    "    print(\"Code execute successfully\")\n",
    "finally:\n",
    "    print(\"Code executed\")"
   ]
  },
  {
   "cell_type": "code",
   "execution_count": 17,
   "id": "808567ef",
   "metadata": {},
   "outputs": [],
   "source": [
    "def mutiply(a,b,c):\n",
    "   return (a*b)/c\n",
    "       "
   ]
  },
  {
   "cell_type": "code",
   "execution_count": 18,
   "id": "b94226a6",
   "metadata": {},
   "outputs": [],
   "source": [
    "def mutiply1(a,b):\n",
    "   return (a*b)\n",
    "       "
   ]
  },
  {
   "cell_type": "code",
   "execution_count": 19,
   "id": "227c8605",
   "metadata": {},
   "outputs": [
    {
     "ename": "NameError",
     "evalue": "name 'b' is not defined",
     "output_type": "error",
     "traceback": [
      "\u001b[1;31m---------------------------------------------------------------------------\u001b[0m",
      "\u001b[1;31mNameError\u001b[0m                                 Traceback (most recent call last)",
      "Cell \u001b[1;32mIn[19], line 1\u001b[0m\n\u001b[1;32m----> 1\u001b[0m mutiply(a,\u001b[43mb\u001b[49m,c)\n",
      "\u001b[1;31mNameError\u001b[0m: name 'b' is not defined"
     ]
    }
   ],
   "source": [
    "mutiply(a,b,c)"
   ]
  },
  {
   "cell_type": "code",
   "execution_count": 20,
   "id": "c6a3ad51",
   "metadata": {},
   "outputs": [
    {
     "name": "stdout",
     "output_type": "stream",
     "text": [
      "150.0\n",
      "code finished\n"
     ]
    }
   ],
   "source": [
    "a=10\n",
    "b=30\n",
    "c=0\n",
    "try:\n",
    "   mutiply(a,b,c)\n",
    "except NameError:\n",
    "   print(mutiply1(a,b))\n",
    "except ZeroDivisionError:\n",
    "    c=2\n",
    "    print(mutiply(a,b,c))\n",
    "else:\n",
    "    print(mutiply(a,b,c))\n",
    "finally:\n",
    "    print(\"code finished\")"
   ]
  },
  {
   "cell_type": "code",
   "execution_count": 21,
   "id": "52f3a9f0",
   "metadata": {},
   "outputs": [
    {
     "ename": "ZeroDivisionError",
     "evalue": "division by zero",
     "output_type": "error",
     "traceback": [
      "\u001b[1;31m---------------------------------------------------------------------------\u001b[0m",
      "\u001b[1;31mZeroDivisionError\u001b[0m                         Traceback (most recent call last)",
      "Cell \u001b[1;32mIn[21], line 1\u001b[0m\n\u001b[1;32m----> 1\u001b[0m \u001b[43mmutiply\u001b[49m\u001b[43m(\u001b[49m\u001b[38;5;241;43m10\u001b[39;49m\u001b[43m,\u001b[49m\u001b[38;5;241;43m20\u001b[39;49m\u001b[43m,\u001b[49m\u001b[38;5;241;43m0\u001b[39;49m\u001b[43m)\u001b[49m\n",
      "Cell \u001b[1;32mIn[17], line 2\u001b[0m, in \u001b[0;36mmutiply\u001b[1;34m(a, b, c)\u001b[0m\n\u001b[0;32m      1\u001b[0m \u001b[38;5;28;01mdef\u001b[39;00m \u001b[38;5;21mmutiply\u001b[39m(a,b,c):\n\u001b[1;32m----> 2\u001b[0m    \u001b[38;5;28;01mreturn\u001b[39;00m \u001b[43m(\u001b[49m\u001b[43ma\u001b[49m\u001b[38;5;241;43m*\u001b[39;49m\u001b[43mb\u001b[49m\u001b[43m)\u001b[49m\u001b[38;5;241;43m/\u001b[39;49m\u001b[43mc\u001b[49m\n",
      "\u001b[1;31mZeroDivisionError\u001b[0m: division by zero"
     ]
    }
   ],
   "source": [
    "\n",
    "mutiply(10,20,0)"
   ]
  },
  {
   "cell_type": "code",
   "execution_count": null,
   "id": "b13493c3",
   "metadata": {},
   "outputs": [],
   "source": [
    "s"
   ]
  }
 ],
 "metadata": {
  "kernelspec": {
   "display_name": "base",
   "language": "python",
   "name": "python3"
  },
  "language_info": {
   "codemirror_mode": {
    "name": "ipython",
    "version": 3
   },
   "file_extension": ".py",
   "mimetype": "text/x-python",
   "name": "python",
   "nbconvert_exporter": "python",
   "pygments_lexer": "ipython3",
   "version": "3.12.4"
  }
 },
 "nbformat": 4,
 "nbformat_minor": 5
}
