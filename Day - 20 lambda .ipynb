{
 "cells": [
  {
   "cell_type": "markdown",
   "id": "4b31270d",
   "metadata": {},
   "source": [
    "<div style=\"background-color: #add8e6; padding: 10px; height: 70px; border-radius: 15px;\">\n",
    "    <div style=\"font-family: 'Georgia', serif; font-size: 20px; padding: 10px; text-align: right; position: absolute; right: 20px;\">\n",
    "        Kanchan Sharma <br>\n",
    "        <span style=\"font-family: 'Arial', sans-serif;font-size: 12px; color: #0a0a0a;\">Tech Skills Trainee | AI/ML Bootcamp</span> \n",
    "    </div>\n",
    "</div>"
   ]
  },
  {
   "cell_type": "markdown",
   "id": "5de7ac8a",
   "metadata": {},
   "source": [
    "<div style=\"background-color: #002147; padding: 10px; text-align: center; color: white; font-size: 32px; font-family: 'Arial', sans-serif;\">\n",
    "   function  <br>\n",
    "    <h3 style=\"text-align: center; color: white; font-size: 15px; font-family: 'Arial', sans-serif;\"></h3>\n",
    "</div>"
   ]
  },
  {
   "cell_type": "markdown",
   "id": "7e19c81f",
   "metadata": {},
   "source": [
    "# lambda function\n",
    "- simple one\n",
    "- one liner function\n",
    "- not for complex"
   ]
  },
  {
   "cell_type": "code",
   "execution_count": 1,
   "id": "8fe3ae96",
   "metadata": {},
   "outputs": [],
   "source": [
    "def sequare_any(num):\n",
    "    return num**2\n"
   ]
  },
  {
   "cell_type": "code",
   "execution_count": 2,
   "id": "7a7216db",
   "metadata": {},
   "outputs": [
    {
     "data": {
      "text/plain": [
       "400"
      ]
     },
     "execution_count": 2,
     "metadata": {},
     "output_type": "execute_result"
    }
   ],
   "source": [
    "sequare_any(20)"
   ]
  },
  {
   "cell_type": "code",
   "execution_count": 3,
   "id": "bc4df79a",
   "metadata": {},
   "outputs": [],
   "source": [
    "# even and odd function\n",
    "def even_odd(num):\n",
    "    if num%2==0:\n",
    "        return \"even\"\n",
    "    else:\n",
    "        return\"odd\"\n"
   ]
  },
  {
   "cell_type": "code",
   "execution_count": 4,
   "id": "c0fa3332",
   "metadata": {},
   "outputs": [
    {
     "data": {
      "text/plain": [
       "'even'"
      ]
     },
     "execution_count": 4,
     "metadata": {},
     "output_type": "execute_result"
    }
   ],
   "source": [
    "even_odd(8)"
   ]
  },
  {
   "cell_type": "code",
   "execution_count": 5,
   "id": "7b43c7d1",
   "metadata": {},
   "outputs": [
    {
     "data": {
      "text/plain": [
       "'odd'"
      ]
     },
     "execution_count": 5,
     "metadata": {},
     "output_type": "execute_result"
    }
   ],
   "source": [
    "even_odd(7)"
   ]
  },
  {
   "cell_type": "code",
   "execution_count": 6,
   "id": "3b7c4506",
   "metadata": {},
   "outputs": [
    {
     "name": "stdout",
     "output_type": "stream",
     "text": [
      "25\n"
     ]
    }
   ],
   "source": [
    "# lambda function \n",
    "square = lambda x:x**2\n",
    "print(square(5))"
   ]
  },
  {
   "cell_type": "code",
   "execution_count": null,
   "id": "24c51162",
   "metadata": {},
   "outputs": [
    {
     "name": "stdout",
     "output_type": "stream",
     "text": [
      "even\n"
     ]
    }
   ],
   "source": [
    "even_odd = lambda num: \"even\" if num%2==0 else \"odd\"\n",
    "print(even_odd(8))"
   ]
  },
  {
   "cell_type": "code",
   "execution_count": 8,
   "id": "9f9c97d9",
   "metadata": {},
   "outputs": [
    {
     "name": "stdout",
     "output_type": "stream",
     "text": [
      "odd\n"
     ]
    }
   ],
   "source": [
    "even_odd = lambda num: \"even\" if num%2==0 else \"odd\"\n",
    "print(even_odd(9))"
   ]
  },
  {
   "cell_type": "code",
   "execution_count": 9,
   "id": "f738ef01",
   "metadata": {},
   "outputs": [
    {
     "name": "stdout",
     "output_type": "stream",
     "text": [
      "positive\n"
     ]
    }
   ],
   "source": [
    "# negative and positive\n",
    "neg_pos = lambda num:\"positive\" if num>0 else \"negative\"\n",
    "print(neg_pos(7))"
   ]
  },
  {
   "cell_type": "code",
   "execution_count": 10,
   "id": "1eaec6bd",
   "metadata": {},
   "outputs": [
    {
     "name": "stdout",
     "output_type": "stream",
     "text": [
      "negative\n"
     ]
    }
   ],
   "source": [
    "print(neg_pos(-3))"
   ]
  },
  {
   "cell_type": "code",
   "execution_count": 11,
   "id": "762ea1b0",
   "metadata": {},
   "outputs": [
    {
     "name": "stdout",
     "output_type": "stream",
     "text": [
      "6\n"
     ]
    }
   ],
   "source": [
    "# wap to function the sum of three number\n",
    "total = lambda a,b,c: a+b+c\n",
    "print(total(1,2,3))"
   ]
  },
  {
   "cell_type": "code",
   "execution_count": 12,
   "id": "bc6f4910",
   "metadata": {},
   "outputs": [],
   "source": [
    "# sequence\n",
    "# in which we used map function for use to iterate on each value\n",
    "ls =[1,2,3,5,6]\n",
    "sq= list(map(lambda x:x**2,ls))\n"
   ]
  },
  {
   "cell_type": "code",
   "execution_count": 13,
   "id": "1cafaf02",
   "metadata": {},
   "outputs": [
    {
     "name": "stdout",
     "output_type": "stream",
     "text": [
      "[1, 4, 9, 25, 36]\n"
     ]
    }
   ],
   "source": [
    "print(sq)"
   ]
  },
  {
   "cell_type": "code",
   "execution_count": 14,
   "id": "4dbc50df",
   "metadata": {},
   "outputs": [],
   "source": [
    "# return the double\n",
    "ls =[1,2,3,5,6]\n",
    "sq= list(map(lambda x:x*2,ls))"
   ]
  },
  {
   "cell_type": "code",
   "execution_count": 15,
   "id": "8c50fa88",
   "metadata": {},
   "outputs": [
    {
     "name": "stdout",
     "output_type": "stream",
     "text": [
      "[2, 4, 6, 10, 12]\n"
     ]
    }
   ],
   "source": [
    "print(sq)"
   ]
  },
  {
   "cell_type": "code",
   "execution_count": 16,
   "id": "a079f162",
   "metadata": {},
   "outputs": [
    {
     "name": "stdout",
     "output_type": "stream",
     "text": [
      "[4, 2, 2]\n"
     ]
    }
   ],
   "source": [
    "# filter: are use to ilter the data in retuurn in given format\n",
    "ls =[1,3,5,7,4,3,2,2,3]\n",
    "even = list(filter(lambda x:x%2==0,ls))\n",
    "print(even)"
   ]
  },
  {
   "cell_type": "code",
   "execution_count": 23,
   "id": "770042d0",
   "metadata": {},
   "outputs": [
    {
     "name": "stdout",
     "output_type": "stream",
     "text": [
      "[1, 3, 5, 7, 3, 3]\n"
     ]
    }
   ],
   "source": [
    "ls =[1,3,5,7,4,3,2,2,3]\n",
    "odd = list(filter(lambda x:x%2!=0,ls))\n",
    "print(odd)"
   ]
  },
  {
   "cell_type": "markdown",
   "id": "82ddee61",
   "metadata": {},
   "source": [
    "\n",
    "<div style=\"background-color: PINK; color: #fff; padding: 30px; text-align: center;\">\n",
    "    <h1>END!\n",
    "        <!--- Devashish Kumar | Tech Skills Trainer | CodroidHub Private Limited | AI/ML Consultant --->\n",
    "</h1> </div>\n"
   ]
  },
  {
   "cell_type": "markdown",
   "id": "bd72b138",
   "metadata": {},
   "source": [
    "<div style=\"background-color: #002147; color: #fff; padding: 30px; text-align: center;\">\n",
    "    <h1>THANK YOU!\n",
    "        <!--- Devashish Kumar | Tech Skills Trainer | CodroidHub Private Limited | AI/ML Consultant --->\n",
    "</h1> </div>"
   ]
  },
  {
   "cell_type": "markdown",
   "id": "53b19f5c",
   "metadata": {},
   "source": []
  }
 ],
 "metadata": {
  "kernelspec": {
   "display_name": "base",
   "language": "python",
   "name": "python3"
  },
  "language_info": {
   "codemirror_mode": {
    "name": "ipython",
    "version": 3
   },
   "file_extension": ".py",
   "mimetype": "text/x-python",
   "name": "python",
   "nbconvert_exporter": "python",
   "pygments_lexer": "ipython3",
   "version": "3.12.4"
  }
 },
 "nbformat": 4,
 "nbformat_minor": 5
}
