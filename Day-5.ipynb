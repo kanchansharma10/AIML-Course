{
 "cells": [
  {
   "cell_type": "markdown",
   "id": "c4f57d09",
   "metadata": {},
   "source": [
    "<div style=\"background-color:rgb(230, 173, 173); padding: 10px; height: 70px; border-radius: 15px;\">\n",
    "    <div style=\"font-family: 'Georgia', serif; font-size: 20px; padding: 10px; text-align: right; position: absolute; right: 20px;\">\n",
    "        Kanchan Sharma <br>\n",
    "        <span style=\"font-family: 'Arial', sans-serif;font-size: 12px; color: #0a0a0a;\">Tech Skills Trainee | AI/ML Bootcamp</span> \n",
    "    </div>\n",
    "</div>"
   ]
  },
  {
   "cell_type": "markdown",
   "id": "15633ba7",
   "metadata": {},
   "source": [
    "<div style=\"background-color: #002147; padding: 10px; text-align: center; color: white; font-size: 32px; font-family: 'Arial', sans-serif;\">\n",
    "IF-else Statement  In  Python  <br>\n",
    "    <h3 style=\"text-align: center; color: white; font-size: 15px; font-family: 'Arial', sans-serif;\"></h3>\n",
    "</div>"
   ]
  },
  {
   "cell_type": "markdown",
   "id": "7a3652e7",
   "metadata": {},
   "source": [
    "\n",
    "An if-else statement in Python is used to run one block of code if a condition is true, and another block if it's false. "
   ]
  },
  {
   "cell_type": "code",
   "execution_count": null,
   "id": "2ef85e47",
   "metadata": {},
   "outputs": [],
   "source": [
    "# example\n",
    "x = 5\n",
    "if x == 5:\n",
    "    print(\"x is 5\")\n",
    "else:\n",
    "    print(\"wrong value of x\")\n",
    "\n"
   ]
  },
  {
   "cell_type": "markdown",
   "id": "0d06c5f9",
   "metadata": {},
   "source": [
    "\n",
    "\n",
    "You can also add more conditions using elif (short for \"else if\"):"
   ]
  },
  {
   "cell_type": "code",
   "execution_count": null,
   "id": "214238ec",
   "metadata": {},
   "outputs": [],
   "source": [
    "x = 5\n",
    "\n",
    "if x > 5:\n",
    "    print(\"x is greater than 5\")\n",
    "elif x == 5:\n",
    "    print(\"x is equal to 5\")\n",
    "else:\n",
    "    print(\"x is less than 5\")\n"
   ]
  },
  {
   "cell_type": "markdown",
   "id": "9e41f570",
   "metadata": {},
   "source": [
    "## Key Points:\n",
    "Indentation (usually 4 spaces) is required to define code blocks.\n",
    "\n",
    "Conditions use comparison operators like ==, !=, >, <, >=, <=.\n",
    "\n",
    "You can combine conditions with and, or, and not."
   ]
  },
  {
   "cell_type": "markdown",
   "id": "366c18a7",
   "metadata": {},
   "source": [
    "# Examples of if_else statement"
   ]
  },
  {
   "cell_type": "code",
   "execution_count": 16,
   "id": "ad113c71",
   "metadata": {},
   "outputs": [
    {
     "name": "stdout",
     "output_type": "stream",
     "text": [
      "person is not eligible for vote.\n"
     ]
    }
   ],
   "source": [
    "# Aim: Check if a person is eligible to vote.\n",
    "age = int(input(\"enter the number\"))\n",
    "if age>=18:\n",
    "    print(\"person is eligible for vote.\")\n",
    "else:\n",
    "    print(\"person is not eligible for vote.\")   "
   ]
  },
  {
   "cell_type": "code",
   "execution_count": 21,
   "id": "76b236b0",
   "metadata": {},
   "outputs": [
    {
     "name": "stdout",
     "output_type": "stream",
     "text": [
      "Grade A\n"
     ]
    }
   ],
   "source": [
    "# Aim: Assign grade based on marks.\n",
    "marks = int(input(\"enter the marks\"))\n",
    "if marks>=90:\n",
    "    print(\"Grade A\")\n",
    "elif marks>=80:\n",
    "    print(\"Grade B\")\n",
    "elif marks>=70:\n",
    "    print(\"Grade C\")\n",
    "elif marks>=60:\n",
    "    print(\"Grade D\")\n",
    "else:\n",
    "    print(\"Fail\")    \n",
    "        \n"
   ]
  },
  {
   "cell_type": "code",
   "execution_count": 25,
   "id": "0d1b4b3f",
   "metadata": {},
   "outputs": [
    {
     "name": "stdout",
     "output_type": "stream",
     "text": [
      "num is  positive even\n"
     ]
    }
   ],
   "source": [
    "# Check if a number is positive, and if it's even or odd.\n",
    "num = int(input(\"enter the num\"))\n",
    "if num>0:\n",
    "    if num%2==0:\n",
    "        print(\"num is  positive even\")\n",
    "    else:\n",
    "        print(\"num is positive odd\") \n",
    "else:\n",
    "    print(\"num is not positive\")\n"
   ]
  },
  {
   "cell_type": "code",
   "execution_count": 28,
   "id": "1aa4cc19",
   "metadata": {},
   "outputs": [
    {
     "name": "stdout",
     "output_type": "stream",
     "text": [
      "invalid\n"
     ]
    }
   ],
   "source": [
    "#  If with Logical Operators\n",
    "# Aim: Simple login system.\n",
    "username = \"Admin\"\n",
    "passward = int(input(\"enter a passward\"))\n",
    "if username == \"Admin\" and passward == \"1234\":\n",
    "  print(\"log in successfully\")\n",
    "else:\n",
    "  print(\"invalid\")  "
   ]
  },
  {
   "cell_type": "code",
   "execution_count": 29,
   "id": "fd53fea4",
   "metadata": {},
   "outputs": [
    {
     "name": "stdout",
     "output_type": "stream",
     "text": [
      "Pass\n"
     ]
    }
   ],
   "source": [
    "# Aim: Show result using ternary operator\n",
    "score = 85\n",
    "result = \"Pass\" if score >= 40 else \"Fail\"\n",
    "print(result)\n"
   ]
  },
  {
   "cell_type": "code",
   "execution_count": 35,
   "id": "66ba7ad5",
   "metadata": {},
   "outputs": [
    {
     "name": "stdout",
     "output_type": "stream",
     "text": [
      "weekday\n"
     ]
    }
   ],
   "source": [
    "# Aim: Identify if it's a weekend\n",
    "day = \"monday\"\n",
    "if day == \"Sunday\" or day == \"Saturday\":\n",
    "    print(\"weekend\")\n",
    "else:\n",
    "    print(\"weekday\")    \n",
    "\n"
   ]
  },
  {
   "cell_type": "code",
   "execution_count": 37,
   "id": "0a391262",
   "metadata": {},
   "outputs": [
    {
     "name": "stdout",
     "output_type": "stream",
     "text": [
      "withdraw 200.new balance:800 \n"
     ]
    }
   ],
   "source": [
    "Balance = 1000\n",
    "action = \"withdraw\"\n",
    "if action == \"check\":\n",
    "    print(f\"your balance is :{Balance}\")\n",
    "elif action == \"withdraw\" :\n",
    "    amount = 200\n",
    "    if amount <= Balance:\n",
    "        Balance -= amount\n",
    "        print(f\"withdraw {amount}.new balance:{Balance} \")\n",
    "    else:\n",
    "        print(\"Insufficient Funds\")\n",
    "else:\n",
    "    print(\"Invalid selected action\")\n"
   ]
  }
 ],
 "metadata": {
  "kernelspec": {
   "display_name": "base",
   "language": "python",
   "name": "python3"
  },
  "language_info": {
   "codemirror_mode": {
    "name": "ipython",
    "version": 3
   },
   "file_extension": ".py",
   "mimetype": "text/x-python",
   "name": "python",
   "nbconvert_exporter": "python",
   "pygments_lexer": "ipython3",
   "version": "3.12.4"
  }
 },
 "nbformat": 4,
 "nbformat_minor": 5
}
