{
 "cells": [
  {
   "cell_type": "code",
   "execution_count": 1,
   "id": "0ec1dda4",
   "metadata": {},
   "outputs": [],
   "source": [
    "# Error and Exception handling\n",
    "  # custom error"
   ]
  },
  {
   "cell_type": "code",
   "execution_count": 4,
   "id": "65d6b863",
   "metadata": {},
   "outputs": [],
   "source": [
    "# Assert\n",
    "     # Assert works only when condition is true\n",
    "age = 29\n",
    "assert age>=18 ,\"yor are under age\""
   ]
  },
  {
   "cell_type": "code",
   "execution_count": 5,
   "id": "728c668b",
   "metadata": {},
   "outputs": [
    {
     "ename": "AssertionError",
     "evalue": "yor are under age",
     "output_type": "error",
     "traceback": [
      "\u001b[1;31m---------------------------------------------------------------------------\u001b[0m",
      "\u001b[1;31mAssertionError\u001b[0m                            Traceback (most recent call last)",
      "Cell \u001b[1;32mIn[5], line 2\u001b[0m\n\u001b[0;32m      1\u001b[0m age \u001b[38;5;241m=\u001b[39m \u001b[38;5;241m10\u001b[39m\n\u001b[1;32m----> 2\u001b[0m \u001b[38;5;28;01massert\u001b[39;00m age\u001b[38;5;241m>\u001b[39m\u001b[38;5;241m=\u001b[39m\u001b[38;5;241m18\u001b[39m ,\u001b[38;5;124m\"\u001b[39m\u001b[38;5;124myor are under age\u001b[39m\u001b[38;5;124m\"\u001b[39m\n",
      "\u001b[1;31mAssertionError\u001b[0m: yor are under age"
     ]
    }
   ],
   "source": [
    "age = 10\n",
    "assert age>=18 ,\"yor are under age\""
   ]
  },
  {
   "cell_type": "code",
   "execution_count": 6,
   "id": "3b6709cb",
   "metadata": {},
   "outputs": [
    {
     "ename": "ZeroDivisionError",
     "evalue": "division by zero",
     "output_type": "error",
     "traceback": [
      "\u001b[1;31m---------------------------------------------------------------------------\u001b[0m",
      "\u001b[1;31mZeroDivisionError\u001b[0m                         Traceback (most recent call last)",
      "Cell \u001b[1;32mIn[6], line 1\u001b[0m\n\u001b[1;32m----> 1\u001b[0m \u001b[38;5;28mprint\u001b[39m(\u001b[38;5;241;43m1\u001b[39;49m\u001b[38;5;241;43m/\u001b[39;49m\u001b[38;5;241;43m0\u001b[39;49m)\n",
      "\u001b[1;31mZeroDivisionError\u001b[0m: division by zero"
     ]
    }
   ],
   "source": [
    "print(1/0)"
   ]
  },
  {
   "cell_type": "code",
   "execution_count": 11,
   "id": "5ae86aca",
   "metadata": {},
   "outputs": [
    {
     "name": "stdout",
     "output_type": "stream",
     "text": [
      "the error is division by zero\n",
      "the error type is <class 'ZeroDivisionError'>\n",
      "the error type class is <class 'type'>\n",
      "the error type class is <class 'str'>\n"
     ]
    }
   ],
   "source": [
    "# Error console information\n",
    "try:\n",
    "    print(1/0)\n",
    "except ZeroDivisionError as ZE:\n",
    "    print(\"the error is\",ZE)\n",
    "    print(\"the error type is\",type(ZE))\n",
    "    print(\"the error type class is\",type(ZE.__class__))\n",
    "    print(\"the error type class is\",type(ZE.__class__.__name__))"
   ]
  },
  {
   "cell_type": "markdown",
   "id": "9489c44a",
   "metadata": {},
   "source": [
    "# FILE HANDLING\n",
    " ## Types of Files\n",
    "- Basic file or textual file\n",
    "- Notepad \n",
    "- HTML,txt,csv,json,py"
   ]
  },
  {
   "cell_type": "markdown",
   "id": "89a70bd2",
   "metadata": {},
   "source": [
    "## Advance file or Binary file or Software file\n",
    "- Pdf file: .pdf \n",
    "- Audio file :.mp3\n",
    "- video file :mp4\n",
    "- word: .doc"
   ]
  },
  {
   "cell_type": "code",
   "execution_count": 4,
   "id": "fa976208",
   "metadata": {},
   "outputs": [],
   "source": [
    "# file : open , read , write, overwrite , new file, old file delete\n"
   ]
  },
  {
   "cell_type": "code",
   "execution_count": 2,
   "id": "41986a38",
   "metadata": {},
   "outputs": [],
   "source": [
    "file_path = (\"C:\\\\Users\\\\pandat\\\\Downloads\\\\Superstore.csv\")\n",
    "\n",
    "\n",
    "\n",
    "\n"
   ]
  },
  {
   "cell_type": "code",
   "execution_count": 3,
   "id": "135bb2d8",
   "metadata": {},
   "outputs": [
    {
     "name": "stdout",
     "output_type": "stream",
     "text": [
      "File not exist\n"
     ]
    }
   ],
   "source": [
    "try:\n",
    "    file=open(\"D:\\\\Data\\\\movie_data1csv\")\n",
    "except:\n",
    "    print(\"File not exist\")\n",
    "else:\n",
    "    print(\"done\")\n"
   ]
  },
  {
   "cell_type": "code",
   "execution_count": 10,
   "id": "d128182b",
   "metadata": {},
   "outputs": [
    {
     "name": "stdout",
     "output_type": "stream",
     "text": [
      "done\n"
     ]
    }
   ],
   "source": [
    "file = (\"D:\\\\data.txt\")\n",
    "print(\"done\")"
   ]
  },
  {
   "cell_type": "code",
   "execution_count": 15,
   "id": "e1b85f00",
   "metadata": {},
   "outputs": [],
   "source": [
    "\n",
    "file = (\"\\\\D:\\\\data.txt\")\n"
   ]
  },
  {
   "cell_type": "code",
   "execution_count": null,
   "id": "a561fd2d",
   "metadata": {},
   "outputs": [],
   "source": [
    "\n"
   ]
  },
  {
   "cell_type": "code",
   "execution_count": null,
   "id": "ab5adcda",
   "metadata": {},
   "outputs": [],
   "source": []
  }
 ],
 "metadata": {
  "kernelspec": {
   "display_name": "base",
   "language": "python",
   "name": "python3"
  },
  "language_info": {
   "codemirror_mode": {
    "name": "ipython",
    "version": 3
   },
   "file_extension": ".py",
   "mimetype": "text/x-python",
   "name": "python",
   "nbconvert_exporter": "python",
   "pygments_lexer": "ipython3",
   "version": "3.12.4"
  }
 },
 "nbformat": 4,
 "nbformat_minor": 5
}
