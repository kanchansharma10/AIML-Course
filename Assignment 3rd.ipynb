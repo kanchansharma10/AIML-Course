{
 "cells": [
  {
   "cell_type": "markdown",
   "id": "1e00dc3e",
   "metadata": {},
   "source": [
    "<div style=\"background-color: #add8e6; padding: 10px; height: 70px; border-radius: 15px;\">\n",
    "    <div style=\"font-family: 'Georgia', serif; font-size: 20px; padding: 10px; text-align: right; position: absolute; right: 20px;\">\n",
    "        Kanchan Sharma <br>\n",
    "        <span style=\"font-family: 'Arial', sans-serif;font-size: 12px; color: #0a0a0a;\">Tech Skills Trainee | AI/ML Bootcamp</span> \n",
    "    </div>\n",
    "</div>"
   ]
  },
  {
   "cell_type": "markdown",
   "id": "2629ddba",
   "metadata": {},
   "source": [
    "<div style=\"background-color: #002147; padding: 10px; text-align: center; color: white; font-size: 32px; font-family: 'Arial', sans-serif;\">\n",
    "  Assignment <br>\n",
    "    <h3 style=\"text-align: center; color: white; font-size: 15px; font-family: 'Arial', sans-serif;\"></h3>\n",
    "</div>"
   ]
  },
  {
   "cell_type": "markdown",
   "id": "86cbf5a9",
   "metadata": {},
   "source": [
    "# Conditional Statement"
   ]
  },
  {
   "cell_type": "markdown",
   "id": "c6c8bcba",
   "metadata": {},
   "source": [
    "# 1.\tSimple Comparison:\n",
    "     - Write a program to check if a number x = 10 is greater than 5 and print \"x is greater than 5\" if true.\n",
    "\t- Example: if x > 5: print(\"x is greater than 5\")\n"
   ]
  },
  {
   "cell_type": "code",
   "execution_count": 8,
   "id": "088f6c02",
   "metadata": {},
   "outputs": [
    {
     "name": "stdout",
     "output_type": "stream",
     "text": [
      "x is greater than 5\n"
     ]
    }
   ],
   "source": [
    "x = 10\n",
    "if x>5:\n",
    "    print(\"x is greater than 5\")"
   ]
  },
  {
   "cell_type": "markdown",
   "id": "29856e45",
   "metadata": {},
   "source": [
    "# 2.\tCheck Even or Odd:\n",
    "- o\tTask: Given a number num = 8, write a program to print \"Even\" if num is even.\n",
    "- o\tExample: if num % 2 == 0: print(\"Even\")\n"
   ]
  },
  {
   "cell_type": "code",
   "execution_count": 9,
   "id": "da88ece9",
   "metadata": {},
   "outputs": [
    {
     "name": "stdout",
     "output_type": "stream",
     "text": [
      "num is odd\n"
     ]
    }
   ],
   "source": [
    "num = int(input(\"enter the num\"))\n",
    "if num%2==0:\n",
    "    print(\"num is even\")\n",
    "else:\n",
    "    print(\"num is odd\")\n"
   ]
  },
  {
   "cell_type": "markdown",
   "id": "9b4070b9",
   "metadata": {},
   "source": [
    "3.\tString Check:\n",
    "- o\tTask: Check if the string text = \"hello\" starts with the letter \"h\" and print \"Starts with h\" if true.\n",
    "- o\tExample: if text.startswith(\"h\"): print(\"Starts with h\n"
   ]
  },
  {
   "cell_type": "code",
   "execution_count": 10,
   "id": "5bdcc999",
   "metadata": {},
   "outputs": [
    {
     "name": "stdout",
     "output_type": "stream",
     "text": [
      "start with h\n"
     ]
    }
   ],
   "source": [
    "txt = \"hello\"\n",
    "if txt.startswith(\"h\"):\n",
    "    print(\"start with h\")"
   ]
  },
  {
   "cell_type": "code",
   "execution_count": 11,
   "id": "be0f45e9",
   "metadata": {},
   "outputs": [
    {
     "name": "stdout",
     "output_type": "stream",
     "text": [
      "end with o\n"
     ]
    }
   ],
   "source": [
    "txt = \"hello\"\n",
    "if txt.endswith(\"o\"):\n",
    "    print(\"end with o\")"
   ]
  },
  {
   "cell_type": "markdown",
   "id": "6cc391e0",
   "metadata": {},
   "source": [
    "# 4.\tGreater Than Zero:\n",
    "- o\tTask: Write a program that prints \"Positive\" if the number number = 3 is greater than zero.\n",
    "- o\tExample: if number > 0: print(\"Positive\")\n"
   ]
  },
  {
   "cell_type": "code",
   "execution_count": 12,
   "id": "9cdc0d96",
   "metadata": {},
   "outputs": [
    {
     "name": "stdout",
     "output_type": "stream",
     "text": [
      "num is positive\n"
     ]
    }
   ],
   "source": [
    "num = 3\n",
    "if num>0:\n",
    "    print(\"num is positive\")"
   ]
  },
  {
   "cell_type": "markdown",
   "id": "4c8d6932",
   "metadata": {},
   "source": [
    "5.\tCheck for Specific Value:\n",
    "- o\tTask: Check if fruit = \"apple\" is equal to \"orange\" and print \"Not an orange\" if it is not.\n",
    "- o\tExample: if fruit != \"orange\": print(\"Not an orange\")\n"
   ]
  },
  {
   "cell_type": "code",
   "execution_count": null,
   "id": "2a2c744f",
   "metadata": {},
   "outputs": [],
   "source": []
  },
  {
   "cell_type": "markdown",
   "id": "b54c5f08",
   "metadata": {},
   "source": [
    "# if-else Statements\n",
    "# 6.\tCheck Adult or Minor:\n",
    "- o\tTask: Write a program to check if the age age = 20 is greater than or equal to 18 and print \"Adult\" if true, otherwise print \"Minor\".\n",
    "- o\tExample: if age >= 18: print(\"Adult\") else: print(\"Minor\")\n"
   ]
  },
  {
   "cell_type": "code",
   "execution_count": 13,
   "id": "7e1d7f44",
   "metadata": {},
   "outputs": [
    {
     "name": "stdout",
     "output_type": "stream",
     "text": [
      "Adult\n"
     ]
    }
   ],
   "source": [
    "age = 20\n",
    "if age>= 18:\n",
    "    print(\"Adult\")\n",
    "else:\n",
    "    print(\"minor\")"
   ]
  },
  {
   "cell_type": "markdown",
   "id": "ea2a394f",
   "metadata": {},
   "source": [
    "# 7.\tTemperature Check:\n",
    "- o\tTask: Given temperature = 30, print \"Hot\" if the temperature is above 25, otherwise print \"Cool\".\n",
    "- o\tExample: if temperature > 25: print(\"Hot\") else: print(\"Cool\")\n",
    "\n"
   ]
  },
  {
   "cell_type": "code",
   "execution_count": 14,
   "id": "cb55bf48",
   "metadata": {},
   "outputs": [
    {
     "name": "stdout",
     "output_type": "stream",
     "text": [
      "hot\n"
     ]
    }
   ],
   "source": [
    "tem = 30\n",
    "if tem>25:\n",
    "    print(\"hot\")\n",
    "else:\n",
    "    print(\"cool\")\n",
    "    "
   ]
  },
  {
   "cell_type": "markdown",
   "id": "31ca70ea",
   "metadata": {},
   "source": [
    "# 8.\tPositive or Negative:\n",
    "- o\tTask: Write a program to check if number = -7 is positive or negative. Print \"Negative\" if it is less than zero; otherwise, print \"Positive\".\n",
    "- o\tExample: if number < 0: print(\"Negative\") else: print(\"Positive\")\n"
   ]
  },
  {
   "cell_type": "code",
   "execution_count": 15,
   "id": "fcd0a5c6",
   "metadata": {},
   "outputs": [
    {
     "name": "stdout",
     "output_type": "stream",
     "text": [
      "negative\n"
     ]
    }
   ],
   "source": [
    "num = -7\n",
    "if num<0:\n",
    "    print(\"negative\")\n",
    "else:\n",
    "    print(\"positive\")"
   ]
  },
  {
   "cell_type": "markdown",
   "id": "b8908ee8",
   "metadata": {},
   "source": [
    "\n",
    "# 9.\tString Length:\n",
    "- o\tTask: Given the string text = \"Python\", print \"Short\" if the length is less than 5 characters, otherwise print \"Long\".\n",
    "- o\tExample: if len(text) < 5: print(\"Short\") else: print(\"Long\")\n"
   ]
  },
  {
   "cell_type": "code",
   "execution_count": 16,
   "id": "9d373c12",
   "metadata": {},
   "outputs": [
    {
     "name": "stdout",
     "output_type": "stream",
     "text": [
      "long\n"
     ]
    }
   ],
   "source": [
    "txt = \"python\"\n",
    "if len(txt)<5:\n",
    "    print(\"short\")\n",
    "else:\n",
    "    print(\"long\")"
   ]
  },
  {
   "cell_type": "markdown",
   "id": "7605915e",
   "metadata": {},
   "source": [
    "# 10.\tGrade Evaluation:\n",
    "- o\tTask: Check if a student’s score score = 85 is above or below 50 and print \"Pass\" if the score is greater than or equal to 50; otherwise, print \"Fail\".\n",
    "- o\tExample: if score >= 50: print(\"Pass\") else: print(\"Fail\")\n"
   ]
  },
  {
   "cell_type": "code",
   "execution_count": 17,
   "id": "ce37a4f8",
   "metadata": {},
   "outputs": [
    {
     "name": "stdout",
     "output_type": "stream",
     "text": [
      "pass\n"
     ]
    }
   ],
   "source": [
    "score = 85\n",
    "if score >= 50:\n",
    "    print(\"pass\")\n",
    "else:\n",
    "    print(\"fail\")"
   ]
  },
  {
   "cell_type": "markdown",
   "id": "b8d1a512",
   "metadata": {},
   "source": [
    "# if-elif-else Statements\n",
    "# 11.\tTemperature Range:\n",
    "- Task: Write a program to categorize the temperature temp = 15 into \"Cold\", \"Warm\", or \"Hot\". Print \"Cold\" for temperatures below 10, \"Warm\" for temperatures between 10 and 25, and \"Hot\" for temperatures above 25.\n"
   ]
  },
  {
   "cell_type": "code",
   "execution_count": 54,
   "id": "b2830b43",
   "metadata": {},
   "outputs": [
    {
     "name": "stdout",
     "output_type": "stream",
     "text": [
      "warm\n"
     ]
    }
   ],
   "source": [
    "temp = 15\n",
    "if temp < 10:\n",
    "    print(\"cold\")\n",
    "elif temp>10 and temp<=25:\n",
    "    print(\"warm\")\n",
    "else:\n",
    "    print(\"hot\")"
   ]
  },
  {
   "cell_type": "markdown",
   "id": "6091ce23",
   "metadata": {},
   "source": [
    "\n",
    "# 12.\tDay of the Week:\n",
    "- o\tTask: Given day = 3, print the name of the day in the week, e.g., \"Monday\", \"Tuesday\", etc. (1 for Monday, 2 for Tuesday, etc.).\n",
    "\n"
   ]
  },
  {
   "cell_type": "code",
   "execution_count": null,
   "id": "2fc4444c",
   "metadata": {},
   "outputs": [
    {
     "name": "stdout",
     "output_type": "stream",
     "text": [
      "thursday\n"
     ]
    }
   ],
   "source": [
    "day = 3\n",
    "if day == 1:\n",
    "    print(\"monday\")\n",
    "elif day == 2:\n",
    "    print(\"tuesday\")\n",
    "elif day == 3:\n",
    "    print(\"wednesday\")\n",
    "elif day == 4:\n",
    "    print(\"thursday\")\n",
    "    "
   ]
  },
  {
   "cell_type": "markdown",
   "id": "9ec1aec3",
   "metadata": {},
   "source": [
    "# 13.\tNumber Classification:\n",
    "-\tTask: Classify the number num = -5 as \"Negative\", \"Zero\", or \"Positive\".\n"
   ]
  },
  {
   "cell_type": "code",
   "execution_count": 33,
   "id": "0f4cc03d",
   "metadata": {},
   "outputs": [
    {
     "name": "stdout",
     "output_type": "stream",
     "text": [
      "negative\n"
     ]
    }
   ],
   "source": [
    "num = -5\n",
    "if num>0:\n",
    "    print(\"positive\")\n",
    "elif num<0:\n",
    "    print(\"negative\")\n",
    "elif num ==0:\n",
    "    print(\"zero\")"
   ]
  },
  {
   "cell_type": "markdown",
   "id": "2c6a57c1",
   "metadata": {},
   "source": [
    "# 14.\tDiscount Eligibility:\n",
    "-\tTask: Determine if a customer with purchase_amount = 150 is eligible for a discount. Print \"10% discount\" if the amount is over 100, \"5% discount\" if over 50, and \"No discount\" otherwise.\n",
    "\n"
   ]
  },
  {
   "cell_type": "code",
   "execution_count": null,
   "id": "f67513af",
   "metadata": {},
   "outputs": [
    {
     "name": "stdout",
     "output_type": "stream",
     "text": [
      "5% discount\n"
     ]
    }
   ],
   "source": [
    "purchase_amount = 150\n",
    "if purchase_amount>100:\n",
    "    print(\"10% discount\")\n",
    "elif purchase_amount>50:\n",
    "    print(\"5% discount\")\n",
    "else:\n",
    "    print(\"no discount\")\n"
   ]
  },
  {
   "cell_type": "markdown",
   "id": "e5d7f6db",
   "metadata": {},
   "source": [
    "15.\tAge Group:\n",
    "o\tTask: Given an age age = 16, print the age group: \"Child\" (0-12), \"Teenager\" (13-19), \"Adult\" (20-64), or \"Senior\" (65 and over).\n"
   ]
  },
  {
   "cell_type": "code",
   "execution_count": 50,
   "id": "37ab61c2",
   "metadata": {},
   "outputs": [
    {
     "name": "stdout",
     "output_type": "stream",
     "text": [
      "teenager\n"
     ]
    }
   ],
   "source": [
    "age = 16\n",
    "if age > 0 and age <=12:\n",
    "    print(\"child\")\n",
    "elif age>13 and age<19:\n",
    "    print(\"teenager\")\n",
    "elif age>20 and age<64:\n",
    "    print(\"adult\")\n",
    "else:\n",
    "    print(\"senior\")\n"
   ]
  },
  {
   "cell_type": "markdown",
   "id": "e3c160b5",
   "metadata": {},
   "source": [
    "# Nested if Statements\n",
    "# 16.\tNested Age Check:\n",
    "-\tTask: Given age = 25, check if the person is a \"Young Adult\" (18-30) or \"Adult\" (31 and over). Print \"Young Adult\" if true, otherwise \"Adult\".\n"
   ]
  },
  {
   "cell_type": "code",
   "execution_count": 57,
   "id": "d9cb0bd1",
   "metadata": {},
   "outputs": [
    {
     "name": "stdout",
     "output_type": "stream",
     "text": [
      " young adult\n"
     ]
    }
   ],
   "source": [
    "age = 25\n",
    "if age>=18:\n",
    "    if age<=30:\n",
    "        print(\" young adult\")\n",
    "    else:\n",
    "        print(\"adult\")\n",
    "else:\n",
    "    (\"below 18\")\n",
    "    "
   ]
  },
  {
   "cell_type": "markdown",
   "id": "6a90f9d5",
   "metadata": {},
   "source": [
    "\n",
    "# 17.\tComplex Temperature Check:\n",
    "-\tTask: Given temperature = 22, determine if it’s \"Cold\" (below 10), \"Cool\" (10-20), or \"Warm\" (21 and above). Print the corresponding category.\n",
    "\n"
   ]
  },
  {
   "cell_type": "code",
   "execution_count": 62,
   "id": "02f83777",
   "metadata": {},
   "outputs": [
    {
     "name": "stdout",
     "output_type": "stream",
     "text": [
      "warm\n"
     ]
    }
   ],
   "source": [
    "temp = 22\n",
    "if temp< 10:\n",
    "    if temp>10 and temp<20:\n",
    "        print(\"cool\")\n",
    "    else:\n",
    "        print(\"cold\")\n",
    "else:\n",
    "    print(\"warm\")"
   ]
  },
  {
   "cell_type": "code",
   "execution_count": 66,
   "id": "ce612fa1",
   "metadata": {},
   "outputs": [
    {
     "name": "stdout",
     "output_type": "stream",
     "text": [
      "Warm\n"
     ]
    }
   ],
   "source": [
    "tem = 22\n",
    "if tem < 10:\n",
    "    print(\"cold\")\n",
    "else:\n",
    "    if tem <= 20:\n",
    "        print(\"Cool\")\n",
    "    else:\n",
    "        print(\"Warm\")"
   ]
  },
  {
   "cell_type": "markdown",
   "id": "1501cda9",
   "metadata": {},
   "source": [
    "# 18.\tNested Grading System:\n",
    "-\tTask: Given score = 82, determine the grade: \"A\" (90-100), \"B\" (80-89), \"C\" (70-79), or \"F\" (below 70).\n"
   ]
  },
  {
   "cell_type": "code",
   "execution_count": 74,
   "id": "8aa3840d",
   "metadata": {},
   "outputs": [
    {
     "name": "stdout",
     "output_type": "stream",
     "text": [
      "Grade B\n"
     ]
    }
   ],
   "source": [
    "score = 85\n",
    "if score>=60:\n",
    "    if score>=70:\n",
    "        if score>=80:\n",
    "            if score>=90:\n",
    "                print(\"Grade A\")\n",
    "            else:\n",
    "                 print(\"Grade B\")\n",
    "        else:\n",
    "           print(\"Grade C\")\n",
    "    else:\n",
    "        print(\"Grade D\")\n",
    "else:\n",
    "    print(\"Grade f\")\n",
    "\n"
   ]
  },
  {
   "cell_type": "markdown",
   "id": "5222faa6",
   "metadata": {},
   "source": [
    "# 19.\tDiscount and Membership Check:\n",
    "-\tTask: Given purchase_amount = 120 and is_member = True, determine if the discount is \"15% discount\" for members with purchases over 100, \"10% discount\" for members with purchases between 50 and 100, or \"No discount\" for non-members.\n"
   ]
  },
  {
   "cell_type": "code",
   "execution_count": 75,
   "id": "2228a782",
   "metadata": {},
   "outputs": [
    {
     "name": "stdout",
     "output_type": "stream",
     "text": [
      "15% discount\n"
     ]
    }
   ],
   "source": [
    "purchase_amount = 150\n",
    "is_member = True\n",
    "if is_member:\n",
    "    if purchase_amount> 100:\n",
    "        print(\"15% discount\")\n",
    "    else:\n",
    "        if purchase_amount>= 50:\n",
    "            print(\"10% discount\")\n",
    "        else:\n",
    "            print(\"no discount\")\n",
    "else:\n",
    "    print(\"no discount\")\n",
    "    \n"
   ]
  },
  {
   "cell_type": "markdown",
   "id": "2ac1e172",
   "metadata": {},
   "source": [
    "# 20.\tEven Odd and Positive Negative Check:\n",
    "-\tTask: Given num = -4, print \"Positive Even\", \"Positive Odd\", \"Negative Even\", or \"Negative Odd\".\n"
   ]
  },
  {
   "cell_type": "code",
   "execution_count": null,
   "id": "a9d345d1",
   "metadata": {},
   "outputs": [
    {
     "name": "stdout",
     "output_type": "stream",
     "text": [
      "negitive even\n"
     ]
    }
   ],
   "source": [
    "num = -4\n",
    "if num>0:\n",
    "    if num%2==0:\n",
    "        print(\"positive even\")\n",
    "    else:\n",
    "        print(\"positive odd\")\n",
    "else:\n",
    "    if num%2==0:\n",
    "        print(\"negative even\")\n",
    "    else:\n",
    "        print(\"negative odd\")\n"
   ]
  },
  {
   "cell_type": "markdown",
   "id": "c47b8abb",
   "metadata": {},
   "source": [
    "# More Complex Conditional Structures \n",
    "# 21.\tCheck Multiple Conditions (Continued):\n",
    "- Task: Given age = 45 and income = 60000, print \"Middle-aged High Income\" if the age is between 40 and 60 and the income is above 50000; otherwise, print \"Other\".\n",
    "\n",
    " "
   ]
  },
  {
   "cell_type": "code",
   "execution_count": 78,
   "id": "66f5d691",
   "metadata": {},
   "outputs": [
    {
     "name": "stdout",
     "output_type": "stream",
     "text": [
      "middle-aged high income\n"
     ]
    }
   ],
   "source": [
    "age = 45\n",
    "income = 60000\n",
    "if age >40 and age<60 and income>50000:\n",
    "    print(\"middle-aged high income\")\n",
    "else:\n",
    "    print(\"other\")"
   ]
  },
  {
   "cell_type": "markdown",
   "id": "25c4d1b3",
   "metadata": {},
   "source": [
    "# 22.\tNested Grade and Age Check:\n",
    "   -\tTask: Given score = 85 and age = 17, print \"Teenager with A Grade\" if the score is between 85 and 100 and the age is between 13 and 19; otherwise, print \"Other\".\n"
   ]
  },
  {
   "cell_type": "code",
   "execution_count": 80,
   "id": "481cbe73",
   "metadata": {},
   "outputs": [
    {
     "name": "stdout",
     "output_type": "stream",
     "text": [
      "Teenager with A Grade\n"
     ]
    }
   ],
   "source": [
    "score = 85\n",
    "age = 17\n",
    "\n",
    "if score >= 85 and score <= 100:\n",
    "    if age >= 13 and age <= 19:\n",
    "        print(\"Teenager with A Grade\")\n",
    "    else:\n",
    "        print(\"Other\")\n",
    "else:\n",
    "    print(\"Other\")\n",
    "\n"
   ]
  },
  {
   "cell_type": "markdown",
   "id": "072a31fe",
   "metadata": {},
   "source": [
    "# 23.\tDiscount Based on Amount and Membership:\n",
    "-\tTask: Given purchase_amount = 80 and is_member = False, print \"10% discount\" if the amount is over 75; otherwise, print \"No discount\". If the user is a member and the amount is over 50, print \"15% discount\".\n"
   ]
  },
  {
   "cell_type": "code",
   "execution_count": 84,
   "id": "fa63fd9b",
   "metadata": {},
   "outputs": [
    {
     "name": "stdout",
     "output_type": "stream",
     "text": [
      "10% discount\n"
     ]
    }
   ],
   "source": [
    "purchase_amount = 85\n",
    "is_member = False\n",
    "\n",
    "if is_member:\n",
    "    if purchase_amount > 50:\n",
    "        print(\"15% discount\")\n",
    "    else:\n",
    "        print(\"No discount\")\n",
    "else:\n",
    "    if purchase_amount > 75:\n",
    "        print(\"10% discount\")\n",
    "    else:\n",
    "        print(\"No discount\")\n"
   ]
  },
  {
   "cell_type": "markdown",
   "id": "0d0b86ab",
   "metadata": {},
   "source": [
    "# 24.\tNested Condition with Range Check:\n",
    "-\tTask: Given value = 75, check if the value is between 50 and 100. Print \"Within range\" if true, otherwise check if it's less than 50 and print \"Below range\", otherwise print \"Above range\".\n"
   ]
  },
  {
   "cell_type": "code",
   "execution_count": 90,
   "id": "e1461e0a",
   "metadata": {},
   "outputs": [
    {
     "name": "stdout",
     "output_type": "stream",
     "text": [
      "within range\n"
     ]
    }
   ],
   "source": [
    "value = 75\n",
    "if value >50 and value < 100:\n",
    "    print(\"within range\")\n",
    "else:\n",
    "    if value < 50:\n",
    "        print(\"below range\")\n",
    "    else:\n",
    "        print(\"Above range\")"
   ]
  },
  {
   "cell_type": "markdown",
   "id": "d83ccd15",
   "metadata": {},
   "source": [
    "# 25.\tCategorize Age into Groups:\n",
    "-\tTask: Given age = 70, categorize into \"Child\" (0-12), \"Teenager\" (13-19), \"Adult\" (20-64), or \"Senior\" (65 and over). Print the appropriate category.\n",
    "\n"
   ]
  },
  {
   "cell_type": "code",
   "execution_count": 91,
   "id": "a73d635c",
   "metadata": {},
   "outputs": [
    {
     "name": "stdout",
     "output_type": "stream",
     "text": [
      "Senior\n"
     ]
    }
   ],
   "source": [
    "age = 70\n",
    "\n",
    "if age >= 0 and age <= 12:\n",
    "    print(\"Child\")\n",
    "elif age >= 13 and age <= 19:\n",
    "    print(\"Teenager\")\n",
    "elif age >= 20 and age <= 64:\n",
    "    print(\"Adult\")\n",
    "elif age >= 65:\n",
    "    print(\"Senior\")\n",
    "else:\n",
    "    print(\"Invalid age\")\n",
    "\n",
    "\n"
   ]
  },
  {
   "cell_type": "markdown",
   "id": "645bfda9",
   "metadata": {
    "vscode": {
     "languageId": "bat"
    }
   },
   "source": [
    "\n",
    "<div style=\"background-color: PINK; color: #fff; padding: 30px; text-align: center;\">\n",
    "    <h1>END!\n",
    "        <!--- Devashish Kumar | Tech Skills Trainer | CodroidHub Private Limited | AI/ML Consultant --->\n",
    "</h1> </div>"
   ]
  },
  {
   "cell_type": "markdown",
   "id": "f7b2bfb1",
   "metadata": {},
   "source": [
    "<div style=\"background-color: #002147; color: #fff; padding: 30px; text-align: center;\">\n",
    "    <h1>THANK YOU!\n",
    "        <!--- Devashish Kumar | Tech Skills Trainer | CodroidHub Private Limited | AI/ML Consultant --->\n",
    "</h1> </div>"
   ]
  },
  {
   "cell_type": "markdown",
   "id": "8510e0f9",
   "metadata": {},
   "source": []
  }
 ],
 "metadata": {
  "kernelspec": {
   "display_name": "base",
   "language": "python",
   "name": "python3"
  },
  "language_info": {
   "codemirror_mode": {
    "name": "ipython",
    "version": 3
   },
   "file_extension": ".py",
   "mimetype": "text/x-python",
   "name": "python",
   "nbconvert_exporter": "python",
   "pygments_lexer": "ipython3",
   "version": "3.12.4"
  }
 },
 "nbformat": 4,
 "nbformat_minor": 5
}
