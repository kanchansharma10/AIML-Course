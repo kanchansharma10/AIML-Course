{
 "cells": [
  {
   "cell_type": "markdown",
   "id": "cf39f3f6",
   "metadata": {},
   "source": [
    "<div style=\"background-color: #add8e6; padding: 10px; height: 70px; border-radius: 15px;\">\n",
    "    <div style=\"font-family: 'Georgia', serif; font-size: 20px; padding: 10px; text-align: right; position: absolute; right: 20px;\">\n",
    "        Kanchan Sharma <br>\n",
    "        <span style=\"font-family: 'Arial', sans-serif;font-size: 12px; color: #0a0a0a;\">Tech Skills Trainee | AI/ML Bootcamp</span> \n",
    "    </div>\n",
    "</div>"
   ]
  },
  {
   "cell_type": "markdown",
   "id": "1ed464d9",
   "metadata": {},
   "source": [
    "<div style=\"background-color: #002147; padding: 10px; text-align: center; color: white; font-size: 32px; font-family: 'Arial', sans-serif;\">\n",
    "   user defined function  <br>\n",
    "    <h3 style=\"text-align: center; color: white; font-size: 15px; font-family: 'Arial', sans-serif;\"></h3>\n",
    "</div>"
   ]
  },
  {
   "cell_type": "code",
   "execution_count": 2,
   "id": "dfe4797f",
   "metadata": {},
   "outputs": [],
   "source": [
    "def total_three(a,b,c):\n",
    "    return a+b+c"
   ]
  },
  {
   "cell_type": "code",
   "execution_count": 3,
   "id": "663d7581",
   "metadata": {},
   "outputs": [
    {
     "data": {
      "text/plain": [
       "60"
      ]
     },
     "execution_count": 3,
     "metadata": {},
     "output_type": "execute_result"
    }
   ],
   "source": [
    "total_three(10,20,30)"
   ]
  },
  {
   "cell_type": "code",
   "execution_count": 4,
   "id": "380b090f",
   "metadata": {},
   "outputs": [
    {
     "ename": "TypeError",
     "evalue": "total_three() missing 1 required positional argument: 'c'",
     "output_type": "error",
     "traceback": [
      "\u001b[1;31m---------------------------------------------------------------------------\u001b[0m",
      "\u001b[1;31mTypeError\u001b[0m                                 Traceback (most recent call last)",
      "Cell \u001b[1;32mIn[4], line 1\u001b[0m\n\u001b[1;32m----> 1\u001b[0m \u001b[43mtotal_three\u001b[49m\u001b[43m(\u001b[49m\u001b[38;5;241;43m10\u001b[39;49m\u001b[43m,\u001b[49m\u001b[38;5;241;43m20\u001b[39;49m\u001b[43m)\u001b[49m\n",
      "\u001b[1;31mTypeError\u001b[0m: total_three() missing 1 required positional argument: 'c'"
     ]
    }
   ],
   "source": [
    "total_three(10,20)"
   ]
  },
  {
   "cell_type": "code",
   "execution_count": 5,
   "id": "82d24d99",
   "metadata": {},
   "outputs": [
    {
     "ename": "TypeError",
     "evalue": "total_three() takes 3 positional arguments but 4 were given",
     "output_type": "error",
     "traceback": [
      "\u001b[1;31m---------------------------------------------------------------------------\u001b[0m",
      "\u001b[1;31mTypeError\u001b[0m                                 Traceback (most recent call last)",
      "Cell \u001b[1;32mIn[5], line 1\u001b[0m\n\u001b[1;32m----> 1\u001b[0m \u001b[43mtotal_three\u001b[49m\u001b[43m(\u001b[49m\u001b[38;5;241;43m10\u001b[39;49m\u001b[43m,\u001b[49m\u001b[38;5;241;43m20\u001b[39;49m\u001b[43m,\u001b[49m\u001b[38;5;241;43m40\u001b[39;49m\u001b[43m,\u001b[49m\u001b[38;5;241;43m50\u001b[39;49m\u001b[43m)\u001b[49m\n",
      "\u001b[1;31mTypeError\u001b[0m: total_three() takes 3 positional arguments but 4 were given"
     ]
    }
   ],
   "source": [
    "total_three(10,20,40,50)"
   ]
  },
  {
   "cell_type": "code",
   "execution_count": 6,
   "id": "92a7567e",
   "metadata": {},
   "outputs": [],
   "source": [
    " # 5 User define function with Non keywords argument or variable positional argument(*args)\n",
    " # variable input\n",
    "\n",
    "def funtion_name(*args):\n",
    "    return args\n",
    "    \n",
    "def funtion_name(*abc):\n",
    "    return abc\n"
   ]
  },
  {
   "cell_type": "code",
   "execution_count": 7,
   "id": "de0a5748",
   "metadata": {},
   "outputs": [],
   "source": [
    "\n",
    "# *args\n",
    "def function_args(*args):\n",
    "    return type(args)\n",
    "    "
   ]
  },
  {
   "cell_type": "code",
   "execution_count": 8,
   "id": "9884014a",
   "metadata": {},
   "outputs": [
    {
     "data": {
      "text/plain": [
       "tuple"
      ]
     },
     "execution_count": 8,
     "metadata": {},
     "output_type": "execute_result"
    }
   ],
   "source": [
    "function_args()"
   ]
  },
  {
   "cell_type": "code",
   "execution_count": 9,
   "id": "ff85e786",
   "metadata": {},
   "outputs": [],
   "source": [
    "def function_array(*args):\n",
    "    return args"
   ]
  },
  {
   "cell_type": "code",
   "execution_count": 10,
   "id": "103e3f49",
   "metadata": {},
   "outputs": [
    {
     "data": {
      "text/plain": [
       "(10, 203, 45, 6789)"
      ]
     },
     "execution_count": 10,
     "metadata": {},
     "output_type": "execute_result"
    }
   ],
   "source": [
    "function_array(10,203,45,6789)"
   ]
  },
  {
   "cell_type": "code",
   "execution_count": 11,
   "id": "22bd6002",
   "metadata": {},
   "outputs": [
    {
     "data": {
      "text/plain": [
       "(10, 203, 45)"
      ]
     },
     "execution_count": 11,
     "metadata": {},
     "output_type": "execute_result"
    }
   ],
   "source": [
    "function_array(10,203,45)"
   ]
  },
  {
   "cell_type": "code",
   "execution_count": 12,
   "id": "98051a01",
   "metadata": {},
   "outputs": [],
   "source": [
    "def total_any(*args):\n",
    "    total=0\n",
    "    for i in args:\n",
    "        total=total+i\n",
    "    return total\n",
    "        "
   ]
  },
  {
   "cell_type": "code",
   "execution_count": 13,
   "id": "f42e5191",
   "metadata": {},
   "outputs": [
    {
     "data": {
      "text/plain": [
       "1099"
      ]
     },
     "execution_count": 13,
     "metadata": {},
     "output_type": "execute_result"
    }
   ],
   "source": [
    "total_any(29,890,90,90)"
   ]
  },
  {
   "cell_type": "code",
   "execution_count": 15,
   "id": "aa6c93f4",
   "metadata": {},
   "outputs": [],
   "source": [
    "def total_any(*args):\n",
    "    return sum(args)\n"
   ]
  },
  {
   "cell_type": "code",
   "execution_count": 16,
   "id": "8b07050a",
   "metadata": {},
   "outputs": [],
   "source": [
    "# 6-  User define function with keywords argument or keywords positional argument(**kwargs)\n",
    "\n",
    "def funcntion_name(**kwargs):\n",
    "    return kwargs"
   ]
  },
  {
   "cell_type": "code",
   "execution_count": 17,
   "id": "b1334ab6",
   "metadata": {},
   "outputs": [],
   "source": [
    "def funcntion_name(**kwargs):\n",
    "    return type(kwargs)"
   ]
  },
  {
   "cell_type": "code",
   "execution_count": 18,
   "id": "02c44356",
   "metadata": {},
   "outputs": [
    {
     "data": {
      "text/plain": [
       "dict"
      ]
     },
     "execution_count": 18,
     "metadata": {},
     "output_type": "execute_result"
    }
   ],
   "source": [
    "\n",
    "funcntion_name()"
   ]
  },
  {
   "cell_type": "code",
   "execution_count": 19,
   "id": "05940c70",
   "metadata": {},
   "outputs": [],
   "source": [
    "def person_summary(**kwargs):\n",
    "    return kwargs"
   ]
  },
  {
   "cell_type": "code",
   "execution_count": 20,
   "id": "25139227",
   "metadata": {},
   "outputs": [
    {
     "data": {
      "text/plain": [
       "{'Name': 'Ram', 'AGE': 60, 'CITY': 'NOIDA'}"
      ]
     },
     "execution_count": 20,
     "metadata": {},
     "output_type": "execute_result"
    }
   ],
   "source": [
    "person_summary(Name=\"Ram\",AGE=60, CITY=\"NOIDA\")"
   ]
  },
  {
   "cell_type": "code",
   "execution_count": 21,
   "id": "e318f458",
   "metadata": {},
   "outputs": [
    {
     "data": {
      "text/plain": [
       "{'Name': 'Ram', 'AGE': 60, 'CITY': 'NOIDA', 'RESULT': 'pass'}"
      ]
     },
     "execution_count": 21,
     "metadata": {},
     "output_type": "execute_result"
    }
   ],
   "source": [
    "person_summary(Name=\"Ram\",AGE=60, CITY=\"NOIDA\", RESULT=\"pass\")"
   ]
  },
  {
   "cell_type": "code",
   "execution_count": 22,
   "id": "00dd12b8",
   "metadata": {},
   "outputs": [],
   "source": [
    "def person_summary(**kwargs):\n",
    "    for i,j in kwargs.items():\n",
    "        print(f'{i} is {j}')\n"
   ]
  },
  {
   "cell_type": "code",
   "execution_count": 23,
   "id": "22bb8fb3",
   "metadata": {},
   "outputs": [
    {
     "name": "stdout",
     "output_type": "stream",
     "text": [
      "Name is Ram\n",
      "AGE is 60\n",
      "CITY is NOIDA\n",
      "RESULT is pass\n"
     ]
    }
   ],
   "source": [
    "person_summary(Name=\"Ram\",AGE=60, CITY=\"NOIDA\", RESULT=\"pass\")"
   ]
  },
  {
   "cell_type": "code",
   "execution_count": 24,
   "id": "9b0480b2",
   "metadata": {},
   "outputs": [],
   "source": [
    "dt={'Name': 'Ram', 'AGE': 60, 'CITY': 'NOIDA', 'RESULT': 'pass'}"
   ]
  },
  {
   "cell_type": "code",
   "execution_count": 25,
   "id": "f6c0618a",
   "metadata": {},
   "outputs": [
    {
     "data": {
      "text/plain": [
       "dict_keys(['Name', 'AGE', 'CITY', 'RESULT'])"
      ]
     },
     "execution_count": 25,
     "metadata": {},
     "output_type": "execute_result"
    }
   ],
   "source": [
    "dt.keys()"
   ]
  },
  {
   "cell_type": "code",
   "execution_count": 26,
   "id": "16c54be8",
   "metadata": {},
   "outputs": [
    {
     "data": {
      "text/plain": [
       "dict_values(['Ram', 60, 'NOIDA', 'pass'])"
      ]
     },
     "execution_count": 26,
     "metadata": {},
     "output_type": "execute_result"
    }
   ],
   "source": [
    "dt.values()"
   ]
  },
  {
   "cell_type": "code",
   "execution_count": 27,
   "id": "74588701",
   "metadata": {},
   "outputs": [
    {
     "data": {
      "text/plain": [
       "dict_items([('Name', 'Ram'), ('AGE', 60), ('CITY', 'NOIDA'), ('RESULT', 'pass')])"
      ]
     },
     "execution_count": 27,
     "metadata": {},
     "output_type": "execute_result"
    }
   ],
   "source": [
    "dt.items()"
   ]
  },
  {
   "cell_type": "code",
   "execution_count": 28,
   "id": "04cf4f85",
   "metadata": {},
   "outputs": [],
   "source": [
    "import pandas as pd\n",
    "# Table : DataFrame"
   ]
  },
  {
   "cell_type": "code",
   "execution_count": 29,
   "id": "2515e4c2",
   "metadata": {},
   "outputs": [],
   "source": [
    "def person_summary(**kwargs):\n",
    "     return pd.DataFrame(kwargs)"
   ]
  },
  {
   "cell_type": "code",
   "execution_count": 33,
   "id": "6527face",
   "metadata": {},
   "outputs": [],
   "source": [
    "\n",
    "# Recursive Function \n",
    "             # Function in side function\n"
   ]
  },
  {
   "cell_type": "code",
   "execution_count": 34,
   "id": "92c8ca1e",
   "metadata": {},
   "outputs": [],
   "source": [
    "def factorial_num(num):\n",
    "    if num==0:\n",
    "        return 1\n",
    "    else:\n",
    "        return num*factorial_num(num-1)    "
   ]
  },
  {
   "cell_type": "code",
   "execution_count": 35,
   "id": "f38cbb9d",
   "metadata": {},
   "outputs": [
    {
     "data": {
      "text/plain": [
       "1"
      ]
     },
     "execution_count": 35,
     "metadata": {},
     "output_type": "execute_result"
    }
   ],
   "source": [
    "factorial_num(0)"
   ]
  },
  {
   "cell_type": "code",
   "execution_count": 36,
   "id": "2ed47e85",
   "metadata": {},
   "outputs": [
    {
     "data": {
      "text/plain": [
       "40320"
      ]
     },
     "execution_count": 36,
     "metadata": {},
     "output_type": "execute_result"
    }
   ],
   "source": [
    "factorial_num(8)"
   ]
  },
  {
   "cell_type": "code",
   "execution_count": 37,
   "id": "5299eeef",
   "metadata": {},
   "outputs": [
    {
     "data": {
      "text/plain": [
       "6"
      ]
     },
     "execution_count": 37,
     "metadata": {},
     "output_type": "execute_result"
    }
   ],
   "source": [
    "factorial_num(3)"
   ]
  },
  {
   "cell_type": "code",
   "execution_count": 38,
   "id": "fed87c82",
   "metadata": {},
   "outputs": [
    {
     "data": {
      "text/plain": [
       "24"
      ]
     },
     "execution_count": 38,
     "metadata": {},
     "output_type": "execute_result"
    }
   ],
   "source": [
    "1*2*3*4"
   ]
  },
  {
   "cell_type": "code",
   "execution_count": 39,
   "id": "c4424376",
   "metadata": {},
   "outputs": [
    {
     "data": {
      "text/plain": [
       "120"
      ]
     },
     "execution_count": 39,
     "metadata": {},
     "output_type": "execute_result"
    }
   ],
   "source": [
    "1*2*3*4*5"
   ]
  },
  {
   "cell_type": "markdown",
   "id": "38f967d5",
   "metadata": {},
   "source": [
    "\n",
    "<div style=\"background-color: PINK; color: #fff; padding: 30px; text-align: center;\">\n",
    "    <h1>END!\n",
    "        <!--- Devashish Kumar | Tech Skills Trainer | CodroidHub Private Limited | AI/ML Consultant --->\n",
    "</h1> </div>"
   ]
  },
  {
   "cell_type": "markdown",
   "id": "ac1e93d6",
   "metadata": {},
   "source": [
    "<div style=\"background-color: #002147; color: #fff; padding: 30px; text-align: center;\">\n",
    "    <h1>THANK YOU!\n",
    "        <!--- Devashish Kumar | Tech Skills Trainer | CodroidHub Private Limited | AI/ML Consultant --->\n",
    "</h1> </div>"
   ]
  },
  {
   "cell_type": "markdown",
   "id": "f7366043",
   "metadata": {},
   "source": []
  }
 ],
 "metadata": {
  "kernelspec": {
   "display_name": "base",
   "language": "python",
   "name": "python3"
  },
  "language_info": {
   "codemirror_mode": {
    "name": "ipython",
    "version": 3
   },
   "file_extension": ".py",
   "mimetype": "text/x-python",
   "name": "python",
   "nbconvert_exporter": "python",
   "pygments_lexer": "ipython3",
   "version": "3.12.4"
  }
 },
 "nbformat": 4,
 "nbformat_minor": 5
}
