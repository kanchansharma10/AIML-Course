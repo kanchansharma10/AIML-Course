{
 "cells": [
  {
   "cell_type": "markdown",
   "id": "ca4e6d30",
   "metadata": {},
   "source": [
    "<div style=\"background-color: #add8e6; padding: 10px; height: 70px; border-radius: 15px;\">\n",
    "    <div style=\"font-family: 'Georgia', serif; font-size: 20px; padding: 10px; text-align: right; position: absolute; right: 20px;\">\n",
    "        Kanchan Sharma <br>\n",
    "        <span style=\"font-family: 'Arial', sans-serif;font-size: 12px; color: #0a0a0a;\">Tech Skills Trainee | AI/ML Bootcamp</span> \n",
    "    </div>\n",
    "</div>"
   ]
  },
  {
   "cell_type": "markdown",
   "id": "b8c8a7c6",
   "metadata": {},
   "source": [
    "<div style=\"background-color: #002147; padding: 10px; text-align: center; color: white; font-size: 32px; font-family: 'Arial', sans-serif;\">\n",
    "Basics Of Python  <br>\n",
    "    <h3 style=\"text-align: center; color: white; font-size: 15px; font-family: 'Arial', sans-serif;\"></h3>\n",
    "</div>"
   ]
  },
  {
   "cell_type": "markdown",
   "id": "e4f7656d",
   "metadata": {},
   "source": [
    "<h3>1. Hello World</h3>\n",
    "The print() function is used to display output on the screen. This is usually the first program written in any language.\n"
   ]
  },
  {
   "cell_type": "code",
   "execution_count": 1,
   "id": "52fc5bb8",
   "metadata": {},
   "outputs": [
    {
     "name": "stdout",
     "output_type": "stream",
     "text": [
      "Hello, World!\n"
     ]
    }
   ],
   "source": [
    "print(\"Hello, World!\")\n"
   ]
  },
  {
   "cell_type": "markdown",
   "id": "44db3a51",
   "metadata": {},
   "source": [
    "<h3>2. Variables and Data Types</h3>\n",
    "Variables store information. Python automatically detects the type (like int, float, str, etc."
   ]
  },
  {
   "cell_type": "code",
   "execution_count": 2,
   "id": "b003ac5f",
   "metadata": {},
   "outputs": [
    {
     "name": "stdout",
     "output_type": "stream",
     "text": [
      "Alice 25 5.6 True\n"
     ]
    }
   ],
   "source": [
    "name = \"Alice\"        # String (text)\n",
    "age = 25              # Integer (whole number)\n",
    "height = 5.6          # Float (decimal)\n",
    "is_student = True     # Boolean (True/False)\n",
    "\n",
    "print(name, age, height, is_student)\n"
   ]
  },
  {
   "cell_type": "markdown",
   "id": "cdae456a",
   "metadata": {},
   "source": [
    "<h3>3. User Input</h3>\n",
    "The input() function allows users to enter data. It always returns a string, so sometimes you need to convert it (e.g., to int)."
   ]
  },
  {
   "cell_type": "code",
   "execution_count": 3,
   "id": "440deb25",
   "metadata": {},
   "outputs": [
    {
     "name": "stdout",
     "output_type": "stream",
     "text": [
      "Hello kanchan\n"
     ]
    }
   ],
   "source": [
    "name = input(\"Enter your name: \")\n",
    "print(\"Hello\", name)\n"
   ]
  },
  {
   "cell_type": "markdown",
   "id": "9adaa287",
   "metadata": {},
   "source": [
    "<h3>4. Operator</h3>\n",
    "Operators perform operations on variables and values:\n",
    "\n",
    "+: Addition\n",
    "\n",
    "-: Subtraction\n",
    "\n",
    "*: Multiplication\n",
    "\n",
    "/: Division\n",
    "\n",
    "%: Modulus (remainder)\n",
    "\n",
    "**: Exponent (power)"
   ]
  },
  {
   "cell_type": "code",
   "execution_count": 4,
   "id": "7181f2db",
   "metadata": {},
   "outputs": [
    {
     "name": "stdout",
     "output_type": "stream",
     "text": [
      "13\n",
      "7\n",
      "30\n",
      "3.3333333333333335\n",
      "1\n",
      "1000\n"
     ]
    }
   ],
   "source": [
    "a = 10\n",
    "b = 3\n",
    "\n",
    "print(a + b)  # 13\n",
    "print(a - b)  # 7\n",
    "print(a * b)  # 30\n",
    "print(a / b)  # 3.33...\n",
    "print(a % b)  # 1\n",
    "print(a ** b) # 1000\n"
   ]
  },
  {
   "cell_type": "markdown",
   "id": "7bcc637f",
   "metadata": {
    "vscode": {
     "languageId": "html"
    }
   },
   "source": [
    "<div style=\"background-color: PINK; color: #fff; padding: 30px; text-align: center;\">\n",
    "    <h1>END!\n",
    "        <!--- Devashish Kumar | Tech Skills Trainer | CodroidHub Private Limited | AI/ML Consultant --->\n",
    "</h1> </div>"
   ]
  },
  {
   "cell_type": "markdown",
   "id": "f4d15ede",
   "metadata": {
    "vscode": {
     "languageId": "html"
    }
   },
   "source": [
    "<div style=\"background-color: #002147; color: #fff; padding: 30px; text-align: center;\">\n",
    "    <h1>THANK YOU!\n",
    "        <!--- Devashish Kumar | Tech Skills Trainer | CodroidHub Private Limited | AI/ML Consultant --->\n",
    "</h1> </div>"
   ]
  }
 ],
 "metadata": {
  "kernelspec": {
   "display_name": "base",
   "language": "python",
   "name": "python3"
  },
  "language_info": {
   "codemirror_mode": {
    "name": "ipython",
    "version": 3
   },
   "file_extension": ".py",
   "mimetype": "text/x-python",
   "name": "python",
   "nbconvert_exporter": "python",
   "pygments_lexer": "ipython3",
   "version": "3.12.4"
  }
 },
 "nbformat": 4,
 "nbformat_minor": 5
}
