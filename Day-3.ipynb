{
 "cells": [
  {
   "cell_type": "markdown",
   "id": "8eaec4a6",
   "metadata": {},
   "source": [
    "<div style=\"background-color: #add8e6; padding: 10px; height: 70px; border-radius: 15px;\">\n",
    "    <div style=\"font-family: 'Georgia', serif; font-size: 20px; padding: 10px; text-align: right; position: absolute; right: 20px;\">\n",
    "        Kanchan Sharma <br>\n",
    "        <span style=\"font-family: 'Arial', sans-serif;font-size: 12px; color: #0a0a0a;\">Tech Skills Trainee | AI/ML Bootcamp</span> \n",
    "    </div>\n",
    "</div>"
   ]
  },
  {
   "cell_type": "markdown",
   "id": "ac0eaa3a",
   "metadata": {},
   "source": [
    "<div style=\"background-color: #002147; padding: 10px; text-align: center; color: white; font-size: 32px; font-family: 'Arial', sans-serif;\">\n",
    "Variables In  Python  <br>\n",
    "    <h3 style=\"text-align: center; color: white; font-size: 15px; font-family: 'Arial', sans-serif;\"></h3>\n",
    "</div>"
   ]
  },
  {
   "cell_type": "markdown",
   "id": "aa40d654",
   "metadata": {},
   "source": [
    "#  What is a Variable?\n",
    "A variable is a name that refers to a value stored in memory. It's like a container where you store data for later use."
   ]
  },
  {
   "cell_type": "raw",
   "id": "cabac0ce",
   "metadata": {
    "vscode": {
     "languageId": "raw"
    }
   },
   "source": [
    "x = 10\n",
    "name = \"Alice\"\n",
    "price = 99.99\n",
    "\n",
    "x, name, and price are variables\n",
    "\n",
    "10, \"Alice\", and 99.99 are the values stored in them\n"
   ]
  },
  {
   "cell_type": "markdown",
   "id": "288107c7",
   "metadata": {},
   "source": [
    "# Key Features of Variables in Python\n",
    "<h3>1. No Need to Declare Type</h3>\n",
    "Python is dynamically typed, so you don’t need to declare the type of a variable."
   ]
  },
  {
   "cell_type": "code",
   "execution_count": 7,
   "id": "606c3d4d",
   "metadata": {},
   "outputs": [
    {
     "name": "stdout",
     "output_type": "stream",
     "text": [
      "hello\n"
     ]
    }
   ],
   "source": [
    "x = 5         \n",
    "x = \"hello\"   \n",
    "print(x)\n"
   ]
  },
  {
   "cell_type": "markdown",
   "id": "e0b3bc87",
   "metadata": {
    "vscode": {
     "languageId": "raw"
    }
   },
   "source": [
    "<h3>2. Can Be Reassigned</h3>\n",
    "You can reassign variables anytime"
   ]
  },
  {
   "cell_type": "code",
   "execution_count": 9,
   "id": "fa69fddc",
   "metadata": {},
   "outputs": [
    {
     "name": "stdout",
     "output_type": "stream",
     "text": [
      "20\n"
     ]
    }
   ],
   "source": [
    "x = 20\n",
    "print(x)\n",
    "\n"
   ]
  },
  {
   "cell_type": "markdown",
   "id": "ba43d430",
   "metadata": {
    "vscode": {
     "languageId": "raw"
    }
   },
   "source": [
    " <h3>3. Case-Sensitive</h3\n",
    "\n",
    "name, Name, and NAME are different variables"
   ]
  },
  {
   "cell_type": "markdown",
   "id": "6a28742c",
   "metadata": {},
   "source": [
    "<h3>4. Must Start with a Letter or Underscore</h3"
   ]
  },
  {
   "cell_type": "code",
   "execution_count": 10,
   "id": "93c1bdf0",
   "metadata": {},
   "outputs": [
    {
     "name": "stdout",
     "output_type": "stream",
     "text": [
      "Sam\n",
      "John\n"
     ]
    }
   ],
   "source": [
    "_name = \"Sam\"\n",
    "name1 = \"John\"\n",
    "print(_name)\n",
    "print(name1)"
   ]
  },
  {
   "cell_type": "markdown",
   "id": "f7d2a77f",
   "metadata": {},
   "source": [
    "<h3>5. Can't Use Keywords</h3\n",
    "\n",
    "You can't name a variable using Python's reserved keywords like if, for, class, etc."
   ]
  },
  {
   "cell_type": "code",
   "execution_count": 11,
   "id": "0cd57ab5",
   "metadata": {},
   "outputs": [
    {
     "name": "stdout",
     "output_type": "stream",
     "text": [
      "25\n"
     ]
    }
   ],
   "source": [
    "age = 25            # good\n",
    "a = 25              # not clear\n",
    "print(age)"
   ]
  },
  {
   "cell_type": "markdown",
   "id": "d34b35ea",
   "metadata": {},
   "source": [
    "<h3>6. Multiple Assignments</h3>\n",
    "You can assign values to multiple variables at once:"
   ]
  },
  {
   "cell_type": "code",
   "execution_count": 12,
   "id": "64d462ab",
   "metadata": {},
   "outputs": [
    {
     "name": "stdout",
     "output_type": "stream",
     "text": [
      "1 2 3\n"
     ]
    }
   ],
   "source": [
    "a, b, c = 1, 2, 3\n",
    "print(a,b,c)"
   ]
  },
  {
   "cell_type": "markdown",
   "id": "c2ed5b3b",
   "metadata": {},
   "source": [
    "\n",
    "Or assign the same value to multiple variables:"
   ]
  },
  {
   "cell_type": "code",
   "execution_count": 14,
   "id": "a37458a7",
   "metadata": {},
   "outputs": [
    {
     "name": "stdout",
     "output_type": "stream",
     "text": [
      "100 100 100\n"
     ]
    }
   ],
   "source": [
    "x = y = z = 100\n",
    "print(x,y,z)"
   ]
  },
  {
   "cell_type": "markdown",
   "id": "fd041e44",
   "metadata": {},
   "source": [
    "<h3>Check Type\n"
   ]
  },
  {
   "cell_type": "code",
   "execution_count": 15,
   "id": "07fcffc6",
   "metadata": {},
   "outputs": [
    {
     "name": "stdout",
     "output_type": "stream",
     "text": [
      "<class 'int'>\n"
     ]
    }
   ],
   "source": [
    "x = 42\n",
    "print(type(x))  \n"
   ]
  },
  {
   "cell_type": "raw",
   "id": "0c8edb5e",
   "metadata": {},
   "source": [
    "\n",
    "📦 Variable Types (Quick List)\n",
    "Type\t         Example\n",
    "int_x          =     10\n",
    "float_price    =    19.99\n",
    "str_name       =   \"Alice\"\n",
    "bool_is_active =    True\n",
    "list_nums      =   [1,2,3]\n",
    "tuple_coords   =    (1,2)\n",
    "dict_user      =   {\"id\":1}\n",
    "set_unique     =   {1,2,3}"
   ]
  },
  {
   "cell_type": "markdown",
   "id": "48939a3f",
   "metadata": {},
   "source": [
    "<div style=\"background-color:rgb(71, 0, 66); padding: 10px; text-align: center; color: white; font-size: 32px; font-family: 'Arial', sans-serif;\">\n",
    "Typecasting In  Python  <br>\n",
    "    <h3 style=\"text-align: center; color: white; font-size: 15px; font-family: 'Arial', sans-serif;\"></h3>\n",
    "</div>"
   ]
  },
  {
   "cell_type": "markdown",
   "id": "079e51c7",
   "metadata": {},
   "source": [
    "# Typecasting"
   ]
  },
  {
   "cell_type": "markdown",
   "id": "163566b6",
   "metadata": {},
   "source": [
    "\n",
    "Typecasting in Python refers to the process of converting a variable from one data type to another. It's a common practice when working with different kinds of data (like converting a string of numbers into an integer so you can perform arithmetic on it). Python provides built-in functions for typecasting."
   ]
  },
  {
   "cell_type": "markdown",
   "id": "cacc10aa",
   "metadata": {},
   "source": [
    "\n",
    "# Types of Typecasting\n",
    "1. Implicit Typecasting (Automatic Conversion): <br>\n",
    "Python automatically converts one data type to another when it's safe and there’s no risk of data loss."
   ]
  },
  {
   "cell_type": "code",
   "execution_count": 1,
   "id": "6d0b77e5",
   "metadata": {},
   "outputs": [
    {
     "name": "stdout",
     "output_type": "stream",
     "text": [
      "13.5\n",
      "<class 'float'>\n"
     ]
    }
   ],
   "source": [
    "a = 10       # int\n",
    "b = 3.5      # float\n",
    "\n",
    "result = a + b\n",
    "print(result)       \n",
    "print(type(result))\n"
   ]
  },
  {
   "cell_type": "markdown",
   "id": "e528cad5",
   "metadata": {},
   "source": [
    "2. Explicit Typecasting (Manual Conversion):<br>\n",
    "You can manually convert one data type to another using functions like:\n",
    "\n",
    "int()\n",
    "\n",
    "float()\n",
    "\n",
    "str()\n",
    "\n",
    "bool()\n",
    "\n",
    "list(), tuple(), set() etc."
   ]
  },
  {
   "cell_type": "markdown",
   "id": "912eb712",
   "metadata": {},
   "source": [
    " <h3>1. int() – Convert to Integer</h3>"
   ]
  },
  {
   "cell_type": "code",
   "execution_count": 2,
   "id": "3657eafb",
   "metadata": {},
   "outputs": [
    {
     "name": "stdout",
     "output_type": "stream",
     "text": [
      "10 <class 'int'>\n"
     ]
    }
   ],
   "source": [
    "x = \"10\"\n",
    "y = int(x)\n",
    "print(y, type(y))  \n"
   ]
  },
  {
   "cell_type": "markdown",
   "id": "4fad9393",
   "metadata": {
    "vscode": {
     "languageId": "html"
    }
   },
   "source": [
    "<h3>2. float() – Convert to Float</h3>"
   ]
  },
  {
   "cell_type": "code",
   "execution_count": 3,
   "id": "927e7b63",
   "metadata": {},
   "outputs": [
    {
     "name": "stdout",
     "output_type": "stream",
     "text": [
      "3.14 <class 'float'>\n"
     ]
    }
   ],
   "source": [
    "x = \"3.14\"\n",
    "y = float(x)\n",
    "print(y, type(y))  \n"
   ]
  },
  {
   "cell_type": "markdown",
   "id": "fe69a3d2",
   "metadata": {},
   "source": [
    "<h3>3. str() – Convert to String</h3"
   ]
  },
  {
   "cell_type": "code",
   "execution_count": 4,
   "id": "7b9be013",
   "metadata": {},
   "outputs": [
    {
     "name": "stdout",
     "output_type": "stream",
     "text": [
      "100 <class 'str'>\n"
     ]
    }
   ],
   "source": [
    "x = 100\n",
    "y = str(x)\n",
    "print(y, type(y))  \n"
   ]
  },
  {
   "cell_type": "markdown",
   "id": "f5437ca9",
   "metadata": {},
   "source": [
    "\n",
    "<h3>4. bool() – Convert to Boolean</h3>"
   ]
  },
  {
   "cell_type": "code",
   "execution_count": 5,
   "id": "6b9cfa87",
   "metadata": {},
   "outputs": [
    {
     "name": "stdout",
     "output_type": "stream",
     "text": [
      "False\n",
      "True\n",
      "False\n",
      "True\n"
     ]
    }
   ],
   "source": [
    "print(bool(0))       # False\n",
    "print(bool(1))       # True\n",
    "print(bool(\"\"))      # False\n",
    "print(bool(\"hello\")) # True\n"
   ]
  },
  {
   "cell_type": "markdown",
   "id": "05e5ce57",
   "metadata": {},
   "source": [
    "\n",
    "<div style=\"background-color: PINK; color: #fff; padding: 30px; text-align: center;\">\n",
    "    <h1>END!\n",
    "        <!--- Devashish Kumar | Tech Skills Trainer | CodroidHub Private Limited | AI/ML Consultant --->\n",
    "</h1> </div>"
   ]
  },
  {
   "cell_type": "markdown",
   "id": "ab7cb654",
   "metadata": {},
   "source": [
    "<div style=\"background-color: #002147; color: #fff; padding: 30px; text-align: center;\">\n",
    "    <h1>THANK YOU!\n",
    "        <!--- Devashish Kumar | Tech Skills Trainer | CodroidHub Private Limited | AI/ML Consultant --->\n",
    "</h1> </div>"
   ]
  }
 ],
 "metadata": {
  "language_info": {
   "name": "python"
  }
 },
 "nbformat": 4,
 "nbformat_minor": 5
}
